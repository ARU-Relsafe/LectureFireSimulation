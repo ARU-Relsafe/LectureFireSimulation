{
 "cells": [
  {
   "cell_type": "markdown",
   "id": "225c3fa5-08bd-41e0-8adc-72fb22243ee7",
   "metadata": {},
   "source": [
    "# Modelling"
   ]
  }
 ],
 "metadata": {
  "kernelspec": {
   "display_name": "Python 3",
   "language": "python",
   "name": "python3"
  },
  "language_info": {
   "codemirror_mode": {
    "name": "ipython",
    "version": 3
   },
   "file_extension": ".py",
   "mimetype": "text/x-python",
   "name": "python",
   "nbconvert_exporter": "python",
   "pygments_lexer": "ipython3",
   "version": "3.8.9"
  }
 },
 "nbformat": 4,
 "nbformat_minor": 5
}
