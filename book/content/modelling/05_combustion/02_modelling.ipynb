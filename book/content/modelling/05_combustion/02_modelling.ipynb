{
 "cells": [
  {
   "cell_type": "markdown",
   "id": "225c3fa5-08bd-41e0-8adc-72fb22243ee7",
   "metadata": {},
   "source": [
    "# Modelling"
   ]
  },
  {
   "cell_type": "markdown",
   "id": "6d8e78c6-4bad-4198-8d0a-254cacc47d0f",
   "metadata": {},
   "source": [
    "## Conserved Scalar Formulation\n",
    "\n",
    "A simple combustion modelling approach is the assumption that chemical processes are infinitely fast, the so called mixed-is-burnt model. It is assumed, that the instantaneous thermostatic state is related to a scalar quantity known as mixture fraction $\\mf f =f(\\vec{x},t)$. It is an artificial quantity that describes the mixing of species and varies in space in time. The individual species concentrations are derived from the mixture fraction.\n",
    "\n",
    "Given a reaction volume, with an inflow of two (representative) species, e.g. fuel $\\mf Y_F$ and air $\\mf Y_A$, and an outflow of a mixture $\\mf Y_M$, the mixture fraction $\\mf f$ is defined as\n",
    "\n",
    "$$\n",
    "\\mf f Y_F + (1-f)Y_A = Y_M \\quad \\Rightarrow \\quad f=\\frac{Y_M - Y_A}{Y_F - Y_A} \\quad .\n",
    "$$\n",
    "\n",
    ":::{figure-md} fig-comb-mf-mixing\n",
    "<img src=\"./figs/mixture-volume.svg\" width=\"60%\">\n",
    "\n",
    "Concept of a mixture / reaction volume.\n",
    ":::\n",
    "\n",
    "\n",
    "Based on that scalar value, the products of the reaction / combustion are determined, as well as the released chemical energy. Following this definition, a volume containing just air leads to $\\mf f=0$ and one with only fuel is represented by $\\mf f=1$. The flame is represented with $\\mf f_{st}$ as the stochiometric mixture of the fuel and the oxydant. In {numref}`fig-comb-mf-table` an example for a simple single step reaction, involving oxygen ($\\mf Y_O$), an inert gas ($\\mf Y_I$), fuel ($\\mf Y_F$), and combustion products ($\\mf Y_P$) is given. \n",
    "\n",
    ":::{figure-md} fig-comb-mf-table\n",
    "<img src=\"./figs/mixture-fraction-simple.svg\" width=\"80%\">\n",
    "\n",
    "Mixture fraction model for a simple single step combustion reaction.\n",
    ":::\n",
    "\n",
    "For a more complex description of, e.g. methane combustion, there are according approaches to generate the mixture-fraction functions for the species concentrations. {numref}`fig-comb-mf-methane-major` and {numref}`fig-comb-mf-methane-minor` illustrate one of them.\n",
    "\n",
    ":::{figure-md} fig-comb-mf-methane-major\n",
    "<img src=\"./figs/yeoh-mixture-fraction-methane-major.png\" width=\"80%\">\n",
    "\n",
    "The major species concentrations for a mixture fraction model with 11 species for the methane combustion. Source: {cite}`Yeoh.2009`.\n",
    ":::\n",
    "\n",
    ":::{figure-md} fig-comb-mf-methane-minor\n",
    "<img src=\"./figs/yeoh-mixture-fraction-methane-minor.png\" width=\"80%\">\n",
    "\n",
    "The minor species concentrations for a mixture fraction model with 11 species for the methane combustion. Source: {cite}`Yeoh.2009`.\n",
    ":::\n",
    "\n",
    "An example for a measurement of the species concentration and temperature as a function of the mixture fraction for a hydrogen-nitrogen mixture fuel is shown in {numref}`fig-comb-mf-measurement-h2n2`.\n",
    "\n",
    ":::{figure-md} fig-comb-mf-measurement-h2n2\n",
    "<img src=\"./figs/yang-measured-mf-h2n2.png\" width=\"60%\">\n",
    "\n",
    "Measured concentration and temperature values for a laminar (subfigure a and b) and a turbulent flame (subfigures c and d). Source: {cite}`Yang.2020`.\n",
    ":::\n",
    "\n",
    "\n",
    "\n",
    "The mixture fraction itself is a conserved scalar and is advected by the flow. Thus its transport equation is the following\n",
    "\n",
    "$$\n",
    "\\mf \\partial_t \\left(\\rho\\, f\\right) + \\nabla\\cdot(\\rho\\vec{v}\\,f) = \\nabla \\cdot \\frac{\\mu}{Sc} \\nabla f \\quad .\n",
    "$$\n",
    "\n",
    "Here the diffusion is approximation is based on the viscosity and the Schmidt number ($\\mf Sc$). In case of a turbulence modell, the according effective values have to be used.\n"
   ]
  },
  {
   "cell_type": "code",
   "execution_count": null,
   "id": "6444a71c-1849-4256-a073-5a242c91ffd3",
   "metadata": {},
   "outputs": [],
   "source": []
  },
  {
   "cell_type": "code",
   "execution_count": null,
   "id": "8b06503e-ec6f-48d3-ada9-1e79adc68507",
   "metadata": {},
   "outputs": [],
   "source": []
  }
 ],
 "metadata": {
  "kernelspec": {
   "display_name": "Python 3",
   "language": "python",
   "name": "python3"
  },
  "language_info": {
   "codemirror_mode": {
    "name": "ipython",
    "version": 3
   },
   "file_extension": ".py",
   "mimetype": "text/x-python",
   "name": "python",
   "nbconvert_exporter": "python",
   "pygments_lexer": "ipython3",
   "version": "3.8.9"
  }
 },
 "nbformat": 4,
 "nbformat_minor": 5
}
