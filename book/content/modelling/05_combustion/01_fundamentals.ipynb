{
 "cells": [
  {
   "cell_type": "markdown",
   "id": "789e097c-8982-4925-a45d-ce5a438ab71d",
   "metadata": {},
   "source": [
    "# Fundamentals"
   ]
  },
  {
   "cell_type": "markdown",
   "id": "13fa81c2-ea67-4d33-b18c-bdf02f3714a1",
   "metadata": {},
   "source": [
    "## Burning Candle\n",
    "\n",
    "A buring candle is a good fire example. Here, once ignited, the flame emitts heat radiation which is absorbed by the candle body. The solid melts and the fluid wax is transported through the wick and evaporates in a endotermic reaction. Through diffusion, the vaporised wax mixes with air and conducts an exothermic reaction, the combustion. The hot combustion products rise and enentually lead to further reactions.\n",
    "\n",
    "The main zones of this process and the characteristic temperatures are shown in {numref}`fig-comb-candle`, with:\n",
    "\n",
    "* **Zone I**: Endotermic vaprisation of the wax,\n",
    "* **Zone II + III**: Decomposition of the wax molecules, diffusive mixing with the ambient air and combustion, and\n",
    "* **Zone IV**: Hot (large) soot particles emitt thermal radiation.  \n",
    "\n",
    ":::{figure-md} fig-comb-candle\n",
    "\n",
    "<img src=\"./figs/roth_candle.jpg\" width=\"60%\">\n",
    "\n",
    "Schematics of a burning candle. Source: {cite}`Roth.2011`.\n",
    ":::\n",
    "\n",
    "## Methane\n",
    "\n",
    "In many of the examples used in this lecture, [methane](https://en.wikipedia.org/wiki/Methane) is used as fuel. Methane is commonly used in everyday life. It is used for heating, cooking and propulsion. Liquified natural gas (LNG) is predominantly methane.\n",
    "\n",
    "A methane molecule consists out of four hydrogen atoms ($\\mf H$) and a single carbon atom ($\\mf C$), see {numref}`fig-comb-methane`.\n",
    "\n",
    "\n",
    ":::{figure-md} fig-comb-methane\n",
    "<img src=\"https://upload.wikimedia.org/wikipedia/commons/9/9b/Methane-2D-dimensions.svg\" width=\"40%\">\n",
    "\n",
    "A methane molecule. Source: [Wikimedia Commons](https://commons.wikimedia.org/wiki/File:Methane-2D-dimensions.svg).\n",
    ":::\n",
    "\n",
    "\n"
   ]
  }
 ],
 "metadata": {
  "kernelspec": {
   "display_name": "Python 3",
   "language": "python",
   "name": "python3"
  },
  "language_info": {
   "codemirror_mode": {
    "name": "ipython",
    "version": 3
   },
   "file_extension": ".py",
   "mimetype": "text/x-python",
   "name": "python",
   "nbconvert_exporter": "python",
   "pygments_lexer": "ipython3",
   "version": "3.8.9"
  }
 },
 "nbformat": 4,
 "nbformat_minor": 5
}
