{
 "cells": [
  {
   "cell_type": "markdown",
   "id": "c859d9e5",
   "metadata": {},
   "source": [
    "# Validation – Heat Transfer"
   ]
  },
  {
   "cell_type": "markdown",
   "id": "5fa25c93",
   "metadata": {},
   "source": [
    "ASTM E1355 - 12 {cite}`ASTM:E1355` is the 'Standard Guide for Evaluating the Predictive Capability of Deterministic Fire Models'\n",
    "It provides a methodology for evaluating the predictive capabilities of a fire model for a specific use. The intent is to cover the whole range of deterministic numerical models which might be used in evaluating the effects of fires in and on structures. It gives a general definition of the terms verification and validation:\n",
    "\n",
    "## Verification\n",
    "The process of determining that the implementation of a calculation method accurately represents the developer’s conceptual description of the calculation method and the solution to the calculation method. It does not imply that the governing equations are appropriate; only that the equations are being solved correctly.\n",
    "\n",
    "## Validation\n",
    "The process of determining the degree to which a calculation method is an accurate representation of the real world from the perspective of the intended uses of the calculation method. It typically involves comparing model results with experimental measurement. Differences that cannot be explained in terms of numerical errors in the model or uncertainty in the measurements are attributed to the assumptions and simplifications of the physical model.\n",
    "\n",
    ":::{figure-md} fig-validation-flowchart\n",
    "\n",
    "<img src=\"figs/validation_verification.svg\" width=\"60%\">\n",
    "\n",
    "Validation and Verification\n",
    ":::\n",
    "\n",
    "\n",
    "### Reality of interest\n",
    "- physical system, data source\n",
    "- hierarchy of experiments, unit\n",
    "\n",
    "### Mathematical model\n",
    "- conceptual and mathematical model\n",
    "- PDEs, geometry, boundary- and initial conditions\n",
    "\n",
    "### Computer model\n",
    "- implementation of mathematical model\n",
    "- numerical solver and algorithms\n",
    "\n",
    "{cite}`ASTM:E1355` describes three basic types of validation calculations:\n",
    "\n",
    "### Blind Calculation:\n",
    "The model user is provided with a basic description of the scenario to be modeled. For this application, the problem description is not exact; the model user is responsible for developing appropriate model inputs from the problem description, including additional details of the geometry, material properties, and fire description, as appropriate.  Additional details necessary to simulate the scenario with a specific model are left to the judgment of the model user.  In addition to illustrating the comparability of models in actual end-use conditions, this will test the ability of those who use the model to develop appropriate input data for the models.\n",
    "\n",
    "### Specified Calculation:\n",
    "The model user is provided with a complete detailed description of model inputs, including geometry, material properties, and fire description. As a follow-on to the blind calculation, this test provides a more careful comparison of the underlying physics in the models with a more completely specified scenario.\n",
    "\n",
    "### Open Calculation\n",
    "The model user is provided with the most complete information about the scenario,including geometry, material properties, fire description, and the results of experimental tests or bench-mark model runs which were used in the evaluation of the blind or specified calculations of the scenario. Deficiencies in available input (used for the blind calculation) should become most apparent with comparison of the open and blind calculation."
   ]
  },
  {
   "cell_type": "markdown",
   "id": "eaba766a",
   "metadata": {},
   "source": [
    "## Documentation of validation and verification in FDS\n",
    "The National Institute of Standards and Technology (NIST) provides separate documentations for the Fire Dynamics Simulator (FDS) and its visualization tool Smokeview (SMV). Each of these programs is accompanied by a user manual and a technical reference guide, which are continuously updated upon every minor release.\n",
    "\n",
    "###  FDS User's Guide\n",
    " \n",
    "The [FDS User's Guide](https://github.com/firemodels/fds/releases/download/FDS6.7.5/FDS_User_Guide.pdf) explains how to use the Fire Dynamics Simulator (FDS) but gives little to none theoretically background on fire dynamics. \n",
    "\n",
    "### Techical Reference Guide\n",
    "\n",
    "The FDS Technical Reference Guide is based in part on the ASTM E1355 - 12 {cite}`ASTM:E1355`.\n",
    "It is a four volume set of companion documents.\n",
    "\n",
    "#### Technical Reference Guide Volume 1: Mathematical Model\n",
    "The [Technical Reference Guide Volume 1: Mathematical Model](https://github.com/firemodels/fds/releases/download/FDS6.7.5/FDS_Technical_Reference_Guide.pdf) provides the theoretical (mathematical and physical) basis for the Fire Dynamics Simulator (FDS), according to {cite}`ASTM:E1355` .  \n",
    "\n",
    "#### Technical Reference Guide Volume 2: Verification\n",
    "The [Technical Reference Guide Volume 2: Verification](https://github.com/firemodels/fds/releases/download/FDS6.7.5/FDS_Verification_Guide.pdf) contains several analytical and numerical tests as well as sensitivity analyses and code checking algorithms for basic test cases.\n",
    "\n",
    "\n",
    "#### Technical Reference Guide Volume 3: Validation\n",
    "[Technical Reference Guide Volume 3: Validation](https://github.com/firemodels/fds/releases/download/FDS6.7.5/FDS_Validation_Guide.pdf) is a survey of several experiments that were mainly conducted at the NIST laboratories. The predictions from the numerical model are compared to measurements from the experiments.\n",
    "\n",
    "#### Technical Reference Guide Volume 4: Configuration Management Plan\n",
    "[Technical Reference Guide Volume 4: Configuration Management Plan](https://github.com/firemodels/fds/releases/download/FDS6.7.5/FDS_Config_Management_Plan.pdf) describes the policies and procedures for developing and maintaining the Fire Dynamics Simulator (FDS) and the companion visualization program, Smokeview (SMV). It is referred to as a Software Quality Assurance Plan according to IEEE Standard 828 and {cite}`ASTM:E1355`."
   ]
  },
  {
   "cell_type": "markdown",
   "id": "b9302813",
   "metadata": {},
   "source": [
    "## Validation / Verification example"
   ]
  },
  {
   "cell_type": "markdown",
   "id": "9491454d",
   "metadata": {},
   "source": [
    "In order to calculate the incident heat flux, a concept called view factor is used. View factor is the proportion of the radiation which leaves the transmitter surface and strikes the receiver surface.\n",
    "\n",
    ":::{figure-md} fig-validation-viewfactor\n",
    "\n",
    "<img src=\"figs/device_viewfactor.png\" width=\"70%\">\n",
    "\n",
    "The green point is the point on a target surface to be evaluated. It is the projection of a device on the hot surface. \n",
    "\n",
    ":::\n",
    "\n",
    "The total heat flux that reaches the device is the sum of heat fluxes of all subsurfaces. The following equations calculate the fractional heat flux for the individual subsurfaces expressed by viewfactors $\\mf \\phi$ for simple cases:\n",
    "\n",
    "Transmitter and receiver surfaces are parallel to each other:\n",
    "\n",
    "$$\\mf \\phi = \\frac{1}{2\\pi}[\\frac{a}{\\sqrt{1+a^2}}tan^{-1}(\\frac{b}{\\sqrt{1+a^2}})+\\frac{b}{\\sqrt{1+b^2}}tan^{-1}(\\frac{a}{\\sqrt{1+b^2}})]$$\n",
    "\n",
    "Transmitter and receiver surfaces are normal to each other:\n",
    "\n",
    "$$\\mf \\phi = \\frac{1}{2\\pi}[tan^{-1}(a)-\\frac{1}{\\sqrt{1+b^2}}tan^{-1}(\\frac{a}{\\sqrt{1+b^2}})]$$\n",
    "\n",
    "with $\\mf a = \\frac{z}{x}$ and $\\mf b = \\frac{y}{x}$,  where $\\mf z$ is the height and $ \\mf y$ is the width of the subsurface. $ \\mf x$ is the distance between the point and the hot surface.\n",
    "\n",
    "calculating the `incident heat flux` from the view factor for a given point:\n",
    "$$\n",
    "\\mf q_{inc,rad}^{''} = \\epsilon_{s} \\cdot \\phi_{total}\n",
    "$$"
   ]
  },
  {
   "cell_type": "markdown",
   "id": "2bcca028",
   "metadata": {},
   "source": [
    "### Task\n",
    "\n",
    "The FDS input file {download}`radiation_validation.fds` is used for this simulation. Given is a room with one hot wall, $\\mf temperature = 91.2717 °C$ and other cold surfaces, $\\mf temperature = -272.15 °C$. Ten devices are defined for measuring the incident and radiative heat fluxes on both front and adjacent sides of the hot wall diagonally, as it is shown below.\n",
    "\n",
    "In order to omit the influence of convective heat transfer, there should be no air in the room, which is considered in the input file by \n",
    "`SOLID_PHASE_ONLY = .TRUE.` on the `MISC` line.\n",
    "The objective of this task is to validate the results of the FDS simulation with the analytical calculations. After executing the simulation and reading the results with python, both, incident and radiative heat fluxes are calculated for all devices.\n",
    "\n",
    ":::{figure-md} fig-validation-geometry\n",
    "\n",
    "<img src=\"figs/Geometry.png\" width=\"70%\">\n",
    "\n",
    "The geometry, location of the hot surface and the devices.\n",
    ":::\n",
    "1. Evaluate the boundary files for the `INCIDENT HEAT FLUX`, the `RADIATIVE HEAT FLUX` and the `GAUGE HEAT FLUX`. Assume $\\sf T_{gauge}=-100°C $. The output quantities related to the thermal exposure of solid surfaces are explained in section 21.10.7 [FDS User's Guide](https://github.com/firemodels/fds/releases/download/FDS6.7.5/FDS_User_Guide.pdf). Quantities on a solid obstruction can be recorded using the `BNDF` namelist group. It can be defined similar to `SLCF` like:\n",
    "    ```\n",
    "    &BNDF QUANTITY='NET HEAT FLUX', CELL_CENTERED=.TRUE. /\n",
    "    ```\n",
    "    For more detailed information on how to set up `BNDF` in FDS please refer to section 21.5 [FDS User's Guide](https://github.com/firemodels/fds/releases/download/FDS6.7.5/FDS_User_Guide.pdf).\n",
    "2. Calculate the heat flux for a single point on the parallel plane at x = 1, y = 0.333 and z = 0.667 using analytical formulas and compare the results to the output of the corresponding device of the FDS calculation.\n",
    "3. Evaluate the the `INCIDENT HEAT FLUX` for the respective positions of the line device and compare it to the analytical solutions. Calculate the view factors using e.g. spreadsheet application or Python. Do the same for `RADIATIVE HEAT FLUX` as well as the `GAUGE HEAT FLUX`.\n",
    "4. Execute the simulation with higher value for `NUMBER_RADIATION_ANGLES`, $\\mf 200$ and $\\mf 500$ respectively. Add `SLCF` files with `QUANTITY='INTEGRATED INTENSITY'` at `PBX=0.98` and check out the `SLCF` file in Smokeview. Plot the `incident heat flux` for front and side and compare it with the analytical ones for  `NUMBER_RADIATION_ANGLES = 500`."
   ]
  },
  {
   "cell_type": "markdown",
   "id": "3a4f647a",
   "metadata": {},
   "source": [
    "### Input file parameters explained\n",
    "\n",
    "Regarding `RADI` namelist in the input file, the frequency of calls to the radiation solver can be changed from every $\\mf 3$ time steps with an integer\n",
    "called `TIME_STEP_INCREMENT`. The increment over which the angles are updated can be reduced from\n",
    "$\\mf 5$ with the integer called `ANGLE_INCREMENT`. If `TIME_STEP_INCREMENT` and `ANGLE_INCREMENT` are\n",
    "both set to $\\mf 1$, the radiation field is completely updated in a single time step, but the cost of the calculation\n",
    "increases significantly.\n",
    "\n",
    "There are several ways to improve the spatial and temporal accuracy of the discrete radiation transport equation\n",
    "(RTE), but each typically increases the computation time. The spatial accuracy can be improved by increasing\n",
    "the number of angles from the default $\\mf 100$ with the integer parameter `NUMBER_RADIATION_ANGLES`.\n",
    "Typically, you see high values of this quantity near sources of heat, and\n",
    "these values decrease farther away. Ideally, you should see a somewhat smooth and circular pattern far\n",
    "from the heat source, but because of the finite number of solid angles along which the radiation intensity is tracked, you will see in the far field a star-like pattern that is not physical. For more information refer to section 16.2 [FDS User's Guide](https://github.com/firemodels/fds/releases/download/FDS6.7.5/FDS_User_Guide.pdf).\n",
    "\n",
    "Following are the parameters of the `DUMP` namelist in the input file.\n",
    "`SMOKE3D = .FALSE.` does not produce an animation of the smoke and fire. `DT_PL3D` is the time between Plot3D file output. `DT_DEVC` works like `NFRAMES`, but only controls the output of devices. For more detailed description refer to section 21.1 [FDS User's Guide](https://github.com/firemodels/fds/releases/download/FDS6.7.5/FDS_User_Guide.pdf)"
   ]
  },
  {
   "cell_type": "markdown",
   "id": "ec6ae1c4",
   "metadata": {},
   "source": [
    "### Solution"
   ]
  },
  {
   "cell_type": "code",
   "execution_count": 1,
   "id": "0cd26bb0",
   "metadata": {
    "tags": [
     "remove_cell"
    ]
   },
   "outputs": [],
   "source": [
    "import pandas as pd\n",
    "import matplotlib.pyplot as plt\n",
    "import numpy as np\n",
    "dev = pd.read_csv('radiation_line.csv', delimiter=',', skiprows=1)"
   ]
  },
  {
   "cell_type": "markdown",
   "id": "6bab2e6f",
   "metadata": {},
   "source": [
    "#### Analytical results for both device lines"
   ]
  },
  {
   "cell_type": "code",
   "execution_count": 2,
   "id": "e9764e61",
   "metadata": {
    "tags": [
     "remove_cell"
    ]
   },
   "outputs": [],
   "source": [
    "# Heat fluxes for devices on the front\n",
    "\n",
    "# Coordination of the hot surface\n",
    "y_min, y_max, z_min, z_max = 0,1,0,1 \n",
    "\n",
    "inc_front_analytics = []\n",
    "rad_front_analytics = []\n",
    "gauge_front_analytics = []\n",
    "\n",
    "'Transmitter and receiver parallel'\n",
    "x = 1.0\n",
    "\n",
    "\n",
    "'Incident:'\n",
    "for i in range(len(dev['inc_flux_front-y'])):\n",
    "    y = dev['inc_flux_front-y'][i]\n",
    "    z = dev['inc_flux_front-z'][i]\n",
    "    \n",
    "    # height and width of four subsurfaces for each device \n",
    "    device = np.array([[y - y_min, z - z_min],\n",
    "                       [y_max - y, z - z_min],\n",
    "                       [y - y_min, z_max - z],\n",
    "                       [y_max - y, z_max - z]]) \n",
    "                       \n",
    "    subsurf = 0\n",
    "    for s in range(len(device)):\n",
    "        b = device[s][0]/x\n",
    "        a = device[s][1]/x\n",
    "\n",
    "        subsurf += (1/(2*np.pi)) * ((a/np.sqrt(1+a**2)) * np.arctan(b/np.sqrt(1+a**2)) + \\\n",
    "                   (b/np.sqrt(1+b**2)) * np.arctan(a/np.sqrt(1+b**2)))\n",
    "    inc_front_analytics.append(subsurf)\n",
    "        \n",
    "dev['inc_front_analytics'] = inc_front_analytics\n",
    "\n",
    "\n",
    "'Radiative:'\n",
    "for f in dev['inc_front_analytics']:\n",
    "    rad_front_analytics.append(1 * (f - 5.67*(10**-8) * (((-272.15)+273.15)**4)))\n",
    "    \n",
    "dev['rad_front_analytics'] = rad_front_analytics\n",
    "\n",
    "'Gauge:'\n",
    "for f in inc_front_analytics:\n",
    "\n",
    "    gauge_front_analytics.append(0.9 * (f - (5.67*(10**-8) * (((-100)+273.15)**4))))\n",
    "\n",
    "dev['gauge_front_analytics'] = gauge_front_analytics"
   ]
  },
  {
   "cell_type": "code",
   "execution_count": 16,
   "id": "a0aab108",
   "metadata": {
    "tags": [
     "remove_cell"
    ]
   },
   "outputs": [],
   "source": [
    "# Heat fluxes for devices on the side \n",
    "inc_side_analytics = []\n",
    "rad_side_analytics = []\n",
    "gauge_side_analytics = []\n",
    "\n",
    "'Transmitter and receiver normal'\n",
    "y = 0.0\n",
    "\n",
    "\n",
    "'Incident:'\n",
    "for i in range(len(dev['inc_flux_side-x'])):\n",
    "    x = dev['inc_flux_side-x'][i]\n",
    "    z = dev['inc_flux_side-z'][i]\n",
    "    # height and width of two subsurfaces for each device \n",
    "    device = np.array([[y_max - y, z - z_min],\n",
    "                       [y_max - y, z_max - z]])\n",
    "    \n",
    "    subsurf = 0\n",
    "    for s in range(len(device)):\n",
    "        b = device[s][0]/x\n",
    "        a = device[s][1]/x\n",
    "        \n",
    "        subsurf += (1/(2*np.pi)) * (np.arctan(a)-(1/np.sqrt(1+b**2)) * np.arctan(a/np.sqrt(1+b**2)))\n",
    "    inc_side_analytics.append(subsurf)\n",
    "\n",
    "dev['inc_side_analytics'] = inc_side_analytics\n",
    "dev['distances'] = np.linspace(0,1,10)\n",
    "\n",
    "\n",
    "'Radiative:'\n",
    "for f in dev['inc_side_analytics']:\n",
    "    rad_side_analytics.append(1 * (f - 5.67*(10**-8) * (((-272.15)+273.15)**4)))\n",
    "    \n",
    "dev['rad_side_analytics'] = rad_side_analytics\n",
    "dev\n",
    "\n",
    "'Gauge:'\n",
    "for f in inc_side_analytics:\n",
    "\n",
    "    gauge_side_analytics.append(0.9 * (f - (5.67*(10**-8) * (((-100)+273.15)**4))))\n",
    "\n",
    "dev['gauge_side_analytics'] = gauge_side_analytics"
   ]
  },
  {
   "cell_type": "markdown",
   "id": "c8b11351",
   "metadata": {},
   "source": [
    "#### Single device"
   ]
  },
  {
   "cell_type": "markdown",
   "id": "5a8958ee",
   "metadata": {
    "tags": []
   },
   "source": [
    "Here is the calculation of the incident and radiative heat fluxes for one of the devices at x = 1, y = 0.333 and z = 0.667 using analytical formulas.\n",
    "\n",
    "First calculate a and b for each subsurface.\n",
    "\n",
    "$$\\mf a_1 = \\frac{0.666667 - 0}{1} = 0.667~m,~b_1 = \\frac{0.333333 - 0}{1} = 0.333 m$$\n",
    "\n",
    "$$\\mf a_2 = \\frac{0.666667 - 0}{1} = 0.667~m,~b_2 = \\frac{1 - 0.333333}{1} = 0.667~m$$\n",
    "\n",
    "$$\\mf a_3 = \\frac{1 - 0.666667}{1} = 0.333~m,~b_3 = \\frac{0.333333 - 0}{1} = 0.333~m$$\n",
    "\n",
    "$$\\mf a_4 = \\frac{1 - 0.666667}{1} = 0.333~m,~b_4 = \\frac{1 - 0.333333}{1} = 0.667~m$$\n",
    "\n",
    "Now calculate the view factor for each of the subsurfaces.\n",
    "\n",
    "$$\\mf \\phi_1 = \\frac{1}{2\\pi}[\\frac{0.667}{\\sqrt{1+0.666^2}}tan^{-1}(\\frac{0.333}{\\sqrt{1+0.667^2}})+\\frac{0.333}{\\sqrt{1+0.333^2}}tan^{-1}(\\frac{0.667}{\\sqrt{1+0.333^2}})] = 0.052267$$\n",
    "\n",
    "$$\\mf \\phi_2 = \\frac{1}{2\\pi}[\\frac{0.667}{\\sqrt{1+0.667^2}}tan^{-1}(\\frac{0.667}{\\sqrt{1+0.667^2}})+\\frac{0.667}{\\sqrt{1+0.667^2}}tan^{-1}(\\frac{0.667}{\\sqrt{1+0.667^2}})] = 0.089421$$\n",
    "\n",
    "$$\\mf \\phi_3 = \\frac{1}{2\\pi}[\\frac{0.333}{\\sqrt{1+0.333^2}}tan^{-1}(\\frac{0.333}{\\sqrt{1+0.333^2}})+\\frac{0.333}{\\sqrt{1+0.333^2}}tan^{-1}(\\frac{0.333}{\\sqrt{1+0.333^2}})] = 0.030829$$\n",
    "\n",
    "$$\\mf \\phi_4 = \\frac{1}{2\\pi}[\\frac{0.333}{\\sqrt{1+0.333^2}}tan^{-1}(\\frac{0.667}{\\sqrt{1+0.333^2}})+\\frac{0.667}{\\sqrt{1+0.667^2}}tan^{-1}(\\frac{0.333}{\\sqrt{1+0.667^2}})] = 0.052267$$\n",
    "\n",
    "$$\\mf \\phi = \\phi_1+\\phi_2+\\phi_3+\\phi_4 =  0.224786$$\n",
    "\n",
    "Incident heat flux is:\n",
    "\n",
    "$$\\mf q_{inc,rad}^{''} =\\phi \\cdot \\sigma \\cdot (T_r + 273)^4 = 0.224786 \\cdot 5.67 \\cdot 10^{-8} \\cdot (91.27+273)^4 = 224  \\frac{W}{m^2}$$\n",
    "\n",
    "And the radiative heat flux is:\n",
    "\n",
    "$$\\mf q_{r}^{''} = \\epsilon_{s} (q_{inc,rad}^{''} - \\sigma T_{s}^4) = 1.0 \\cdot (0.224786 - 5.67 \\cdot 10^{-8} \\cdot (-272.15+273.15)^4) = 0.224786  \\frac{kw}{m^2}$$"
   ]
  },
  {
   "cell_type": "code",
   "execution_count": 4,
   "id": "7c78c4b3",
   "metadata": {
    "tags": [
     "remove_cell"
    ]
   },
   "outputs": [],
   "source": [
    "#Alternative for calculating the flux for a single device by hand(above solution) is:\n",
    "#Only on the parallel surface\n",
    "\n",
    "def heat_flux(y,z):\n",
    "    \n",
    "    single_analytics = []\n",
    "    \n",
    "    # Coordination of the hot surface\n",
    "    y_min, y_max, z_min, z_max = 0,1,0,1\n",
    "    x = 1.0\n",
    "\n",
    "    #Incident heat flux \n",
    "    device = np.array([[y - y_min, z - z_min],\n",
    "                       [y_max - y, z - z_min],\n",
    "                       [y - y_min, z_max - z],\n",
    "                       [y_max - y, z_max - z]])\n",
    "    \n",
    "    subsurf = 0\n",
    "    for s in range(len(device)):\n",
    "        b = device[s][0]/x\n",
    "        a = device[s][1]/x\n",
    "        \n",
    "        subsurf += (1/(2*np.pi)) * ((a/np.sqrt(1+a**2)) * np.arctan(b/np.sqrt(1+a**2)) + \\\n",
    "                   (b/np.sqrt(1+b**2)) * np.arctan(a/np.sqrt(1+b**2)))\n",
    "    single_analytics.append(subsurf)\n",
    "    \n",
    "    #Radiative heat flux, emissivity=1 and Temperature=-272.15°C\n",
    "    single_analytics.append(1.0 * (single_analytics[0] - 5.67*(10**-8) * (((-272.15)+273.15)**4)))\n",
    "    \n",
    "    return \"Incident heat flux:{}, Radiative heat flux:{}\".format(single_analytics[0],single_analytics[1])"
   ]
  },
  {
   "cell_type": "markdown",
   "id": "85f1c61c",
   "metadata": {},
   "source": [
    "#### Plotting the results"
   ]
  },
  {
   "cell_type": "code",
   "execution_count": 15,
   "id": "ffe309d9",
   "metadata": {
    "tags": [
     "remove_cell"
    ]
   },
   "outputs": [
    {
     "data": {
      "image/png": "[encoded data removed]",
      "text/plain": [
       "<Figure size 432x288 with 1 Axes>"
      ]
     },
     "metadata": {
      "needs_background": "light"
     },
     "output_type": "display_data"
    }
   ],
   "source": [
    "# Validating the results (Simulation vs. Analytical)\n",
    "\n",
    "plt.plot(dev['distances'],dev['inc_flux_front'], '--bo', label='Simulation')\n",
    "plt.plot(dev['distances'],dev['inc_front_analytics'], '--ro', label='Analytical')\n",
    "plt.xlabel('Position / $\\sf m $')\n",
    "plt.ylabel('Incident heat flux / $\\sf kW/m^2 $')\n",
    "plt.legend()\n",
    "plt.grid()\n",
    "plt.savefig('figs/incident_front.svg')\n",
    "plt.close()\n",
    "plt.plot(dev['inc_flux_side-z'],dev['inc_flux_side'], '--bo', label='Simulation')\n",
    "plt.plot(dev['inc_flux_side-z'],dev['inc_side_analytics'], '--ro', label='Analytical')\n",
    "plt.xlabel('Position / $\\sf m $')\n",
    "plt.ylabel('Incident heat flux / $\\sf kW/m^2 $')\n",
    "plt.legend()\n",
    "plt.grid()\n",
    "plt.savefig('figs/incident_side.svg')\n",
    "plt.close()\n",
    "plt.plot(dev['inc_flux_front-z'],dev['rad_flux_front'], '--bo', label='Simulation')\n",
    "plt.plot(dev['inc_flux_front-z'],dev['rad_front_analytics'], '--ro', label='Analytical')\n",
    "plt.xlabel('Position / $\\sf m $')\n",
    "plt.ylabel('Radiative heat flux / $\\sf kW/m^2 $')\n",
    "plt.legend()\n",
    "plt.grid()\n",
    "plt.savefig('figs/radiative_front.svg')\n",
    "plt.close()\n",
    "plt.plot(dev['inc_flux_side-z'],dev['rad_flux_side'], '--bo', label='Simulation')\n",
    "plt.plot(dev['inc_flux_side-z'],dev['rad_side_analytics'], '--ro', label='Analytical')\n",
    "plt.xlabel('Position / $\\sf m $')\n",
    "plt.ylabel('Radiative heat flux / $\\sf kW/m^2 $')\n",
    "plt.legend()\n",
    "plt.grid()\n",
    "plt.savefig('figs/radiative_side.svg')\n",
    "plt.close()\n",
    "plt.plot(dev['gauge_front-z'],dev['gauge_front'], '--bo', label='Simulation')\n",
    "plt.plot(dev['gauge_front-z'],dev['gauge_front_analytics'], '--ro', label='Analytical')\n",
    "plt.xlabel('Position / $\\sf m $')\n",
    "plt.ylabel('Gauge heat flux / $\\sf kW/m^2 $')\n",
    "plt.legend()\n",
    "plt.grid()\n",
    "plt.savefig('figs/gauge_flux_front.svg')\n",
    "plt.close()\n",
    "plt.plot(dev['gauge_front-z'],dev['gauge_side'], '--bo', label='Simulation')\n",
    "plt.plot(dev['gauge_front-z'],dev['gauge_side_analytics'], '--ro', label='Analytical')\n",
    "plt.xlabel('Position / $\\sf m $')\n",
    "plt.ylabel('Gauge heat flux / $\\sf kW/m^2 $')\n",
    "plt.legend()\n",
    "plt.grid()\n",
    "plt.savefig('figs/gauge_flux_side.svg')\n",
    "plt.close()"
   ]
  },
  {
   "cell_type": "markdown",
   "id": "8bd79ea1",
   "metadata": {},
   "source": [
    ":::{figure-md} fig-validation-heatflux-incident-front\n",
    "\n",
    "<img src=\"figs/incident_front.svg\" width=\"80%\">\n",
    "\n",
    "Incident heat flux front\n",
    "\n",
    ":::\n",
    "            \n",
    ":::{figure-md} fig-validation-heatflux-radiative-front\n",
    "\n",
    "<img src=\"figs/radiative_front.svg\" width=\"80%\">\n",
    "\n",
    "Radiative heat flux front\n",
    ":::\n",
    "\n",
    ":::{figure-md} fig-validation-heatflux-incident-side\n",
    "\n",
    "<img src=\"figs/incident_side.svg\" width=\"80%\">\n",
    "\n",
    "Incident heat flux side\n",
    ":::\n",
    "            \n",
    ":::{figure-md} fig-validation-heatflux-radiative-side\n",
    "\n",
    "<img src=\"figs/radiative_side.svg\" width=\"80%\">\n",
    "\n",
    "Radiative heat flux side\n",
    ":::\n",
    "            \n",
    ":::{figure-md}\n",
    "\n",
    "<img src=\"figs/gauge_flux_front.svg\" width=\"80%\">\n",
    "\n",
    "Gauge heat flux front, $\\sf T_{gauge}=-100°C$\n",
    ":::\n",
    "            \n",
    ":::{figure-md}\n",
    "\n",
    "<img src=\"figs/gauge_flux_side.svg\" width=\"80%\">\n",
    "\n",
    "Gauge heat flux side, $\\sf T_{gauge}=-100°C$\n",
    ":::"
   ]
  },
  {
   "cell_type": "markdown",
   "id": "d9fb7465",
   "metadata": {
    "tags": []
   },
   "source": [
    "#### Higher value for `NUMBER_RADIATION_ANGLES`\n",
    "\n",
    ":::{figure-md} fig-validation-heatflux-rad-angles\n",
    "\n",
    "<img src=\"figs/rad_angle.png\" width=\"100%\">\n",
    "\n",
    "`SLCF` file in `PBX = 0.98` for radiation intensity. From left to right, the `NUMBER_RADIATION_ANGLES` is set to $\\sf 100$, $\\sf 200$ and $\\sf 500$.\n",
    ":::\n",
    "\n",
    "Comparing the `incident heat flux` results, when `NUMBER_RADIATION_ANGLES = 500`.\n",
    "\n",
    ":::{figure-md} fig-validation-heatflux-rad-angles-front\n",
    "\n",
    "<img src=\"figs/incident_front_500.svg\" width=\"80%\">\n",
    "\n",
    "Incident heat flux front\n",
    "\n",
    ":::\n",
    "            \n",
    ":::{figure-md} fig-validation-heatflux-rad-angles-side\n",
    "\n",
    "<img src=\"figs/incident_side_500.svg\" width=\"80%\">\n",
    "\n",
    "Radiative heat flux front\n",
    ":::"
   ]
  },
  {
   "cell_type": "code",
   "execution_count": null,
   "id": "7aa37587-44a8-499d-8b21-01e73a0a237e",
   "metadata": {},
   "outputs": [],
   "source": []
  }
 ],
 "metadata": {
  "kernelspec": {
   "display_name": "Python 3",
   "language": "python",
   "name": "python3"
  },
  "language_info": {
   "codemirror_mode": {
    "name": "ipython",
    "version": 3
   },
   "file_extension": ".py",
   "mimetype": "text/x-python",
   "name": "python",
   "nbconvert_exporter": "python",
   "pygments_lexer": "ipython3",
   "version": "3.8.5"
  }
 },
 "nbformat": 4,
 "nbformat_minor": 5
}
