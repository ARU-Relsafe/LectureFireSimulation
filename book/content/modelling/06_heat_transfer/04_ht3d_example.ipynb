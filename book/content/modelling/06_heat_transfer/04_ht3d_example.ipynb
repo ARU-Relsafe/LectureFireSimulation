{
 "cells": [
  {
   "cell_type": "markdown",
   "id": "290249f7",
   "metadata": {},
   "source": [
    "# Example – Heat Transfer"
   ]
  },
  {
   "cell_type": "markdown",
   "id": "7d69d13c",
   "metadata": {},
   "source": [
    "## Introduction\n",
    "\n",
    "Basically, the Fire Dynamics Simulator differentiates between two models for the calculation of heat conduction. While the one-dimensional case only calculates the temperature profile normal to the surface, the HT3D model also calculates lateral heat diffusion.\n",
    "The 1D model is based on the one-cell method. For the coupling between solid and gas phase, it is important that the block of material is not wider than a cell, otherwise the heat will be transferred into a void phase with ambient temperature. Compared to the one-cell method, the HT3D model uses the multi-cell method. The representation of different material layers is done by apposition of different cells. For this task use the {download}`steel_beam_ht3d.fds` input file.\n"
   ]
  },
  {
   "cell_type": "markdown",
   "id": "16a55289-0f19-436e-8509-6ec3f491570d",
   "metadata": {},
   "source": [
    "## 3D heat conduction - the HT3D model\n",
    "Three-dimensional heat conduction in a solid obstruction can be invoked adding the `HT3D=.TRUE.` command in the respective `OBST` line. The heat transfer will automatically be calculated across several adjacent obstructions for that it is activated.\n",
    "\n",
    "The material properties can be assigned to a solid obstruction by adding the `MATL_ID` on the `OBST` line or obtained from a certain `SURF_ID`. Note that the actual dimensions rather than the thermal `THICKNESS` of a `SURF` is taken into account for the computation of 3d heat transfer. For detailed information about the HT3D model please refer to section 11.3.9 of [FDS User's Guide](https://github.com/firemodels/fds/releases/download/FDS6.7.5/FDS_User_Guide.pdf)."
   ]
  },
  {
   "cell_type": "code",
   "execution_count": null,
   "id": "c043a374-92d6-47a5-b208-116e190f68db",
   "metadata": {},
   "outputs": [],
   "source": []
  },
  {
   "cell_type": "markdown",
   "id": "d5790ba0",
   "metadata": {},
   "source": [
    "## Setup\n",
    "The extension of the computational domain is \n",
    "\n",
    "$$\\small\\sf [-0.8~m, 0.8~m] \\times [0.0~m, 2.0~m] \\times [0.0~m, 5.0~m]$$\n",
    "\n",
    ":::{figure-md} fig-transfer-smv\n",
    "\n",
    "<img src=\"figs/ht3d_setup.svg\" width=\"100%\">\n",
    "\n",
    "SMV visualization of the geometry. The surface patch `HEATER`, which has a constant surface temperature of $1000^\\circ C$ (`TMP_FRONT = 1000`) ,is colored redish. The orange and yellow `OBSTRUCTIONS` depict different surfaces (`SURF`). The gray heat shield covers thermocouples and devices from a radiative impact.  \n",
    ":::"
   ]
  },
  {
   "cell_type": "markdown",
   "id": "882dffbf-e343-4878-b09d-acf4cfa9158a",
   "metadata": {},
   "source": [
    "## Task\n",
    "The commands `SOLID_PHASE_ONLY=.TRUE.` on the `MISC` line and `RADIATION = .False.` on the `RADI` line indicate that FDS turns off all gas phase computation as well as the RTE (Radiation Transport Equation) solver and therefore speeds up the computation. This can be useful if only the heat transfer in a solid obstruction is to be calculated.\n",
    "\n",
    "***Task***\n",
    "1. Implement the HT3D function in the given FDS input file and run the simulation for 3600 s. Evaluate the temperature within the solid obstructions at timesteps t = 100 s, 1000 s, 3600s by adding `SLCF` in the XZ and YZ plane(s). \n",
    "2. Create line devices at the center of each cell along the x-axis. Set `&DEVC...TIME HISTORY=.TRUE.` to get the temperature at each point with each time step. Alternative: Create a temperature SLCF at PBY = 0 and use the FDS READER module to load the data into a numpy array.\n",
    "3. Evaluate the surface temperature as well as the of the solid obstructions via `BNDF` with quantity `WALL TEMPERATURE` as well as the 'RADIATIVE HEAT FLUX'\n",
    "4. This task provides the same setup as in the previous tasks except that the heat source does not act as a constant surface temperature on the components but as a `VENT` with a predefined `HRR`. Replace the heat sources in the given FDS file with following lines:\n",
    "\n",
    "    ```\n",
    "    &REAC FUEL               = 'METHANOL'\n",
    "          FYI                = 'Methanol C_1 H_4 O_1'\n",
    "          CO_YIELD           = 0.001\n",
    "          SOOT_YIELD         = 0.001 /\n",
    "\n",
    "    &SURF ID='FIRE', COLOR='RED', HRRPUA=100./\n",
    "    &VENT XB = -0.6,0.6, -0.1,0.1, 0.0,0.0, SURF_ID='FIRE' /\n",
    "    ```\n",
    "\n",
    "    Modify the FDS file in a way that the radiative as well as the convective heat transfer are considered. Again evaluate the `WALL TEMPERATURE` and the `RADIATIVE HEAT FLUX` as well as the `CONVECTIVE HEAT FLUX`.\n",
    "    "
   ]
  },
  {
   "cell_type": "code",
   "execution_count": 1,
   "id": "b0dfea73-e55a-4433-9bb9-0e7820d453aa",
   "metadata": {
    "tags": [
     "hied_cell"
    ]
   },
   "outputs": [],
   "source": [
    "import fdsreader\n",
    "from fdsreader.bndf.utils import sort_patches_cartesian\n",
    "import numpy as np\n",
    "import matplotlib.pyplot as plt\n",
    "import pandas as pd\n",
    "plt.rcParams['lines.linewidth'] = 1\n",
    "\n",
    "root = '../../../../'"
   ]
  },
  {
   "cell_type": "code",
   "execution_count": 2,
   "id": "634b5279-fc71-492c-bd6d-725ea73122e4",
   "metadata": {
    "tags": [
     "hied_cell"
    ]
   },
   "outputs": [],
   "source": [
    "data_root = root + 'data/heat_transfer/ht3d_1'\n",
    "sim = fdsreader.Simulation(data_root)\n",
    "slice_axial = sim.slices[0]\n",
    "slice_steel = sim.slices[1]\n",
    "slice_copper = sim.slices[2]\n",
    "slice_concrete = sim.slices[3]\n",
    "\n",
    "time = 3600\n",
    "time_index = slice_steel.get_nearest_timestep(time)\n",
    "vmin = 20\n",
    "vmax = 1000\n",
    "\n",
    "fig, (ax1, ax2, ax3) = plt.subplots(1,3, figsize=(8,6), sharey=True)\n",
    "heatmap = ax1.imshow(slice_steel[0].data[time_index].T, origin='lower', cmap='jet',vmin=vmin, vmax=vmax)\n",
    "ax2.imshow(slice_copper[0].data[time_index].T, origin='lower', cmap='jet',vmin=vmin, vmax=vmax)\n",
    "ax3.imshow(slice_concrete[0].data[time_index].T, origin='lower', cmap='jet',vmin=vmin, vmax=vmax)\n",
    "ax1.set_title(\"Steel\")\n",
    "ax2.set_title(\"Copper\")\n",
    "ax3.set_title(\"Concrete\")\n",
    "fig.subplots_adjust(right=0.81)\n",
    "cbar_ax = fig.add_axes([0.85, 0.17, 0.03, 0.67])\n",
    "fig.colorbar(heatmap, cax=cbar_ax, label=\"Temperature $^\\circ C$\")\n",
    "ax1.set_xlabel(\"$n_{cells}~X$\")\n",
    "ax2.set_xlabel(\"$n_{cells}~X$\")\n",
    "ax3.set_xlabel(\"$n_{cells}~X$\")\n",
    "ax1.set_ylabel(\"$n_{cells}~Z$\")\n",
    "plt.savefig('figs/beam_temperatures.svg', bbox_inches='tight')\n",
    "plt.close()\n",
    "\n",
    "fig, (ax1, ax2, ax3) = plt.subplots(3,1, figsize=(10,10), sharex=True)\n",
    "time_index = slice_axial.get_nearest_timestep(100)\n",
    "ax1.imshow(slice_axial[0].data[time_index].T, origin='lower', cmap='jet',vmin=vmin, vmax=vmax)\n",
    "time_index = slice_axial.get_nearest_timestep(1000)\n",
    "ax2.imshow(slice_axial[0].data[time_index].T, origin='lower', cmap='jet',vmin=vmin, vmax=vmax)\n",
    "time_index = slice_axial.get_nearest_timestep(3600)\n",
    "ax3.imshow(slice_axial[0].data[time_index].T, origin='lower', cmap='jet',vmin=vmin, vmax=vmax)\n",
    "ax1.set_title(\"T = 100 s\")\n",
    "ax2.set_title(\"T = 1000 s\")\n",
    "ax3.set_title(\"T = 3600 s\")\n",
    "ax1.set_ylabel(\"$n_{cells}~Z$\")\n",
    "ax2.set_ylabel(\"$n_{cells}~Z$\")\n",
    "ax3.set_ylabel(\"$n_{cells}~Z$\")\n",
    "ax3.set_xlabel(\"$n_{cells}~X$\")\n",
    "ax1.text(10, 5, \"Steel\", ha='center', color='white')\n",
    "ax1.text(30, 5, \"Copper\", ha='center', color='white')\n",
    "ax1.text(50, 5, \"Concrete\", ha='center', color='white')\n",
    "ax2.text(10, 5, \"Steel\", ha='center', color='white')\n",
    "ax2.text(30, 5, \"Copper\", ha='center', color='white')\n",
    "ax2.text(50, 5, \"Concrete\", ha='center', color='white')\n",
    "ax3.text(10, 5, \"Steel\", ha='center', color='white')\n",
    "ax3.text(30, 5, \"Copper\", ha='center', color='white')\n",
    "ax3.text(50, 5, \"Concrete\", ha='center', color='white')\n",
    "fig.subplots_adjust(right=0.81)\n",
    "cbar_ax = fig.add_axes([0.76, 0.13, 0.02, 0.75])\n",
    "fig.colorbar(heatmap, cax=cbar_ax, label=\"Temperature $^\\circ C$\")\n",
    "plt.savefig('figs/beam_temperatures_axial.svg', bbox_inches='tight')\n",
    "plt.close()\n"
   ]
  },
  {
   "cell_type": "markdown",
   "id": "42ca3656-5e8a-4f74-8926-fc36f9f881d0",
   "metadata": {},
   "source": [
    "\n",
    ":::{figure-md} ht3d-beam-temperatures\n",
    "\n",
    "<img src=\"figs/beam_temperatures.svg\" width=\"80%\">\n",
    "\n",
    "`SLCF` of beam `TEMPERATURE` for different `MATL` steel, \n",
    ":::\n",
    "\n",
    ":::{figure-md} ht3d-beam-temperatures\n",
    "\n",
    "<img src=\"figs/beam_temperatures_axial.svg\" width=\"80%\">\n",
    "\n",
    "`SLCF` of beam `TEMPERATURE` for different `MATL` steel, \n",
    ":::"
   ]
  },
  {
   "cell_type": "code",
   "execution_count": 3,
   "id": "1aeeb4c0-aeb7-4f45-96a3-e951e041b2bd",
   "metadata": {
    "tags": [
     "hied_cell"
    ]
   },
   "outputs": [],
   "source": [
    "time_temp_df = pd.read_csv(data_root + \"/steel_beam_ht3d_surf_false_devc.csv\", skiprows=1, index_col=0)\n",
    "time_temp_steel_df = time_temp_df.filter(regex='Steel')\n",
    "time_temp_copper_df = time_temp_df.filter(regex='Copper')\n",
    "time_temp_concrete_df = time_temp_df.filter(regex='Concrete')\n",
    "\n",
    "fig, (ax1, ax2, ax3) = plt.subplots(3, sharex=True)\n",
    "ax1.imshow(time_temp_steel_df.T, aspect='auto', origin='lower', cmap='jet', vmin=20, vmax=800, extent=[0,3600,0,280])\n",
    "ax2.imshow(time_temp_copper_df.T, aspect='auto', origin='lower', cmap='jet', vmin=20, vmax=800, extent=[0,3600,0,280])\n",
    "ax3.imshow(time_temp_concrete_df.T, aspect='auto',origin='lower', cmap='jet', vmin=20, vmax=800, extent=[0,3600,0,280])\n",
    "ax1.set_ylabel(\"Z / m\")\n",
    "# ax1.set_yticklabels([range(0,29, 4)])\n",
    "\n",
    "ax2.set_ylabel(\"Z / mm\")\n",
    "ax3.set_ylabel(\"Z / mm\")\n",
    "ax3.set_xlabel(\"Time / s\")\n",
    "fig.subplots_adjust(right=0.81)\n",
    "cbar_ax = fig.add_axes([0.85, 0.11, 0.03, 0.77])\n",
    "fig.colorbar(heatmap, cax=cbar_ax, label=\"Temperature $^\\circ C$\")\n",
    "plt.savefig('figs/temp_dev_copper.svg')\n",
    "plt.close()"
   ]
  },
  {
   "cell_type": "markdown",
   "id": "bb4fd4cd-9ed6-4efc-8311-3a3f35037b14",
   "metadata": {},
   "source": [
    ":::{figure-md} ht3d-beam-temperatures\n",
    "\n",
    "<img src=\"figs/temp_dev_copper.svg\" width=\"80%\">\n",
    "\n",
    "`SLCF` of beam `TEMPERATURE` for different `MATL` steel, \n",
    ":::"
   ]
  },
  {
   "cell_type": "code",
   "execution_count": 4,
   "id": "7df6082b-272b-43de-9f9b-cf01f2157dcf",
   "metadata": {
    "tags": [
     "hied_cell"
    ]
   },
   "outputs": [],
   "source": [
    "data_root = root + 'data/heat_transfer/HeatTransfer_0'\n",
    "sim = fdsreader.Simulation(data_root)\n",
    "\n",
    "def get_bndf_face(quantity, obstruction=0, orientation=-2):\n",
    "    obst = sim.obstructions[0]\n",
    "    patches = list()\n",
    "    for sub_obst in obst.filter_by_orientation(orientation):\n",
    "        # Get boundary data for a specific quantity\n",
    "        sub_obst_data = sub_obst.get_data(quantity)\n",
    "        patches.append(sub_obst_data.data[orientation])\n",
    "\n",
    "        # Combine patches to a single face for plotting\n",
    "        patches = sort_patches_cartesian(patches)\n",
    "\n",
    "        shape_dim1 = sum([patch_row[0].shape[0] for patch_row in patches])\n",
    "        shape_dim2 = sum([patch.shape[1] for patch in patches[0]])\n",
    "        n_t = patches[0][0].n_t  # Number of timesteps\n",
    "\n",
    "        face = np.empty(shape=(n_t, shape_dim1, shape_dim2))\n",
    "        dim1_pos = 0\n",
    "        dim2_pos = 0\n",
    "        for patch_row in patches:\n",
    "            d1 = patch_row[0].shape[0]\n",
    "            for patch in patch_row:\n",
    "                d2 = patch.shape[1]\n",
    "                face[:, dim1_pos:dim1_pos + d1,\n",
    "                dim2_pos:dim2_pos + d2] = patch.data\n",
    "                dim2_pos += d2\n",
    "            dim1_pos += d1\n",
    "            dim2_pos = 0\n",
    "    return face\n",
    "\n",
    "total_hf = get_bndf_face('TOTAL HEAT FLUX')\n",
    "convective_hf = get_bndf_face('CONVECTIVE HEAT FLUX')\n",
    "radiative_hf = get_bndf_face('RADIATIVE HEAT FLUX')\n",
    "gauge_hf = get_bndf_face('GAUGE HEAT FLUX')\n",
    "incident_hf = get_bndf_face('INCIDENT HEAT FLUX')\n",
    "vmin = 0\n",
    "vmax = 80\n",
    "fig, (ax1, ax2, ax3, ax4, ax5) = plt.subplots(1,5,figsize=(15,30), sharey=True)\n",
    "heatmap = ax1.imshow(total_hf[500].T, vmin=vmin, vmax=vmax, origin=\"lower\", cmap=\"jet\")\n",
    "ax2.imshow(convective_hf[500].T, vmin=vmin, vmax=vmax, origin=\"lower\", cmap=\"jet\")\n",
    "ax3.imshow(radiative_hf[500].T, vmin=vmin, vmax=vmax, origin=\"lower\", cmap=\"jet\")\n",
    "ax4.imshow(incident_hf[500].T, vmin=vmin, vmax=vmax, origin=\"lower\", cmap=\"jet\")\n",
    "ax5.imshow(gauge_hf[500].T, vmin=vmin, vmax=vmax, origin=\"lower\", cmap=\"jet\")\n",
    "ax1.set_title(\"TOTAL HEAT FLUX\")\n",
    "ax2.set_title(\"CONVECTIVE HEAT FLUX\")\n",
    "ax3.set_title(\"RADIATIVE HEAT FLUX\")\n",
    "ax4.set_title(\"GAUGE HEAT FLUX\")\n",
    "ax5.set_title(\"INCIDENT HEAT FLUX\")\n",
    "ax1.set_xlabel(\"$n_{cells}~X$\")\n",
    "ax2.set_xlabel(\"$n_{cells}~X$\")\n",
    "ax3.set_xlabel(\"$n_{cells}~X$\")\n",
    "ax4.set_xlabel(\"$n_{cells}~X$\")\n",
    "ax5.set_xlabel(\"$n_{cells}~X$\")\n",
    "ax1.set_ylabel(\"$n_{cells}~Y$\")\n",
    "\n",
    "fig.subplots_adjust(right=0.83)\n",
    "cbar_ax = fig.add_axes([0.85, 0.41, 0.02, 0.185])\n",
    "cbar_ax.set_title('$kW / m^2$')\n",
    "fig.colorbar(heatmap, cax=cbar_ax)\n",
    "# ax5.colorbar(label=\"Temperature / $\\sf ^\\circ C$\")\n",
    "# plt.xlabel(\"$\\sf N_{cells,x}$ / -\")\n",
    "# plt.ylabel(\"$\\sf N_{cells,y}$ / -\")\n",
    "# fig.savefig('figs/heatflux_bndf.svg', bbox_inches='tight')\n",
    "plt.close()"
   ]
  }
 ],
 "metadata": {
  "kernelspec": {
   "display_name": "Python 3",
   "language": "python",
   "name": "python3"
  },
  "language_info": {
   "codemirror_mode": {
    "name": "ipython",
    "version": 3
   },
   "file_extension": ".py",
   "mimetype": "text/x-python",
   "name": "python",
   "nbconvert_exporter": "python",
   "pygments_lexer": "ipython3",
   "version": "3.8.5"
  }
 },
 "nbformat": 4,
 "nbformat_minor": 5
}
