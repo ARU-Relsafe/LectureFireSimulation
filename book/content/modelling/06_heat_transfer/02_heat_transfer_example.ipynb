{
 "cells": [
  {
   "cell_type": "markdown",
   "id": "290249f7",
   "metadata": {},
   "source": [
    "# Example – Heat Transfer"
   ]
  },
  {
   "cell_type": "markdown",
   "id": "7d69d13c",
   "metadata": {},
   "source": [
    "## Introduction\n",
    "\n",
    "Fire Dynamics Simulator (FDS) calculates the mechanisms of heat transfer taking into account the corresponding physical processes of convection and radiation. From the resulting heat flow onto a solid surface, the surface temperature as well as the temperature at a certain depth can be determined, taking into account the material properties and the the respective boundary conditions. By default, FDS  only performs a transient, one-dimensional calculation of heat transfer. The objective of this exercise is to discuss the different influences of radiation and convection as well as the surface and material properties of a solid body on its heating. in case of fire. The ({download}`HeatTransfer.fds`) input file which is similar to the simple **[Plume fire](./modelling/03_compartments/03_pool_example)** from Chapter 3.2 can be used as a starting point."
   ]
  },
  {
   "cell_type": "markdown",
   "id": "d5790ba0",
   "metadata": {},
   "source": [
    "## Setup\n",
    "\n",
    ":::{figure-md} fig-pool-fire-smv-plain\n",
    "\n",
    "<img src=\"figs/fds.png\" width=\"100%\">\n",
    "\n",
    "SMV visualization of the geometry. The surface patch `BURNER`, which has a `HRRPUA` defined, is colored redish.  \n",
    ":::"
   ]
  },
  {
   "cell_type": "markdown",
   "id": "ac8da9be",
   "metadata": {},
   "source": []
  },
  {
   "cell_type": "markdown",
   "id": "05083850",
   "metadata": {},
   "source": [
    "## Tasks"
   ]
  },
  {
   "cell_type": "markdown",
   "id": "71f48826",
   "metadata": {},
   "source": [
    "1. Calculate and evaluate the Adiabatic Surface Temperature (AST), the  Adiabatic Surface Temperature Gas (AST Gas), as well as the Surface Temperature for the individual target surfaces and compare them to each other.\n"
   ]
  },
  {
   "cell_type": "markdown",
   "id": "cdbc7033",
   "metadata": {},
   "source": [
    "2. Calculate and evaluate the inside wall temperature for the uncovered target surface taking into account constant and temperature dependent thermal material properties.\n"
   ]
  },
  {
   "cell_type": "markdown",
   "id": "f8dd3b0c",
   "metadata": {},
   "source": [
    "3. Calculate and evaluate the surface temperature as well as the inside wall temperature for different backing types:\n",
    "    - void\n",
    "    - insulated"
   ]
  },
  {
   "cell_type": "code",
   "execution_count": 1,
   "id": "0e3faa0e-87eb-4cf5-a881-17686d4e2004",
   "metadata": {},
   "outputs": [],
   "source": [
    "import fdsreader\n",
    "import numpy as np\n",
    "import matplotlib.pyplot as plt\n",
    "\n",
    "plt.rcParams['lines.linewidth'] = 1\n",
    "\n",
    "root = '../../../../'"
   ]
  },
  {
   "cell_type": "code",
   "execution_count": 2,
   "id": "c4a82221-1df8-4eef-b8d4-666c986fc29b",
   "metadata": {},
   "outputs": [],
   "source": [
    "\n",
    "slice_temp = sim.slices[0]\n",
    "time = 20\n",
    "time_index = slice_temp.get_nearest_timestep(time)\n",
    "\n",
    "plt.figure(figsize=(4,6))\n",
    "plt.imshow(slice_temp[0].data[time_index].T, origin='lower', \n",
    "           extent=slice_temp[0].extent.as_list(), cmap='jet',\n",
    "           vmin=20, vmax=1200)\n",
    "plt.xlabel(\"X / m\")\n",
    "plt.ylabel(\"Z / m\")\n",
    "plt.colorbar(label=\"Temperature / $\\sf ^\\circ C$\")\n",
    "plt.savefig('figs/pool_fire_1mw_temperatures_slice.svg', bbox_inches='tight')\n",
    "plt.close()"
   ]
  },
  {
   "cell_type": "code",
   "execution_count": 141,
   "id": "ac1341e6-6bdc-453c-a5bd-94be6390df4e",
   "metadata": {},
   "outputs": [],
   "source": [
    "data_root = root + 'data/heat_transfer/heat_transfer'\n",
    "sim = fdsreader.Simulation(data_root)\n",
    "time = sim.devices['Time'].data\n",
    "# steel_front = sim.devices['Temp_steel_top_front'].data\n",
    "# steel_back = sim.devices['Temp_steel_top_back'].data\n",
    "steel_exposed_front = sim.devices['Steel_exposed_front'].data\n",
    "steel_exposed_020 = sim.devices['Steel_exposed_020'].data\n",
    "steel_exposed_040 = sim.devices['Steel_exposed_040'].data\n",
    "steel_exposed_060 = sim.devices['Steel_exposed_060'].data\n",
    "steel_exposed_080 = sim.devices['Steel_exposed_080'].data\n",
    "steel_exposed_back = sim.devices['Steel_exposed_back'].data\n",
    "\n",
    "steel_insulated_front = sim.devices['Steel_insulated_front'].data\n",
    "steel_insulated_020 = sim.devices['Steel_insulated_020'].data\n",
    "steel_insulated_040 = sim.devices['Steel_insulated_040'].data\n",
    "steel_insulated_060 = sim.devices['Steel_insulated_060'].data\n",
    "steel_insulated_080 = sim.devices['Steel_insulated_080'].data\n",
    "steel_insulated_back = sim.devices['Steel_insulated_back'].data\n"
   ]
  },
  {
   "cell_type": "code",
   "execution_count": 217,
   "id": "8563beee-f96e-4a82-897e-480788383ea8",
   "metadata": {},
   "outputs": [
    {
     "name": "stderr",
     "output_type": "stream",
     "text": [
      "No handles with labels found to put in legend.\n"
     ]
    },
    {
     "name": "stdout",
     "output_type": "stream",
     "text": [
      "[ 0.0000000e+00 -1.1590250e-02 -1.3303006e-01 ...  1.6939896e+01\n",
      "  1.6959976e+01  1.6965584e+01]\n"
     ]
    },
    {
     "data": {
      "image/png": "[encoded data removed]",
      "text/plain": [
       "<Figure size 432x288 with 2 Axes>"
      ]
     },
     "metadata": {
      "needs_background": "light"
     },
     "output_type": "display_data"
    },
    {
     "data": {
      "text/plain": [
       "<Figure size 720x720 with 0 Axes>"
      ]
     },
     "metadata": {},
     "output_type": "display_data"
    }
   ],
   "source": [
    "# plt.plot(time, steel_010, label=\"10 mm\")\n",
    "# plt.plot(time, steel_front, label=\"front\")\n",
    "# plt.plot(time, steel_back, label=\"back\")\n",
    "fig, ax1 = plt.subplots()\n",
    "\n",
    "ax1.plot(time, steel_exposed_front, label=\"Front exposed\", color='gray')\n",
    "ax1.plot(time, steel_exposed_020, label=\"20 mm exposed\", color='red')\n",
    "ax1.plot(time, steel_exposed_040, label=\"40 mm exposed\", color='green')\n",
    "ax1.plot(time, steel_exposed_060, label=\"60 mm exposed\", color='blue')\n",
    "ax1.plot(time, steel_exposed_080, label=\"80 mm exposed\", color='yellow')\n",
    "\n",
    "ax1.plot(time, steel_insulated_front, label=\"Front insulated\", color='gray', linestyle='--')\n",
    "ax1.plot(time, steel_insulated_020, label=\"20 mm insulated\", color='red', linestyle='--')\n",
    "ax1.plot(time, steel_insulated_040, label=\"40 mm insulated\", color='green', linestyle='--')\n",
    "ax1.plot(time, steel_insulated_060, label=\"60 mm insulated\", color='blue', linestyle='--')\n",
    "ax1.plot(time, steel_insulated_080, label=\"80 mm insulated\", color='yellow', linestyle='--')\n",
    "\n",
    "error = (steel_insulated_front-steel_exposed_front)/steel_insulated_front*100\n",
    "ax2 = ax1.twinx()\n",
    "ax2.plot(time, error)\n",
    "# plt.xlim(0,600)\n",
    "# plt.ylim(20,600)\n",
    "\n",
    "# plt.xlim(0,10)\n",
    "# plt.ylim(20,35)\n",
    "ax1.set_ylim(0,600)\n",
    "ax2.set_ylim(0,20)\n",
    "\n",
    "plt.legend(loc='upper right',ncol=2)\n",
    "ax1.grid(axis='x')\n",
    "ax1.set_xlabel(\"Time / s\")\n",
    "ax1.set_ylabel(\"Temperature / C\")\n",
    "ax2.set_ylabel(\"Rel Deviation / %\")\n",
    "ax1.set_yticks(np.linspace(0,600,5))\n",
    "ax2.set_yticks(np.linspace(0,20,5))\n",
    "plt.grid(axis='y')\n",
    "plt.figure(figsize=(10,10))\n",
    "\n",
    "plt.savefig('figs/backings_end.svg')\n",
    "print(error)"
   ]
  },
  {
   "cell_type": "code",
   "execution_count": null,
   "id": "8f529a24-e508-4b9c-8037-13d5039a8eb2",
   "metadata": {},
   "outputs": [],
   "source": []
  },
  {
   "cell_type": "markdown",
   "id": "aec706fe",
   "metadata": {},
   "source": [
    "## SMV Visualisation\n",
    "\n",
    "The computational domain including boundary conditions, obstructions and the results for the respective output variables of the FDS simulation can be displayed with the Smokeview post-processor."
   ]
  },
  {
   "cell_type": "markdown",
   "id": "7cc6bac8",
   "metadata": {},
   "source": [
    ":::{figure-md} fig-pool-fire-smv-plain\n",
    "\n",
    "<img src=\"figs/pool_fire_all.png\" width=\"100%\">\n",
    "\n",
    "SMV visualization of the geometry / the mesh-grid in the y-z-plane / the temperature values in the y-z-slice at  $\\sf y=0~m$ ($\\sf t=19.63~s$). The surface patch `BURNER`, which has a `HRRPUA` defined, is colored redish.  \n",
    ":::"
   ]
  },
  {
   "cell_type": "markdown",
   "id": "64472d67",
   "metadata": {},
   "source": [
    "## Analysis\n",
    "\n",
    "The following tasks are intended to provide a general understanding of how to use FDS and SmokeView. They cover the basic functions and the analysis of the simulation results. The FDS input case described above can serve as a starting point.\n",
    "\n",
    "```{tip} Read the entire task before starting a simulation to capture multiple output parameters in a single run. \n",
    "```"
   ]
  },
  {
   "cell_type": "markdown",
   "id": "f29d5a43",
   "metadata": {},
   "source": [
    "## Task I – Basics\n",
    "\n",
    "The goal of this task is to become familiar with basic functions. Use the above listed input file and extend it to your needs. \n",
    "\n",
    "```{tip} When adding new diagnostics or other elements, it is useful to reduce the computing time to allow for a fast turn-over-time. This way debugging or adjusting your setup will be more efficient. For pure geometrical checks, the simulation time can also be set to zero.  \n",
    "```\n",
    "\n",
    "\n",
    "**Task:**\n",
    "\n",
    "1. Add a temperature slice at $\\small\\sf y=0~m$ and watch the output via smokeview. Change the output by varying the color scaling and crop the data at an upper and lower boundary. Create snapshots for three points in time, e.g. $\\small\\sf 5~s$, $\\small\\sf 10~s$ and $\\small\\sf 20~s$. Add appropriate axes labels to the smokeview output to check the slice orientation. Refer to section 5.2 \"Data Bounds\" and 14.4 \"TICKS and LABEL keywords\" of [Smokeview User's Guide](https://github.com/firemodels/fds/releases/download/FDS6.7.6/SMV_User_Guide.pdf) for more information on how to change the output properties of slices. \n",
    "\n",
    "2. Visualize the velocity vector field in the plume axis at $\\small\\sf t \\approx 20~s$ for $\\small\\sf y=0~m$.\n",
    "    * Extra task: Open the sealed domain on at least one side and observe the change in the flow field. \n",
    "\n",
    "3. Plot the computed heat release rate (HRR) from the pool_fire_hrr.csv file against the given input HRR of the FDS file. Discuss the differences and what these are related to. Run simulations for HRR of $\\small\\sf 100~kW$, $\\small\\sf 1~MW$ and $\\small\\sf 10~MW$.\n",
    "\n",
    "**1. Solution**"
   ]
  },
  {
   "cell_type": "markdown",
   "id": "bd9e48ca",
   "metadata": {},
   "source": [
    ":::{figure-md} fig-pool-fire-temp-timesteps\n",
    "\n",
    "<img src=\"figs/pool_fire_temp_timesteps.png\" width=\"100%\">\n",
    "\n",
    "Visualization of the instantaneous `TEMPERATURE` values in the x-z-level at $\\sf y=0~m$ for different timesteps ($\\sf t=5.03~s$), ($\\sf t=10.03~s$), ($\\sf t=20.03~s$) The attribute `CELL_CENTERED`, prevents the values between the cell boundaries from being interpolated.\n",
    ":::\n",
    "\n",
    ":::{figure-md} fig-pool-fire-temp-bounds-trunc\n",
    "\n",
    "<img src=\"figs/pool_fire_temp_bounds_trunc.png\" width=\"100%\">\n",
    "\n",
    "Visualization of the instantaneous `TEMPERATURE` values in the x-z-slice at $\\sf y=0~m$ at ($\\sf t=19.63~s$) The upper data bound is set to 1200 and 800. The data is truncated beyond 100.\n",
    ":::\n",
    "Alternatively, the `SLCF` can be analyzed with the **fdsreader**."
   ]
  },
  {
   "cell_type": "code",
   "execution_count": 44,
   "id": "37f5ef92",
   "metadata": {
    "tags": [
     "hide_cell"
    ]
   },
   "outputs": [],
   "source": [
    "import fdsreader\n",
    "import numpy as np\n",
    "import matplotlib.pyplot as plt\n",
    "\n",
    "plt.rcParams['lines.linewidth'] = 1\n",
    "# plt.rcParams['figure.dpi'] = 150\n",
    "# plt.rcParams.update({\n",
    "#     \"text.usetex\": True,\n",
    "#     \"font.family\": \"sans-serif\",\n",
    "#     \"font.sans-serif\": [\"Helvetica\"]})\n",
    "\n",
    "root = '../../../../'"
   ]
  },
  {
   "cell_type": "code",
   "execution_count": 214,
   "id": "3e311712",
   "metadata": {
    "tags": [
     "hide_cell"
    ]
   },
   "outputs": [
    {
     "data": {
      "text/plain": [
       "<matplotlib.legend.Legend at 0x7fd32a279790>"
      ]
     },
     "execution_count": 214,
     "metadata": {},
     "output_type": "execute_result"
    },
    {
     "data": {
      "image/png": "[encoded data removed]",
      "text/plain": [
       "<Figure size 432x288 with 1 Axes>"
      ]
     },
     "metadata": {
      "needs_background": "light"
     },
     "output_type": "display_data"
    }
   ],
   "source": [
    "data_root = root + 'data/heat_transfer'\n",
    "sim = fdsreader.Simulation(data_root)\n",
    "time = sim.devices['Time'].data\n",
    "# tc_1_1 = sim.devices[f'TC_1_1'].data\n",
    "# t_1_1 = sim.devices[f'T_1_1'].data\n",
    "# tc_1_2 = sim.devices[f'TC_1_2'].data\n",
    "# t_1_2 = sim.devices[f'T_1_2'].data\n",
    "# tc_1_3 = sim.devices[f'TC_1_3'].data\n",
    "# t_1_3 = sim.devices[f'T_1_3'].data\n",
    "\n",
    "\n",
    "# plt.figure(figsize=(8,8))\n",
    "# plt.plot(time, tc_1_1, label=\"TC_1_1\")\n",
    "# plt.plot(time, t_1_1, label=\"T_1_1\")\n",
    "# plt.plot(time, tc_1_2, label=\"TC_1_2\")\n",
    "# plt.plot(time, t_1_2, label=\"T_1_2\")\n",
    "# plt.plot(time, tc_1_3, label=\"TC_1_3\")\n",
    "# plt.plot(time, t_1_3, label=\"T_1_3\")\n",
    "\n",
    "tst = sim.devices['Temp_steel_top'].data\n",
    "tsb = sim.devices['Temp_steel_bottom'].data\n",
    "tat = sim.devices['Temp_alu_top'].data\n",
    "tab = sim.devices['Temp_alu_bottom'].data\n",
    "\n",
    "tt = sim.devices['T_top'].data\n",
    "tct = sim.devices['TC_top'].data\n",
    "tb = sim.devices['T_bottom'].data\n",
    "tcb = sim.devices['TC_bottom'].data\n",
    "tm = sim.devices['T_middle'].data\n",
    "tcm = sim.devices['TC_middle'].data\n",
    "\n",
    "plt.plot(time, tt, label=\"TT\")\n",
    "plt.plot(time, tct, label=\"TCT\")\n",
    "plt.plot(time, tb, label=\"TB\")\n",
    "plt.plot(time, tcb, label=\"TCB\")\n",
    "plt.plot(time, tm, label=\"TM\")\n",
    "plt.plot(time, tcm, label=\"TCM\")\n",
    "\n",
    "# plt.plot(time, tst, label=\"TST\")\n",
    "# plt.plot(time, tat, label=\"TAT\")\n",
    "# plt.plot(time, tab, label=\"TAB\")\n",
    "# plt.plot(time, tsb, label=\"TSB\")\n",
    "\n",
    "plt.legend(loc='best')\n",
    "\n",
    "# plt.xlabel(\"X / m\")\n",
    "# plt.ylabel(\"Z / m\")\n",
    "# plt.savefig('figs/pool_fire_1mw_temperatures_slice.svg', bbox_inches='tight')\n",
    "# plt.close()\n",
    "\n"
   ]
  },
  {
   "cell_type": "code",
   "execution_count": 213,
   "id": "bdd75abb-8ea3-43f4-8bdf-967fd1dcc036",
   "metadata": {},
   "outputs": [
    {
     "name": "stdout",
     "output_type": "stream",
     "text": [
      "Slice([2D] cell_centered=True, extent=Extent([0.00, 0.00] x [0.00, 1.80] x [0.00, 4.80]), extent_dirs=('y', 'z'), orientation=1)\n"
     ]
    },
    {
     "data": {
      "text/plain": [
       "<matplotlib.colorbar.Colorbar at 0x7fd32a1a3100>"
      ]
     },
     "execution_count": 213,
     "metadata": {},
     "output_type": "execute_result"
    },
    {
     "data": {
      "image/png": "[encoded data removed]",
      "text/plain": [
       "<Figure size 432x288 with 2 Axes>"
      ]
     },
     "metadata": {
      "needs_background": "light"
     },
     "output_type": "display_data"
    }
   ],
   "source": [
    "print(sim.slices[0])\n",
    "time = 100\n",
    "time_index = sim.slices[0].get_nearest_timestep(time)\n",
    "\n",
    "slice_1 = sim.slices[1][0].data[time_index]\n",
    "slice_2 = sim.slices[2][0].data[time_index]\n",
    "plt.imshow(slice_2, vmax=50)\n",
    "plt.colorbar()"
   ]
  },
  {
   "cell_type": "markdown",
   "id": "569b6272",
   "metadata": {},
   "source": [
    ":::{figure-md} fig-pool-fire-temp-slice\n",
    "\n",
    "<img src=\"figs/pool_fire_1mw_temperatures_slice.svg\" width=\"60%\">\n",
    "\n",
    "Visualization of the instantaneous ($\\sf t=19.63~s$) `TEMPERATURE` values in the y-z-slice $\\sf y=0~m$ with python / matplotlib. The data was obtained via the **fdsreader**.\n",
    ":::"
   ]
  },
  {
   "cell_type": "code",
   "execution_count": 3,
   "id": "40fc0f5e",
   "metadata": {
    "tags": [
     "hide_cell"
    ]
   },
   "outputs": [],
   "source": [
    "from fdsreader.bndf.utils import sort_patches_cartesian\n",
    "data_root = root + 'data/pool_fire/bndf'\n",
    "sim = fdsreader.Simulation(data_root)\n",
    "obst = sim.obstructions[0]\n",
    "\n",
    "orientation = -1\n",
    "quantity = \"AST\"\n",
    "patches = list()\n",
    "for sub_obst in obst.filter_by_orientation(orientation):\n",
    "    # Get boundary data for a specific quantity\n",
    "    sub_obst_data = sub_obst.get_data(quantity)\n",
    "    patches.append(sub_obst_data.data[orientation])\n",
    "\n",
    "# Combine patches to a single face for plotting\n",
    "patches = sort_patches_cartesian(patches)\n",
    "\n",
    "shape_dim1 = sum([patch_row[0].shape[0] for patch_row in patches])\n",
    "shape_dim2 = sum([patch.shape[1] for patch in patches[0]])\n",
    "n_t = patches[0][0].n_t  # Number of timesteps\n",
    "\n",
    "face = np.empty(shape=(n_t, shape_dim1, shape_dim2))\n",
    "dim1_pos = 0\n",
    "dim2_pos = 0\n",
    "for patch_row in patches:\n",
    "    d1 = patch_row[0].shape[0]\n",
    "    for patch in patch_row:\n",
    "        d2 = patch.shape[1]\n",
    "        face[:, dim1_pos:dim1_pos + d1,\n",
    "        dim2_pos:dim2_pos + d2] = patch.data\n",
    "        dim2_pos += d2\n",
    "    dim1_pos += d1\n",
    "    dim2_pos = 0\n",
    "\n",
    "t = 20\n",
    "plt.figure(figsize=(4,6))\n",
    "plot = plt.imshow(face[t].T, vmin=20, vmax=300, origin=\"lower\", cmap=\"jet\")\n",
    "plt.colorbar(label=\"Temperature / $\\sf ^\\circ C$\")\n",
    "plt.xlabel(\"$\\sf N_{cells,x}$ / -\")\n",
    "plt.ylabel(\"$\\sf N_{cells,y}$ / -\")\n",
    "plt.savefig('figs/pool_fire_bndf_ast.svg', bbox_inches='tight')\n",
    "plt.close()"
   ]
  },
  {
   "cell_type": "markdown",
   "id": "d7a7503b-c933-4d7d-b739-b1dd0d776205",
   "metadata": {},
   "source": [
    "**2. Solution**"
   ]
  },
  {
   "cell_type": "code",
   "execution_count": 4,
   "id": "c853ed94",
   "metadata": {
    "tags": [
     "hide_cell"
    ]
   },
   "outputs": [],
   "source": [
    "data_root = root + 'data/pool_fire/10mw_sealed'\n",
    "sim = fdsreader.Simulation(data_root)# Vector Plots\n",
    "time = 20\n",
    "time_index = slice_temp.get_nearest_timestep(time)\n",
    "\n",
    "\n",
    "slice_u = sim.slices[3][0].data[time_index]\n",
    "slice_v = sim.slices[4][0].data[time_index]\n",
    "n_x = slice_u.shape[0]\n",
    "n_y = slice_u.shape[1]\n",
    "x = range(n_x)\n",
    "y = range(n_y)\n",
    "X, Y = np.meshgrid(x, y)\n",
    "slice_res = (slice_u**2 + slice_v**2)**1/2\n",
    "plt.figure(figsize=(3,6))\n",
    "plt.quiver(X,Y, slice_u.T, slice_v.T, slice_res.T,cmap='jet', clim=(0,50), scale=100)\n",
    "plt.colorbar(label = \"Velocity / $\\sf ms^{-2}$\")\n",
    "plt.xlabel(\"$\\sf N_{cells,x}$ / -\")\n",
    "plt.ylabel(\"$\\sf N_{cells,y}$ / -\")\n",
    "plt.xticks(ticks=[0,12.5,25], labels=[-2.5,0,2.5])\n",
    "plt.yticks(ticks=[0,10,20,30,40,50], labels=[0,2,4,6,8,10])\n",
    "plt.xlim(0,25)\n",
    "plt.savefig('figs/pool_fire_velocity_vector_sealed.svg', bbox_inches='tight')\n",
    "plt.close()"
   ]
  },
  {
   "cell_type": "code",
   "execution_count": 5,
   "id": "4593b3bb",
   "metadata": {
    "tags": [
     "hide_cell"
    ]
   },
   "outputs": [],
   "source": [
    "data_root = root + 'data/pool_fire/10mw_open'\n",
    "sim = fdsreader.Simulation(data_root)# Vector Plots\n",
    "time = 20\n",
    "time_index = slice_temp.get_nearest_timestep(time)\n",
    "\n",
    "\n",
    "slice_u = sim.slices[3][0].data[time_index]\n",
    "slice_v = sim.slices[4][0].data[time_index]\n",
    "n_x = slice_u.shape[0]\n",
    "n_y = slice_u.shape[1]\n",
    "x = range(n_x)\n",
    "y = range(n_y)\n",
    "X, Y = np.meshgrid(x, y)\n",
    "slice_res = (slice_u**2 + slice_v**2)**1/2\n",
    "plt.figure(figsize=(3,6))\n",
    "plt.quiver(X,Y, slice_u.T, slice_v.T, slice_res.T,cmap='jet', clim=(0,50), scale=100)\n",
    "plt.colorbar(label = \"Velocity / $\\sf ms^{-2}$\")\n",
    "\n",
    "plt.xlabel(\"$\\sf N_{cells,x}$ / -\")\n",
    "plt.ylabel(\"$\\sf N_{cells,y}$ / -\")\n",
    "plt.xticks(ticks=[0,12.5,25], labels=[-2.5,0,2.5])\n",
    "plt.yticks(ticks=[0,10,20,30,40,50], labels=[0,2,4,6,8,10])\n",
    "plt.xlim(0,25)\n",
    "plt.savefig('figs/pool_fire_velocity_vector_open.svg', bbox_inches='tight')\n",
    "plt.close()"
   ]
  },
  {
   "cell_type": "markdown",
   "id": "7b87af84",
   "metadata": {},
   "source": [
    "\n",
    "```{tabbed} 10 MW, sealed domain\n",
    "<img src=\"figs/pool_fire_velocity_vector_sealed.svg\" width=\"60%\">\n",
    "```\n",
    "\n",
    "```{tabbed} 10 MW, open domain\n",
    "<img src=\"figs/pool_fire_velocity_vector_open.svg\" width=\"60%\">\n",
    "```"
   ]
  },
  {
   "cell_type": "markdown",
   "id": "e1919c77-6a25-452a-8afe-030d7bbd2041",
   "metadata": {},
   "source": [
    "**3. Solution**\n",
    "\n",
    "The fluctuation of the HRR curve increases at higher levels. A drop in the released energy with time indicates a lower oxygen level due to the sealed compartment."
   ]
  },
  {
   "cell_type": "code",
   "execution_count": 6,
   "id": "6b1a6fa3",
   "metadata": {
    "tags": [
     "hide_cell"
    ]
   },
   "outputs": [],
   "source": [
    "data_root = root + 'data/pool_fire/100kw_sealed'\n",
    "sim = fdsreader.Simulation(data_root)\n",
    "plt.plot(sim.hrr[\"Time\"], sim.hrr[\"HRR\"], label='simulation')\n",
    "t_min_max = [sim.hrr[\"Time\"][0], sim.hrr[\"Time\"][-1]]\n",
    "hrr_prescribed = 100\n",
    "plt.plot(t_min_max, [hrr_prescribed, hrr_prescribed], label='prescribed')\n",
    "plt.grid(True, linestyle='--', alpha=0.5)\n",
    "plt.legend(loc='best')\n",
    "plt.xlabel(\"Time / s\")\n",
    "plt.ylabel(\"HRR / kW\")\n",
    "plt.savefig('figs/pool_fire_100kw_sealed_hrr.svg', bbox_inches='tight')\n",
    "plt.close()"
   ]
  },
  {
   "cell_type": "code",
   "execution_count": 7,
   "id": "88d28278",
   "metadata": {
    "tags": [
     "hide_cell"
    ]
   },
   "outputs": [],
   "source": [
    "data_root = root + 'data/pool_fire/1mw_sealed'\n",
    "sim = fdsreader.Simulation(data_root)\n",
    "plt.plot(sim.hrr[\"Time\"], sim.hrr[\"HRR\"], label='simulation')\n",
    "t_min_max = [sim.hrr[\"Time\"][0], sim.hrr[\"Time\"][-1]]\n",
    "hrr_prescribed = 1000\n",
    "plt.plot(t_min_max, [hrr_prescribed, hrr_prescribed], label='prescribed')\n",
    "plt.grid(True, linestyle='--', alpha=0.5)\n",
    "plt.legend(loc='best')\n",
    "plt.xlabel(\"Time / s\")\n",
    "plt.ylabel(\"HRR / kW\")\n",
    "plt.savefig('figs/pool_fire_1mw_sealed_hrr.svg', bbox_inches='tight')\n",
    "plt.close()"
   ]
  },
  {
   "cell_type": "code",
   "execution_count": 8,
   "id": "b286c63d",
   "metadata": {
    "tags": [
     "hide_cell"
    ]
   },
   "outputs": [],
   "source": [
    "data_root = root + 'data/pool_fire/10mw_sealed'\n",
    "sim = fdsreader.Simulation(data_root)\n",
    "plt.plot(sim.hrr[\"Time\"], sim.hrr[\"HRR\"], label='simulation')\n",
    "t_min_max = [sim.hrr[\"Time\"][0], sim.hrr[\"Time\"][-1]]\n",
    "hrr_prescribed = 10000\n",
    "plt.plot(t_min_max, [hrr_prescribed, hrr_prescribed], label='prescribed')\n",
    "plt.grid(True, linestyle='--', alpha=0.5)\n",
    "plt.legend(loc='best')\n",
    "plt.xlabel(\"Time / s\")\n",
    "plt.ylabel(\"HRR / kW\")\n",
    "plt.savefig('figs/pool_fire_10mw_sealed_hrr.svg', bbox_inches='tight')\n",
    "plt.close()"
   ]
  },
  {
   "cell_type": "markdown",
   "id": "73608547",
   "metadata": {},
   "source": [
    "\n",
    "```{tabbed} 100 kW\n",
    "<img src=\"figs/pool_fire_100kw_sealed_hrr.svg\" width=\"80%\">\n",
    "```\n",
    "\n",
    "```{tabbed} 1 MW\n",
    "<img src=\"figs/pool_fire_1mw_sealed_hrr.svg\" width=\"80%\">\n",
    "```\n",
    "\n",
    "```{tabbed} 10 MW\n",
    "<img src=\"figs/pool_fire_10mw_sealed_hrr.svg\" width=\"80%\">\n",
    "```"
   ]
  },
  {
   "cell_type": "markdown",
   "id": "8191ce83",
   "metadata": {},
   "source": [
    "## Task II - Plume Formulas\n",
    "\n",
    "This task targets the computation of the plume temperature with analytical methods in order to subsequently validate the results of an numerical simulation. For more detailed information on the theory and application of the plume formulas, please refer to the literature, e.g. Enclosure Fire Dynamics by B. Karlsson and J. Quintiere {cite}`Karlsson.1999`.\n",
    "\n",
    "***Heskested***\n",
    "\n",
    "$\\small\\sf \\Delta T $ indicates the temperature rise in the plume centerline axis above ambient temperature:\n",
    "\n",
    "\n",
    "$$ \\small\\sf\n",
    "\\Delta T = 9.1 \\left(\\frac{T_\\infty}{g \\cdot c_p^2 \\cdot \\rho_\\infty^2} \\right)^{1/3} \\cdot \\dot{Q}_c^{2/3} \\cdot (z -z_0)^{-5/3}\n",
    "$$\n",
    "\n",
    "where $\\sf \\dot{Q}_c$ is the convective heat release rate, $\\small\\sf T_\\infty = 293~K$ is the ambient temperature, $\\small\\sf g = 9.81~ms^{-1}$ is the gravitational constant, $\\small\\sf \\rho_\\infty = 1.2 kg/m^3$ is the \n",
    "density of air at ambient temperature, $\\small\\sf c_p = 1.0~kJ/(kg K)$ is the specific heat capacity and z is the height above the fuel source in m.\n",
    "\n",
    "The virtual origin $\\small\\sf z_0$ depends on the (equivalent) diameter D of the fire source and the total heat release rate and is given by:\n",
    "\n",
    "$$\\small\\sf\n",
    "z_0 = 0.083 \\cdot \\dot{Q}^{2/5} - 1.02 \\cdot D\n",
    "$$\n",
    "\n",
    "The calculation of the plume temperature according to Heskestad is defined exclusively for the area above the flame. The flame height is calculated by the following expression: \n",
    "\n",
    "$$\\small\\sf\n",
    "L = 0.235 \\cdot \\dot{Q}^{2/5} - 1.02 \\cdot D\n",
    "$$\n",
    "\n",
    "***McCaffrey***\n",
    "\n",
    "$\\small\\sf \\Delta T $ indicates the temperature rise in the plume centerline axis above ambient temperature:\n",
    "\n",
    "$$\\small\\sf\n",
    "\\Delta T = \\left(\\frac{\\kappa}{0.9 \\cdot \\sqrt{2g}}\\right)^2 \\cdot \\left(\\frac{z}{\\dot{Q}^{2/5}}\\right)^{2\\eta-1} \\cdot T_\\infty\n",
    "$$\n",
    "\n",
    "where $\\small\\sf \\dot{Q}$ is the total heat release rate, $\\small\\sf T_\\infty = 293~K$ is the ambient temperature, $\\small\\sf g = 9.81~ms^{-1}$ is the gravitational constant, z is the height above the fuel source in m. The constants $\\small\\sf \\eta$ and $\\small\\sf \\kappa$ vary depending on the plume regions and can be obtained from the following table.\n",
    "\n",
    "| Region       | $ \\small\\sf \\frac{z}{\\dot{Q}^{2/5}}$    | $\\small\\sf \\eta$ | $\\small\\sf \\kappa$           |\n",
    "|--------------|---------------------|--------|-----------------------------|\n",
    "| Continuous   | < 0.08           | 1/2  | $\\small\\sf 6.8~[m^{1/2}/s]$           |\n",
    "| Intermittent | 0.08-0.2         |  0    | $\\small\\sf 1.9~[m/(kW^{1/5}s)]$       |\n",
    "| Plume        | > 0.2            | -1/3 | $\\small\\sf 1.1~[m^{4/4}/(kW^{1/3}s)]$ |\n",
    "\n",
    "**Task:**\n",
    "\n",
    "1. Calculate the temperatures of the plume within the respective application limits using the analytical approaches of the Heskested and Mccaffrey Plumes with a HRR of 1 MW at heights of $\\small\\sf  z = 1~m, 2~m, 3~m, 4~m, 5~m, 6~m$. Assume that the radiative fraction of the plume is 20 % and $ \\small\\sf A_{fire}=1~m^2$ . Compare the results and discuss the reasons for the deviations.\n",
    "\n",
    "2. Compare the results from the analytical calculations to the results of an FDS simulation using temperature devices. Smooth the output by a moving average to reduce noise. Refer to section 20.1 of the [FDS User's Guide](https://github.com/firemodels/fds/releases/download/FDS6.7.5/FDS_User_Guide.pdf) for further information on how to place Devices in the computational domain.\n",
    "\n",
    "    Add the following lines to your FDS file to open the lateral and top boundaries of the sealed domain which provides a better depiction of the boundary conditions of the empirically determined plume formulas:\n",
    "    ```\n",
    "    &VENT MB = 'XMIN' SURF_ID = 'OPEN' /\n",
    "    &VENT MB = 'XMAX' SURF_ID = 'OPEN' /\n",
    "    &VENT MB = 'YMIN' SURF_ID = 'OPEN' /\n",
    "    &VENT MB = 'YMAX' SURF_ID = 'OPEN' /\n",
    "    &VENT MB = 'ZMAX' SURF_ID = 'OPEN' /\n",
    "    ``` \n",
    "    \n",
    "```{tip} To reduce noise, temperatures calculated with FDS can be smoothed using a simple moving average (SMA). The SMA of a time series $\\small\\sf x(t)$ is the sequence of arithmetic averages of $\\small\\sf  n$ consecutive data points.\n",
    "$\\small\\sf m_{SMA}(t) = \\frac{1}{n}\\sum_{i=0}^{n-1}x(t-i)$\n",
    "```\n",
    "**1. Solution:**"
   ]
  },
  {
   "cell_type": "markdown",
   "id": "35e435e2",
   "metadata": {
    "tags": [
     "hide_cell"
    ]
   },
   "source": [
    "***Heskested***\n",
    "```{toggle}\n",
    "Simplifying the plume formula into:\n",
    "\n",
    "$\\small\\sf \\Delta T = 9.1 \\left(\\frac{T_\\infty}{g \\cdot c_p^2 \\cdot \\rho_\\infty^2} \\right)^{1/3} \\cdot \\dot{Q}_c^{2/3} \\cdot (z -z_0)^{-5/3} = 25 \\left( \\frac{\\dot{Q}_c^{2/5}}{(z -z_0)}\\right)^{5/3}$\n",
    "\n",
    "The equivalent diameter:\n",
    "\n",
    "$\\small\\sf D = \\sqrt{\\frac{4 \\cdot A}{\\pi}} = \\sqrt{\\frac{4 \\cdot 1}{\\pi}} \\approx 1.13~m$\n",
    "\n",
    "The virtual plume origin:\n",
    "\n",
    "$\\small\\sf z_0 = 0.083 \\cdot 1000^{2/5} - 1.02 \\cdot 1.13 \\approx 0.163~m$\n",
    "\n",
    "The flame height:\n",
    "\n",
    "$\\small\\sf L = 0.235 \\cdot 1000^{2/5} - 1.02 \\cdot 1.13 = 2.57~m$\n",
    "\n",
    "The plume temperature at different heights:\n",
    "\n",
    "$\\small\\sf z = 3.0 m:$ $\\small\\sf  \\Delta T = 25 \\left( \\frac{800^{2/5}}{(3 - 0.163)}\\right)^{5/3} = 379~K$\n",
    "\n",
    "$\\small\\sf z = 4.0 m:$ $\\small\\sf  \\Delta T = 25 \\left( \\frac{800^{2/5}}{(4 - 0.163)}\\right)^{5/3} = 229~K$\n",
    "\n",
    "$\\small\\sf z = 5.0 m:$ $\\small\\sf  \\Delta T = 25 \\left( \\frac{800^{2/5}}{(5 - 0.163)}\\right)^{5/3} = 156~K$\n",
    "\n",
    "$\\small\\sf z = 6.0 m:$ $\\small\\sf  \\Delta T = 25 \\left( \\frac{800^{2/5}}{(6 - 0.163)}\\right)^{5/3} = 114~K$\n",
    "\n",
    "```"
   ]
  },
  {
   "cell_type": "markdown",
   "id": "2e73bf86",
   "metadata": {
    "tags": [
     "hide_cell"
    ]
   },
   "source": [
    "***McCaffrey***\n",
    "\n",
    "```{toggle}\n",
    "$\\small\\sf z = 1.0 m: \\frac{z}{\\dot{Q}^{2/5}} = \\frac{1}{1000^{2/5}} = 0.063~|~0.063 < 0.08$ -> Continuous\n",
    "\n",
    "$\\small\\sf z = 2.0 m: \\frac{z}{\\dot{Q}^{2/5}} = \\frac{2.0}{1000^{2/5}} = 0.126~|~0.2 > 0.126 > 0.08$ -> Intermediate\n",
    "\n",
    "$\\small\\sf z = 3.0 m: \\frac{z}{\\dot{Q}^{2/5}} = \\frac{3.0}{1000^{2/5}} = 0.189~|~0.2 > 0.189 > 0.08$ -> Intermediate\n",
    "\n",
    "$\\small\\sf z = 4.0 m: \\frac{z}{\\dot{Q}^{2/5}} = \\frac{4.0}{1000^{2/5}} = 0.252~|~0.252 > 0.2$ -> Plume\n",
    "\n",
    "$\\small\\sf z = 5.0 m: \\frac{z}{\\dot{Q}^{2/5}} = \\frac{5.0}{1000^{2/5}} = 0.315~|~0.315 > 0.2$ -> Plume\n",
    "\n",
    "$\\small\\sf z = 6.0 m: \\frac{z}{\\dot{Q}^{2/5}} = \\frac{6.0}{1000^{2/5}} = 0.379~|~0.379 > 0.2$ -> Plume\n",
    "\n",
    "\n",
    "The calculated temperatures and the respective auxiliary constants used can be found in the following table:\n",
    "\n",
    "\n",
    "| $\\small\\sf z [m]$ | $\\small\\sf \\frac{z}{\\dot{Q}^{2/5}}[m/kW^{2/5}]$  | $\\small\\sf \\eta$ | $\\small\\sf \\kappa$             | $\\small\\sf \\Delta T [\\circ C]$ |\n",
    "|:-------:|:--------------------------------------:|:------:|:--------------------:|:--------------------:|\n",
    "| 1.0     | 0.063                                  | 1/2    | $\\small\\sf 6.8~m^{1/2}/s$      |          852         |\n",
    "| 2.0     | 0.126                                  | 0      | $\\small\\sf 1.9~m/(kW^{1/5}s)$  |          528         |\n",
    "| 3.0     | 0.189                                  | 0      | $\\small\\sf 1.9~m/(kW^{1/5}s)$  |          352         |\n",
    "| 4.0     | 0.252                                  | -1/3   | $\\small\\sf 1.1~m^{4/4}/(kW^{1/3}s)$   |          221         |\n",
    "| 5.0     | 0.315                                  | -1/3   | $\\small\\sf 1.1~m^{4/4}/(kW^{1/3}s)$  |          152         |\n",
    "| 6.0     | 0.379                                  | -1/3   | $\\small\\sf 1.1~m^{4/4}/(kW^{1/3}s)$  |          113         |\n",
    "\n",
    "```"
   ]
  },
  {
   "cell_type": "markdown",
   "id": "c16d90af",
   "metadata": {
    "tags": [
     "hide_cell"
    ]
   },
   "source": [
    "***FDS Devices***"
   ]
  },
  {
   "cell_type": "code",
   "execution_count": 21,
   "id": "ded09fc8",
   "metadata": {
    "tags": [
     "hide_cell"
    ]
   },
   "outputs": [],
   "source": [
    "import matplotlib.patches as mpatches\n",
    "from matplotlib.lines import Line2D\n",
    "\n",
    "\n",
    "def sma (values, window):\n",
    "    weights = np.repeat(1.0, window)/window\n",
    "    sma = np.convolve(values, weights, 'valid')\n",
    "    return sma\n",
    "d_t_hesk_dict = {3.0:379, 4.0:229, 5.0:156, 6:114}\n",
    "d_t_mcf_dict = {1.0:852, 2.0:527, 3.0:352, 4.0:221, 5.0:152, 6.0:112}\n",
    "color_list = ['b', 'c', 'g', 'r', 'y', 'm']\n",
    "data_root = root + 'data/pool_fire/1mw_open'\n",
    "sim = fdsreader.Simulation(data_root)\n",
    "height_list = [1.0, 2.0, 3.0, 4.0, 5.0, 6.0]\n",
    "window = 100\n",
    "for z, c in zip(height_list, color_list):\n",
    "    time = sim.devices['Time'].data\n",
    "    temperature = sim.devices[f'T_{z}'].data\n",
    "#     plt.scatter(time, temperature, s=1, alpha=0.1, color=c)\n",
    "    plt.plot(sma(time, window), sma(temperature, window), label=f\"z = {z}\", color=c)\n",
    "    if z in d_t_hesk_dict:\n",
    "        plt.axhline(y=d_t_hesk_dict[z]+20, color=c, linestyle='dashed')\n",
    "    if z in d_t_mcf_dict:\n",
    "        plt.axhline(y=d_t_mcf_dict[z]+20, color=c, linestyle='dotted')\n",
    "    plt.annotate(f\"$\\sf z={z}~m$\", xy=(30, d_t_mcf_dict[z]-50),  color=c, annotation_clip=False)\n",
    "\n",
    "plt.grid(True, linestyle='--', alpha=0.5)\n",
    "plt.legend(loc='best')\n",
    "plt.xlabel(\"Time / s\")\n",
    "plt.ylabel(\"Temperature / $\\sf ^\\circ C$\")\n",
    "line_fds = Line2D([0], [0], color='black', linestyle='-')\n",
    "line_hesk = Line2D([0], [0], color='black', linestyle='dashed')\n",
    "line_mcf = Line2D([0], [0], color='black', linestyle='dotted')\n",
    "plt.legend([line_fds, line_hesk, line_mcf], [\"FDS\", \"Heskestad\", \"MCCaffrey\"])\n",
    "\n",
    "plt.savefig('figs/pool_fire_1mw_open_temperatures_devc.svg', bbox_inches='tight')\n",
    "plt.close()"
   ]
  },
  {
   "cell_type": "markdown",
   "id": "8e4f60f7",
   "metadata": {
    "tags": []
   },
   "source": [
    "**2. Solution**\n",
    ":::{figure-md} fig-pool-fire-hrr\n",
    "\n",
    "<img src=\"figs/pool_fire_1mw_open_temperatures_devc.svg\" width=\"80%\">\n",
    "\n",
    "Moving average of `TEMPERATURE` devices at heights 1.0, 2.0, 3.0, 4.0, 5.0 and 6.0 m smoothed over 100 datapoints.\n",
    ":::"
   ]
  },
  {
   "cell_type": "markdown",
   "id": "b37bf0d3",
   "metadata": {},
   "source": [
    "## Task III – Time-dependent Heat Release Rate\n",
    "\n",
    "This task deals with the different possibilities to define the heat release rate (HRR) of a design fire and to model it in FDS. The total heat release  $\\small\\sf \\dot{Q}$ of a burning area $\\small\\sf A_{fire}$ depends on the heat release rate per unit area $\\small\\sf \\dot{q}''$:\n",
    "\n",
    "$$\\small\\sf \\dot{Q} = {A_{Fire} \\cdot \\dot{q}''}$$\n",
    "In FDS a burning area is defined by a `VENT` with a certain surface property that can be assigned by a `SURF_ID`. A fixed heat release rate per unit area can be set to a `SURF` by the attribute `HRRPUA`. Please refer to section 10.2.1 \"Basics\" of the [FDS User's Guide](https://github.com/firemodels/fds/releases/download/FDS6.7.5/FDS_User_Guide.pdf) for further information.\n",
    "\n",
    "```{tip} Create an automation in Python or Excel that outputs the strings of the RAMP lines for the FDS input file.  \n",
    "```\n",
    "\n",
    "**Task:**\n",
    "\n",
    "1. Model the HRR progression for a radially spreading fire with a maximum power of 1 MW in FDS assuming a fixed burning area (task 1.1) and a radial propagation from the center of the burning area (task 1.2).\n",
    "\n",
    "\n",
    "    1. The HRR according to the 't-square' model can be described by:\n",
    "    \n",
    "        $$\\small\\sf \\dot Q = \\alpha \\cdot t^2$$\n",
    "        where t is the  burning time after ignition and $\\small\\sf \\alpha$ is the fire growth factor.Assume a fast fire propagation by $\\small\\sf \\alpha = 0.04689~kW/s^2$ and a **constant** heat release rate per unit area of $\\small\\sf  \\dot{q}'' = 0.25~MW/m^2$. The maximum burning area is $\\small\\sf  A_{fire} = 1~m^2$. First calculate the time until the fire has spread to the entire area. This corresponds to the time at which the maximum HRR is reached. For simplicity, assume a perfect radial fire spread and a round fire area. Then model the temporal evolution of the HRR in FDS via a `RAMP` function (See section 20.6 \"Controlling a Ramp\" of the [FDS User's Guide](https://github.com/firemodels/fds/releases/download/FDS6.7.5/FDS_User_Guide.pdf) ).\n",
    "    \n",
    "    2. Model the fire propagation directly in FDS by defining the spread rate. The `SPREAD` attribute denotes a constant radial propagation speed from a specified point.\n",
    "        :::{figure-md} fig-pool-fire-spread\n",
    "\n",
    "        <img src=\"figs/pool_fire_spread.svg\" width=\"30%\">\n",
    "\n",
    "        Fire propagation via FDS `SPREAD` attribute\n",
    "        :::\n",
    "    \n",
    "        For instructions on how to model a radial fire spread in FDS, please refer to the [FDS User's Guide](https://github.com/firemodels/fds/releases/download/FDS6.7.5/FDS_User_Guide.pdf) Section 11.4.2 \"Special Topic: A Radially-Spreading Fire\". The radial propagation speed v can be obtained from the fire area $\\small\\sf A_{Fire}$ and the corresponding burning period t.\n",
    "        \n",
    "        $$\\small\\sf v = \\frac{\\sqrt{A_{fire}/\\pi}}{t}$$\n",
    "\n",
    "    3. Compare the HRR curves calculated by FDS with each other and discuss the limitations and inaccuracies associated with each approach.\n",
    "\n",
    "\n",
    "2. Given is the fictional mass loss of a heptane fire. Calculate the heat release of the fire over the entire burning period with an assumed effective heat of combustion $\\small\\sf  \\Delta h_{c,eff} = 44,590~kJ / kg$. Model the HRR in FDS by using the RAMP function. Check if the simulated curve matches the prescribed HRR. The effective heat of combustion indicates the heat release per unit of weight of a material burned in combustion. For simplicity, assume that the averaged mass loss between two time steps applies to the end of each time interval. \n",
    "The mass loss caused by the burn-up can be described by the following time-dependent correlation:\n",
    "    ```\n",
    "    time_index = [0, 25, 50, 75, 100, 125, 150, 175, 200, 225, 250, 275 ] # [s]\n",
    "    total_mass = [4000, 4000, 3600, 3040, 2880, 2400, 1800, 1120, 600, 160, 0, 0] # [g]\n",
    "     ```"
   ]
  },
  {
   "cell_type": "markdown",
   "id": "a699e489-0296-4db7-ac55-c19f55f7ad9b",
   "metadata": {
    "tags": []
   },
   "source": [
    "**1. Solution**\n",
    "```{toggle}\n",
    "The burning period for the fire to reach the maximum heat release is:\n",
    "\n",
    "$$\n",
    "t = \\frac{\\dot{q}'' \\cdot A_{Fire}}{\\alpha} = \\frac{250 \\cdot 1}{0.04689} \\approx 73~s\n",
    "$$\n",
    "\n",
    "By setting the time and fraction parameters `T` and `F`, the `RAMP` function is obtained as follows:\n",
    "\n",
    "    &SURF ID = 'BURNER', HRRPUA = 250, RAMP_Q = 'fireramp', COLOR = 'RASPBERRY' /\n",
    "    &VENT XB = -0.5,0.5, -0.5,0.5, 0.0, 0.0, SURF_ID='BURNER' /\n",
    "    &RAMP ID='fireramp', T=0, F=0.00\n",
    "    .\n",
    "    .\n",
    "    .\n",
    "    &RAMP ID='fireramp', T=73, F=1.00\n",
    "\n",
    "The spread rate corresponds to the propagation speed in m/s:\n",
    "\n",
    "$$\n",
    "\\small\\sf v = \\frac{\\sqrt{A_{fire}/\\pi}}{t} = \\frac{\\sqrt{1/\\pi}}{73} = 0.00773 m/s\n",
    "$$\n",
    "\n",
    "Starting from the center of the vent, the radial propagation of the fire in FDS can be described as follows:\n",
    "\n",
    "    &SURF ID = 'BURNER', HRRPUA = 250, COLOR = 'RASPBERRY' /\n",
    "    &VENT XB = -0.5,0.5, -0.5,0.5, 0.0, 0.0, SURF_ID='BURNER', SPREAD_RATE = 0.00773 /\n",
    "```"
   ]
  },
  {
   "cell_type": "code",
   "execution_count": null,
   "id": "ef3ae20c",
   "metadata": {
    "tags": [
     "hide_cell"
    ]
   },
   "outputs": [],
   "source": [
    "alpha = 0.04689\n",
    "Qdot_max = 250\n",
    "t = (Qdot_max / alpha)**(1/2)\n",
    "print(t)\n",
    "print(f\"&SURF ID = 'BURNER', HRRPUA = {Qdot_max}, RAMP_Q = 'fireramp', COLOR = 'RASPBERRY' /\")\n",
    "for t in range(0, 74):\n",
    "    Qdot = alpha * t **2\n",
    "    \n",
    "    print(f\"&RAMP ID='fireramp', T={t}, F={Qdot / Qdot_max:.2f}\")"
   ]
  },
  {
   "cell_type": "code",
   "execution_count": null,
   "id": "bc932c80",
   "metadata": {
    "tags": [
     "hide_cell"
    ]
   },
   "outputs": [],
   "source": [
    "data_root = root + 'data/pool_fire/ramp_spread/rundir'\n",
    "sim = fdsreader.Simulation(data_root)\n",
    "plt.plot(sim.hrr[\"Time\"], sim.hrr[\"HRR\"], label='FDS SPREAD')\n",
    "t_min_max = [sim.hrr[\"Time\"][0], sim.hrr[\"Time\"][-1]]\n",
    "\n",
    "data_root = root + 'data/pool_fire/ramp_tsquare'\n",
    "sim = fdsreader.Simulation(data_root)\n",
    "plt.plot(sim.hrr[\"Time\"], sim.hrr[\"HRR\"], label='FDS RAMP')\n",
    "t_min_max = [sim.hrr[\"Time\"][0], sim.hrr[\"Time\"][-1]]\n",
    "\n",
    "plt.grid(True, linestyle='--', alpha=0.5)\n",
    "plt.legend(loc='best')\n",
    "plt.xlabel(\"Time / s\")\n",
    "plt.ylabel(\"HRR / kW\")\n",
    "plt.savefig('figs/pool_fire_10mw_sealed_hrr_spread.svg', bbox_inches='tight')\n",
    "plt.close()"
   ]
  },
  {
   "cell_type": "markdown",
   "id": "fd0f757a",
   "metadata": {},
   "source": [
    ":::{figure-md} fig-pool-fire-hrr-spread\n",
    "\n",
    "<img src=\"figs/pool_fire_10mw_sealed_hrr_spread.svg\" width=\"80%\">\n",
    "\n",
    "Simulated `HRR` generated by `RAMP` and `SPREAD` as a function of time.\n",
    ":::"
   ]
  },
  {
   "cell_type": "markdown",
   "id": "4d30b273-98c8-4c97-b2dd-ddfdd84c2343",
   "metadata": {},
   "source": [
    "**2. Solution**\n",
    "```{toggle}\n",
    "The HRR can be obtained from the mass loss $\\small\\sf \\dot{m_{fuel}}$ by the following expression:\n",
    "$$\\small\\sf \\dot{Q} = \\Delta h_{c,eff} \\dot{m_{fuel}}$$\n",
    "\n",
    "The maximum \n",
    "\n",
    "    &SURF ID = 'BURNER', HRRPUA = 1212.85, RAMP_Q = 'fireramp', COLOR = 'RASPBERRY' /\n",
    "    &RAMP ID='fireramp', T=0, F=0.00 /\n",
    "    &RAMP ID='fireramp', T=25, F=0.15 /\n",
    "    &RAMP ID='fireramp', T=50, F=0.59 /\n",
    "    &RAMP ID='fireramp', T=75, F=0.68 /\n",
    "    &RAMP ID='fireramp', T=100, F=0.35 /\n",
    "    &RAMP ID='fireramp', T=125, F=0.59 /\n",
    "    &RAMP ID='fireramp', T=150, F=0.88 /\n",
    "    &RAMP ID='fireramp', T=175, F=1.00 /\n",
    "    &RAMP ID='fireramp', T=200, F=0.76 /\n",
    "    &RAMP ID='fireramp', T=225, F=0.65 /\n",
    "    &RAMP ID='fireramp', T=250, F=0.24 /\n",
    "    &RAMP ID='fireramp', T=275, F=0.00 /\n",
    "\n",
    "\n",
    "```"
   ]
  },
  {
   "cell_type": "code",
   "execution_count": null,
   "id": "1f87cd44",
   "metadata": {
    "tags": [
     "hide_cell"
    ]
   },
   "outputs": [],
   "source": [
    "time_list = [0, 25, 50, 75, 100, 125, 150, 175, 200, 225, 250, 275 ]\n",
    "mass_list = [4000, 3900, 3500, 3040, 2800, 2400, 1800, 1120, 600, 160, 0, 0]\n",
    "mlr_list = np.diff(mass_list)/np.diff(time_list) # mass loss rate\n",
    "\n",
    "huc = 44590 # Effective heat of combustion huc = 44590 KJ / kg\n",
    "hrr_list =abs(mlr_list/1000*huc) # calculate HRR from mass loss\n",
    "hrr_list = np.concatenate(([0], hrr_list)) # add 0 mass at first timestep\n",
    "print(hrr_list)\n",
    "print(f\"&SURF ID = 'BURNER', HRRPUA = {max(hrr_list):.2f}, RAMP_Q = 'fireramp', COLOR = 'RASPBERRY' /\")\n",
    "for time, hrr in zip(time_list, hrr_list):\n",
    "    print(f\"&RAMP ID='fireramp', T={time}, F={hrr/max(hrr_list):.2f} /\")"
   ]
  },
  {
   "cell_type": "code",
   "execution_count": null,
   "id": "a9c43bde",
   "metadata": {
    "tags": [
     "hide_cell"
    ]
   },
   "outputs": [],
   "source": [
    "# Plot HRR from Simulation\n",
    "data_root = root + 'data/pool_fire/ramp_heptane/rundir'\n",
    "sim = fdsreader.Simulation(data_root)\n",
    "plt.plot(sim.hrr[\"Time\"], sim.hrr[\"HRR\"], label='simulation')\n",
    "plt.grid(True, linestyle='--', alpha=0.5)\n",
    "plt.xlabel(\"Time / s\")\n",
    "plt.ylabel(\"HRR / kW\")\n",
    "# Plot prescribed data\n",
    "plt.plot(time_list, hrr_list, label = 'prescribed')\n",
    "plt.legend(loc='best')\n",
    "plt.savefig('figs/pool_fire_hrr_heptane_ramp.svg', bbox_inches='tight')\n",
    "# plt.close()"
   ]
  },
  {
   "cell_type": "markdown",
   "id": "158efe1e",
   "metadata": {
    "tags": [
     "hide_cell"
    ]
   },
   "source": [
    ":::{figure-md} fig-pool-fire-hrr-ramp\n",
    "\n",
    "<img src=\"figs/pool_fire_hrr_heptane_ramp.svg\" width=\"80%\">\n",
    "\n",
    "Prescribed and simulated `HRR` of n-heptane fire as a function of time. The heat release can be derived from the mass loss and the effective heat of combustion $\\small\\sf \\Delta h_{c,eff}$.\n",
    ":::"
   ]
  },
  {
   "cell_type": "markdown",
   "id": "5f80f20b",
   "metadata": {},
   "source": [
    "## Task IV – Grid Convergence / HPC computing / Benchmarking\n",
    "\n",
    "This task deals with the monitoring of simulation parameters such as computation time and the convergence of numerical solutions. \n",
    "\n",
    "**Task:**\n",
    "\n",
    "1. Increase / decrease the grid resolution by factors of 0.4 and 2. Monitor the computing time by evaluating the .out file.\n",
    "\n",
    "2. Extend the examination by refining the grid by a factor of 4 and 8, using resources of parallel computing. For this purpose subdivide the computational domain into several meshes.\n",
    "\n",
    "3. Analyze the computation time for assigning multiple cores to a single OpenMP process. Split the computational domain into different meshes and assign individual MPI processes to each of them. Try to combine MPI and OpenMP and evaluate the increase in performance.\n",
    "\n",
    "4. Check grid convergence for the respective resolutions of the domain based on temperature and velocity criteria\n",
    "\n",
    "**Solution:**"
   ]
  },
  {
   "cell_type": "code",
   "execution_count": null,
   "id": "3154678d",
   "metadata": {
    "tags": [
     "hide_cell"
    ]
   },
   "outputs": [],
   "source": [
    "import pandas as pd\n",
    "data_root = root + 'data/pool_fire/gc_3_1/rundir'\n",
    "caselist = ['gc_1_1', 'gc_1_2', 'gc_1_3', 'gc_2_1', 'gc_2_2', 'gc_2_3', 'gc_3_1', 'gc_3_2', 'gc_3_3' ]\n",
    "bm_dict = {}\n",
    "for case in caselist:\n",
    "    case_dict = {}\n",
    "    data_root = root + f'data/pool_fire/{case}/rundir'\n",
    "    sim = fdsreader.Simulation(data_root)\n",
    "    case_dict['devc_temp'] = sim.devices[f'T_{1.0}'].data\n",
    "    case_dict['sim_time'] = sim.devices['Time'].data\n",
    "    case_dict['total_time'] = sim.cpu['Total T_USED (s)\\n'][0]\n",
    "    out_file = sim.out_file_path\n",
    "    with open(out_file, 'r') as file:\n",
    "        for line in file:\n",
    "            if 'Total Number of Grid Cells' in line:\n",
    "                case_dict['n_cells'] = int(line.split('Cells')[-1])\n",
    "            if 'Number of OpenMP Threads:' in line:\n",
    "                case_dict['n_open_mp'] = int(line.split('Number of OpenMP Threads:')[-1])\n",
    "            if 'Number of MPI Processes:' in line:\n",
    "                case_dict['n_mpi']= int(line.split('Number of MPI Processes:')[-1])\n",
    "    \n",
    "    bm_dict[case] = case_dict\n",
    "bm_df = pd.DataFrame(bm_dict).T\n",
    "\n",
    "for n_open_mp in [1,2,4]:\n",
    "    df = bm_df[bm_df['n_open_mp']==n_open_mp]\n",
    "    plt.plot(df['n_cells'], df['total_time'], label=f\"$\\sf N_{{openMP}}$ = {n_open_mp}\")\n",
    "plt.xscale('log')\n",
    "# plt.yscale('log')\n",
    "plt.xlabel(\"$\\sf N_{{cells}}$ / -\")\n",
    "plt.ylabel(\"Time / s\")\n",
    "plt.grid(True, which=\"both\", linestyle='--', alpha=0.5)\n",
    "plt.legend(loc='best')\n",
    "plt.savefig('figs/pool_fire_benchmarking.svg', bbox_inches='tight')"
   ]
  },
  {
   "cell_type": "code",
   "execution_count": null,
   "id": "f89653db",
   "metadata": {
    "tags": [
     "hide_cell"
    ]
   },
   "outputs": [],
   "source": [
    "window = 10\n",
    "for n_cells in [2000, 31250, 250000]:\n",
    "    time = bm_df[bm_df['n_cells']==n_cells].iloc[0]['sim_time']\n",
    "    temp = bm_df[bm_df['n_cells']==n_cells].iloc[0]['devc_temp']\n",
    "    plt.plot(sma(time, window), sma(temp, window), label=f\"$\\sf N_{{cells}}$ = {n_cells}\")\n",
    "    plt.grid(True, which=\"both\", linestyle='--', alpha=0.5)\n",
    "    plt.legend(loc='lower right')\n",
    "plt.xlabel(\"Time / s\")\n",
    "plt.ylabel(\"Temperature / $\\sf ^\\circ C$\")\n",
    "plt.savefig('figs/pool_fire_grid_convergence.svg', bbox_inches='tight')\n",
    "plt.close()"
   ]
  },
  {
   "cell_type": "markdown",
   "id": "e787320a",
   "metadata": {},
   "source": [
    ":::{figure-md} fig-pool-fire-benchmarking\n",
    "\n",
    "<img src=\"figs/pool_fire_benchmarking.svg\" width=\"80%\">\n",
    "\n",
    "Total computation time as a function of the total number of grid cells in the computational domain ( $\\sf N_{cells}$ ) for different amount of openMP processes ($\\sf N_{openMP}$). \n",
    ":::\n",
    " \n",
    "\n",
    ":::{figure-md} fig-pool-fire-grid-convergence\n",
    "\n",
    "<img src=\"figs/pool_fire_grid_convergence.svg\" width=\"80%\">\n",
    "\n",
    "Checking grid convergence for a device with quantity `TEMPERATURE` at XYZ (0, 0, 1). A grid size of 20 cm and below, which results in a total number of 31250 cells, does not show any significant change in temperature.\n",
    ":::"
   ]
  },
  {
   "cell_type": "code",
   "execution_count": null,
   "id": "cba8d5c5",
   "metadata": {},
   "outputs": [],
   "source": []
  }
 ],
 "metadata": {
  "kernelspec": {
   "display_name": "Python 3",
   "language": "python",
   "name": "python3"
  },
  "language_info": {
   "codemirror_mode": {
    "name": "ipython",
    "version": 3
   },
   "file_extension": ".py",
   "mimetype": "text/x-python",
   "name": "python",
   "nbconvert_exporter": "python",
   "pygments_lexer": "ipython3",
   "version": "3.8.5"
  }
 },
 "nbformat": 4,
 "nbformat_minor": 5
}
