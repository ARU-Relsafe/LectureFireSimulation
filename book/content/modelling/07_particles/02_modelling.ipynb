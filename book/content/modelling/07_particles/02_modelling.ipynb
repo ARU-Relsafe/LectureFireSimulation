{
 "cells": [
  {
   "cell_type": "markdown",
   "id": "5cf1e7d2",
   "metadata": {},
   "source": [
    "# Modelling\n",
    "\n",
    "## Basic example 1\n",
    "\n",
    "* single particle, particle definition, initial conditions\n",
    "* observe trajectory with and without friction\n",
    "\n",
    "## Basic example 2\n",
    "\n",
    "* multiple particles with a size distribution\n",
    "* observe particle size distribution and different trajectories\n",
    "* observe impact on fluid (i.e. acceleration)\n",
    "\n",
    "* check for time stepping, convergence\n",
    "\n",
    "## Basic example 3\n",
    "\n",
    "* water droplets in oven\n",
    "* observe change in diameter and creation of water vapour\n",
    "\n",
    "## Advanced example 1\n",
    "\n",
    "* nozle with given mass/volume flow\n",
    "* fuel droplets to create a spray fire\n",
    "* observe fuel evaporation, temperature, HRR\n",
    "\n",
    "## Advanced example 2\n",
    "\n",
    "* compartment fire\n",
    "* add sprinkler at ceiling\n",
    "* observe temperature and water vapour distribution\n",
    "\n",
    "* convergence in number of particles"
   ]
  },
  {
   "cell_type": "code",
   "execution_count": 1,
   "id": "915cc7cb",
   "metadata": {},
   "outputs": [
    {
     "name": "stdout",
     "output_type": "stream",
     "text": [
      "1.0.3\n"
     ]
    }
   ],
   "source": [
    "import fdsreader\n",
    "import matplotlib.pyplot as plt\n",
    "\n",
    "print(fdsreader.__version__)"
   ]
  },
  {
   "cell_type": "code",
   "execution_count": 2,
   "id": "af9a199e",
   "metadata": {},
   "outputs": [],
   "source": [
    "sim = fdsreader.Simulation('../../../../data/particles/single_particle/out_single_particle.smv')"
   ]
  },
  {
   "cell_type": "code",
   "execution_count": 3,
   "id": "d1276671",
   "metadata": {},
   "outputs": [
    {
     "name": "stdout",
     "output_type": "stream",
     "text": [
      "ParticleCollection([Particle(name=DROPLET, quantities=[Quantity('diam'), Quantity('temp')])])\n"
     ]
    }
   ],
   "source": [
    "print(sim.particles)"
   ]
  },
  {
   "cell_type": "code",
   "execution_count": 16,
   "id": "163fe76c",
   "metadata": {},
   "outputs": [
    {
     "data": {
      "text/plain": [
       "[Quantity('diam'), Quantity('temp')]"
      ]
     },
     "execution_count": 16,
     "metadata": {},
     "output_type": "execute_result"
    }
   ],
   "source": [
    "sim.particles['DROPLET'].qu"
   ]
  },
  {
   "cell_type": "code",
   "execution_count": 12,
   "id": "84ca8e2f",
   "metadata": {},
   "outputs": [
    {
     "name": "stdout",
     "output_type": "stream",
     "text": [
      "[array([  2.,   3.,   4.,   5.,   6.,   7.,   8.,   9.,  10.,  11.,  12.,\n",
      "        13.,  14.,  15.,  16.,  17.,  18.,  19.,  20.,  21.,  22.,  23.,\n",
      "        24.,  25.,  26.,  27.,  28.,  29.,  30.,  31.,  32.,  33.,  34.,\n",
      "        35.,  36.,  37.,  38.,  39.,  40.,  41.,  42.,  43.,  44.,  45.,\n",
      "        46.,  47.,  48.,  49.,  50.,  51.,  52.,  53.,  54.,  55.,  56.,\n",
      "        57.,  58.,  59.,  60.,  61.,  62.,  63.,  64.,  65.,  66.,  67.,\n",
      "        68.,  69.,  70.,  71.,  72.,  73.,  74.,  75.,  76.,  77.,  78.,\n",
      "        79.,  80.,  81.,  82.,  83.,  84.,  85.,  86.,  87.,  88.,  89.,\n",
      "        90.,  91.,  92.,  93.,  94.,  95.,  96.,  97.,  98.,  99., 100.,\n",
      "       101.]), array([  2.,   3.,   4.,   5.,   6.,   7.,   8.,   9.,  10.,  11.,  12.,\n",
      "        13.,  14.,  15.,  16.,  17.,  18.,  19.,  20.,  21.,  22.,  23.,\n",
      "        24.,  25.,  26.,  27.,  28.,  29.,  30.,  31.,  32.,  33.,  34.,\n",
      "        35.,  36.,  37.,  38.,  39.,  40.,  41.,  42.,  43.,  44.,  45.,\n",
      "        46.,  47.,  48.,  49.,  50.,  51.,  52.,  53.,  54.,  55.,  56.,\n",
      "        57.,  58.,  59.,  60.,  61.,  62.,  63.,  64.,  65.,  66.,  67.,\n",
      "        68.,  69.,  70.,  71.,  72.,  73.,  74.,  75.,  76.,  77.,  78.,\n",
      "        79.,  80.,  81.,  82.,  83.,  84.,  85.,  86.,  87.,  88.,  89.,\n",
      "        90.,  91.,  92.,  93.,  94.,  95.,  96.,  97.,  98.,  99., 100.,\n",
      "       101.]), array([  2.,   3.,   4.,   5.,   6.,   7.,   8.,   9.,  10.,  11.,  12.,\n",
      "        13.,  14.,  15.,  16.,  17.,  18.,  19.,  20.,  21.,  22.,  23.,\n",
      "        24.,  25.,  26.,  27.,  28.,  29.,  30.,  31.,  32.,  33.,  34.,\n",
      "        35.,  36.,  37.,  38.,  39.,  40.,  41.,  42.,  43.,  44.,  45.,\n",
      "        46.,  47.,  48.,  49.,  50.,  51.,  52.,  53.,  54.,  55.,  56.,\n",
      "        57.,  58.,  59.,  60.,  61.,  62.,  63.,  64.,  65.,  66.,  67.,\n",
      "        68.,  69.,  70.,  71.,  72.,  73.,  74.,  75.,  76.,  77.,  78.,\n",
      "        79.,  80.,  81.,  82.,  83.,  84.,  85.,  86.,  87.,  88.,  89.,\n",
      "        90.,  91.,  92.,  93.,  94.,  95.,  96.,  97.,  98.,  99., 100.,\n",
      "       101.]), array([101.,   3.,   4.,   5.,  98.,   7.,   8.,   9.,  10.,  94.,  12.,\n",
      "        13.,  14.,  15.,  16.,  17.,  18.,  19.,  20.,  93.,  22.,  23.,\n",
      "        24.,  25.,  92.,  27.,  28.,  29.,  30.,  31.,  32.,  33.,  34.,\n",
      "        35.,  91.,  37.,  38.,  39.,  40.,  41.,  42.,  43.,  90.,  87.,\n",
      "        46.,  47.,  48.,  49.,  50.,  51.,  52.,  53.,  54.,  55.,  56.,\n",
      "        86.,  58.,  85.,  60.,  61.,  62.,  63.,  64.,  65.,  66.,  84.,\n",
      "        83.,  82.,  70.,  71.,  72.,  81.,  74.,  75.,  80.,  77.,  78.,\n",
      "        79.]), array([101.,   3.,   4.,   5.,  98.,   7.,   8.,  79.,  10.,  94.,  12.,\n",
      "        13.,  14.,  15.,  16.,  17.,  18.,  19.,  20.,  93.,  22.,  23.,\n",
      "        24.,  25.,  78.,  27.,  28.,  29.,  77.,  31.,  32.,  80.,  75.,\n",
      "        35.,  91.,  37.,  38.,  39.,  40.,  41.,  42.,  74.,  90.,  87.,\n",
      "        81.,  47.,  48.,  49.,  50.,  71.,  52.,  53.,  70.,  55.,  56.,\n",
      "        86.,  82.,  85.,  60.,  61.,  62.,  63.,  83.,  65.,  66.,  84.]), array([101.,   3.,   4.,   5.,  98.,  84.,   8.,  79.,  10.,  94.,  12.,\n",
      "        13.,  14.,  15.,  16.,  17.,  18.,  19.,  20.,  93.,  22.,  23.,\n",
      "        24.,  25.,  78.,  27.,  28.,  29.,  77.,  31.,  32.,  80.,  75.,\n",
      "        35.,  91.,  66.,  38.,  39.,  40.,  83.,  42.,  74.,  63.,  87.,\n",
      "        81.,  47.,  48.,  49.,  50.,  62.,  61.,  53.,  70.,  60.,  56.,\n",
      "        86.,  82.]), array([101.,   3.,   4.,   5.,  98.,  84.,   8.,  79.,  10.,  94.,  12.,\n",
      "        82.,  14.,  15.,  16.,  17.,  18.,  19.,  20.,  93.,  22.,  23.,\n",
      "        24.,  25.,  78.,  27.,  28.,  29.,  77.,  86.,  32.,  80.,  75.,\n",
      "        35.,  91.,  66.,  38.,  39.,  40.,  83.,  42.,  74.,  56.,  87.,\n",
      "        81.,  47.,  48.,  49.,  50.,  62.,  61.,  53.,  70.,  60.]), array([101.,   3.,   4.,   5.,  60.,  84.,   8.,  79.,  10.,  94.,  12.,\n",
      "        82.,  14.,  15.,  16.,  53.,  18.,  19.,  61.,  93.,  22.,  23.,\n",
      "        24.,  25.,  62.,  27.,  28.,  50.,  77.,  49.,  32.,  80.,  75.,\n",
      "        35.,  91.,  66.,  38.,  39.,  40.,  83.,  42.,  74.,  56.,  87.,\n",
      "        81.,  48.]), array([101.,   3.,   4.,   5.,  60.,  48.,   8.,  79.,  10.,  94.,  81.,\n",
      "        82.,  14.,  15.,  16.,  53.,  18.,  19.,  87.,  93.,  22.,  56.,\n",
      "        24.,  25.,  62.,  27.,  28.,  50.,  77.,  49.,  32.,  80.,  75.,\n",
      "        35.,  91.,  66.,  38.,  39.,  40.,  83.,  42.,  74.]), array([101.,   3.,   4.,   5.,  60.,  48.,   8.,  79.,  10.,  94.,  74.,\n",
      "        82.,  42.,  83.,  16.,  40.,  18.,  19.,  39.,  93.,  22.,  56.,\n",
      "        24.,  66.,  62.,  27.,  28.,  50.,  77.,  49.,  32.,  91.,  35.]), array([101.,   3.,   4.,   5.,  60.,  48.,   8.,  79.,  10.,  94.,  74.,\n",
      "        82.,  42.,  83.,  16.,  40.,  18.,  19.,  39.,  93.,  22.,  56.,\n",
      "        24.,  66.,  62.,  27.,  28.,  50.,  77.,  49.,  32.,  91.,  35.]), array([101.,   3.,  35.,   5.,  60.,  48.,   8.,  79.,  10.,  94.,  74.,\n",
      "        82.,  49.,  83.,  16.,  40.,  18.,  19.,  39.,  93.,  22.,  77.,\n",
      "        27.,  66.,  62.]), array([101.,   3.,  35.,   5.,  60.,  48.,   8.,  79.,  10.,  94.,  74.,\n",
      "        82.,  49.,  83.,  16.,  40.,  18.,  19.,  39.,  93.,  22.,  77.,\n",
      "        27.,  66.,  62.]), array([101.,   3.,  35.,   5.,  60.,  48.,   8.,  79.,  10.,  94.,  74.,\n",
      "        82.,  49.,  83.,  16.,  40.,  62.,  19.,  39.,  93.,  22.,  77.,\n",
      "        66.]), array([101.,   3.,  35.,   5.,  60.,  48.,   8.,  79.,  10.,  94.,  74.,\n",
      "        82.,  49.,  83.,  16.,  40.,  62.,  19.,  39.,  93.,  22.,  77.,\n",
      "        66.]), array([101.,  62.,  35.,  40.,  16.,  48.,  83.,  79.,  10.,  94.,  66.,\n",
      "        49.]), array([79., 62., 48.]), array([], dtype=float64), array([], dtype=float64), array([], dtype=float64), array([], dtype=float64), array([], dtype=float64), array([], dtype=float64), array([], dtype=float64), array([], dtype=float64), array([], dtype=float64), array([], dtype=float64), array([], dtype=float64), array([], dtype=float64), array([], dtype=float64), array([], dtype=float64), array([], dtype=float64), array([], dtype=float64), array([], dtype=float64), array([], dtype=float64), array([], dtype=float64), array([], dtype=float64), array([], dtype=float64), array([], dtype=float64), array([], dtype=float64), array([], dtype=float64), array([], dtype=float64), array([], dtype=float64), array([], dtype=float64), array([], dtype=float64), array([], dtype=float64), array([], dtype=float64), array([], dtype=float64), array([], dtype=float64), array([], dtype=float64), array([], dtype=float64)]\n"
     ]
    }
   ],
   "source": [
    "print(sim.particles['DROPLET'].tags)"
   ]
  },
  {
   "cell_type": "code",
   "execution_count": 11,
   "id": "ba388d3c",
   "metadata": {},
   "outputs": [
    {
     "name": "stdout",
     "output_type": "stream",
     "text": [
      "[]\n"
     ]
    }
   ],
   "source": [
    "# print(sim.particles['DROPLET'].positions)\n",
    "\n",
    "print(sim.particles['DROPLET'].positions[-1][:,0])\n",
    "\n",
    "# ball = sim.particles['DROPLET']\n",
    "# x = [i[0] for i in ball.positions]\n",
    "# y = [i[0][1] for i in ball.positions]\n",
    "# z = [i[0][2] for i in ball.positions]\n",
    "# t = sim.particles.times\n",
    "\n",
    "# print(t)\n",
    "# print(z)"
   ]
  },
  {
   "cell_type": "code",
   "execution_count": 14,
   "id": "fd08d924",
   "metadata": {},
   "outputs": [
    {
     "ename": "NameError",
     "evalue": "name 't' is not defined",
     "output_type": "error",
     "traceback": [
      "\u001b[0;31m---------------------------------------------------------------------------\u001b[0m",
      "\u001b[0;31mNameError\u001b[0m                                 Traceback (most recent call last)",
      "\u001b[0;32m<ipython-input-14-876de455d6e7>\u001b[0m in \u001b[0;36m<module>\u001b[0;34m\u001b[0m\n\u001b[0;32m----> 1\u001b[0;31m \u001b[0mplt\u001b[0m\u001b[0;34m.\u001b[0m\u001b[0mplot\u001b[0m\u001b[0;34m(\u001b[0m\u001b[0mt\u001b[0m\u001b[0;34m,\u001b[0m \u001b[0mz\u001b[0m\u001b[0;34m)\u001b[0m\u001b[0;34m\u001b[0m\u001b[0;34m\u001b[0m\u001b[0m\n\u001b[0m",
      "\u001b[0;31mNameError\u001b[0m: name 't' is not defined"
     ]
    }
   ],
   "source": [
    "plt.plot(t, z)"
   ]
  },
  {
   "cell_type": "code",
   "execution_count": 15,
   "id": "8c4612d1",
   "metadata": {},
   "outputs": [
    {
     "data": {
      "text/plain": [
       "[<matplotlib.lines.Line2D at 0x120acf8b0>]"
      ]
     },
     "execution_count": 15,
     "metadata": {},
     "output_type": "execute_result"
    },
    {
     "data": {
      "image/png": "[encoded data removed]",
      "text/plain": [
       "<Figure size 432x288 with 1 Axes>"
      ]
     },
     "metadata": {
      "needs_background": "light"
     },
     "output_type": "display_data"
    }
   ],
   "source": [
    "plt.plot(sim.devices['x'].data, sim.devices['z'].data)"
   ]
  },
  {
   "cell_type": "code",
   "execution_count": 16,
   "id": "461808ad",
   "metadata": {},
   "outputs": [
    {
     "name": "stdout",
     "output_type": "stream",
     "text": [
      "[0.        2.9919553 4.034302  4.6730194 5.1199346 5.4528637 5.710603\n",
      " 5.914491  6.0773354 6.207673  6.3118205 0.        0.        0.\n",
      " 0.        0.        0.        0.        0.        0.        0.\n",
      " 0.        0.        0.        0.        0.       ]\n",
      "[0.5       1.5871795 1.8860865 1.9777962 1.9442027 1.8213722 1.6285561\n",
      " 1.3784347 1.0811743 0.7458642 0.3806987 0.        0.        0.\n",
      " 0.        0.        0.        0.        0.        0.        0.\n",
      " 0.        0.        0.        0.        0.       ]\n"
     ]
    }
   ],
   "source": [
    "print(sim.devices['x'].data)\n",
    "print(sim.devices['z'].data)"
   ]
  },
  {
   "cell_type": "code",
   "execution_count": null,
   "id": "d302e3d3",
   "metadata": {},
   "outputs": [],
   "source": []
  }
 ],
 "metadata": {
  "kernelspec": {
   "display_name": "Python 3",
   "language": "python",
   "name": "python3"
  },
  "language_info": {
   "codemirror_mode": {
    "name": "ipython",
    "version": 3
   },
   "file_extension": ".py",
   "mimetype": "text/x-python",
   "name": "python",
   "nbconvert_exporter": "python",
   "pygments_lexer": "ipython3",
   "version": "3.8.9"
  }
 },
 "nbformat": 4,
 "nbformat_minor": 5
}
