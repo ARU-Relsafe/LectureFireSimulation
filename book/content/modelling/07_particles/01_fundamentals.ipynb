{
 "cells": [
  {
   "cell_type": "markdown",
   "id": "ae56c1ac-5300-4205-9cad-fcfe69f377fa",
   "metadata": {},
   "source": [
    "# Modelling"
   ]
  },
  {
   "cell_type": "markdown",
   "id": "1e970d9c-b31e-47a4-8242-2846a97a1d35",
   "metadata": {},
   "source": [
    "## General Idea\n",
    "\n",
    "Particles are used to represent\n",
    "* object smaller than the grid spacing\n",
    "* liquid and solid fuel particles\n",
    "* water droplets\n",
    "* massless tracer particles\n",
    "\n",
    "As it is not possible to modell each individual particle, the particle ensemble is modelled as Lagrangian particles. This concept is based on the following assumptions\n",
    "* definition of representative particles,\n",
    "* each of the Lagrangian particles represents a set of physical particles with its properties, like the diameter spectrum, and\n",
    "* interaction of the particles with the fluid and other particles."
   ]
  },
  {
   "cell_type": "markdown",
   "id": "7ba526c7-f63c-41ba-ba01-db4b85cffe84",
   "metadata": {},
   "source": [
    "## Transport Equations\n",
    "\n",
    "As a particle moves in a fluid, it transfers momentum to a fluid element\n",
    "\n",
    "$$\n",
    "\\mf f_b = \\frac{1}{V_{cell}} \\sum_{p \\in cell}\\left(\\frac{\\rho}{2} C_d A_{p,c} (\\vec{v}_p - \\vec{v})|\\vec{v}_p - \\vec{v}| - \\frac{dm_p}{dt}(\\vec{v}_p - \\vec{v})\\right)\\quad ,\n",
    "$$\n",
    "\n",
    "with\n",
    "* $\\mf V_{cell}, \\rho, \\vec{v}$: gas phase properties\n",
    "* $\\mf \\vec{v}_p, m_p, A_{p,c}$: particle properties\n",
    "* $\\mf C_d$: drag coefficient\n",
    "\n",
    "The total particle acceleration for a single particle $\\mf p$ is given by\n",
    "\n",
    "$$\n",
    "\\mf \\frac{du_p}{dt} = \\vec{g} - \\frac{1}{2}\\frac{\\rho C_dA_{p,c}}{m_p}( \\vec{v}_p - \\vec{v})|\\vec{v}_p - \\vec{v}|\\quad ,\n",
    "$$\n",
    "\n",
    "and the particle position can be computed using the following equation\n",
    "\n",
    "$$\n",
    "\\mf \\frac{d\\vec{x}_p}{dt} = \\vec{u}_p\\quad .\n",
    "$$\n",
    "\n",
    "The movement and momentum transfer of the particles depend on the drag coefficient $\\mf C_d$, which can be computed as\n",
    "\n",
    "$$\n",
    "\\mf C_d = \\left\\{ \\begin{array}{lc} 24/Re_D & Re_D \\lt 1 \\\\ 24 \\cdot (0.85 + 0.15 Re_D ^{0.687}) / Re_D & 1 \\lt Re_D \\lt 1000 \\\\ 0.44 & 1000 \\lt Re_D \\end{array} \\right.\n",
    "$$\n",
    "\n",
    "Where the Reynolds number is given as\n",
    "\n",
    "$$\n",
    "\\mf Re_D = \\frac{\\rho |\\vec{v}_p - \\vec{v}| 2 r_p}{\\mu(T)}\\quad ,\n",
    "$$\n",
    "\n",
    "with\n",
    "* $\\mf \\rho, \\vec{v}, \\mu(T)$: gas properties\n",
    "* $\\mf \\vec{v}_p, r_p$: particle properties\n",
    "\n",
    "This formula is for spherical particles, formulas for other shapes are available."
   ]
  },
  {
   "cell_type": "markdown",
   "id": "36b511a4-a8f8-49c4-8efb-111a8130eec4",
   "metadata": {},
   "source": [
    "## Example – Single Particle Trajectory\n",
    "\n",
    "An input file for FDS, where a single particle is injected with a given initial position and velocity, is shown in the following listing.\n",
    "\n",
    "```{literalinclude} ../../../../data/particles/single_particle/single_particle.fds\n",
    "```\n",
    "\n",
    "In the above example, a particle property (`PART`) is defined. It states, that the particle species is a water (`WATER VAPOR`) droplet with a diameter of $\\mf 1~mm$ (`DIAMETER`). In general, a diameter spectrum is definied, thus the diameter statement represents just a property of the distribution function, as shown later. Here, the option `MONODISPERSE=.TRUE.` is used to generate particle with a single diameter. The `SAMPLING_FACTOR` controls how many particles should be written to the output file, where its value states that every nth particle is written out. Here, every particle is recorded.\n",
    "\n",
    "The particle is injected using the `INIT` statement. It defines the positon (`XYZ`), the velocity (`UVW`) and the number of injected particles (`N_PARTICLES`) of the particle property (`PART_ID`).\n",
    "\n"
   ]
  },
  {
   "cell_type": "code",
   "execution_count": 14,
   "id": "8206eb8a-663c-4f38-9cff-69bed1c2907a",
   "metadata": {},
   "outputs": [],
   "source": [
    "import fdsreader\n",
    "import matplotlib.pyplot as plt\n",
    "import numpy as np"
   ]
  },
  {
   "cell_type": "code",
   "execution_count": 2,
   "id": "40ae62e9-31eb-4fc7-9cd7-bedd81be1fd9",
   "metadata": {},
   "outputs": [],
   "source": [
    "sim = fdsreader.Simulation('../../../../data/particles/single_particle/rundir/')"
   ]
  },
  {
   "cell_type": "code",
   "execution_count": 10,
   "id": "5a126a35-fd64-4ded-aa2d-85e7429b2507",
   "metadata": {},
   "outputs": [],
   "source": [
    "part_pos = sim.particles[0].positions\n",
    "part_time = sim.particles[0].times"
   ]
  },
  {
   "cell_type": "code",
   "execution_count": 15,
   "id": "b0f616ad-59ca-434f-baaa-696ea17de898",
   "metadata": {},
   "outputs": [
    {
     "name": "stdout",
     "output_type": "stream",
     "text": [
      "[0.01, 3.7784374, 4.3206706, 4.7510133, 5.023526, 5.0804024, 4.84928, 4.2399535, 3.1404283, 1.4121281, 0.01, 0.01, 0.01]\n"
     ]
    }
   ],
   "source": [
    "px = []\n",
    "py = []\n",
    "pz = []\n",
    "for cpos in part_pos:\n",
    "    px.append(cpos[0,0])\n",
    "    py.append(cpos[0,1])\n",
    "    pz.append(cpos[0,2])\n",
    "px = np.array(px)\n",
    "py = np.array(py)\n",
    "pz = np.array(pz)\n",
    "print(part_z)"
   ]
  },
  {
   "cell_type": "code",
   "execution_count": 16,
   "id": "2a7d05ea-45c7-418a-bbec-611d6aae8689",
   "metadata": {},
   "outputs": [
    {
     "data": {
      "text/plain": [
       "<matplotlib.collections.PathCollection at 0x11c429880>"
      ]
     },
     "execution_count": 16,
     "metadata": {},
     "output_type": "execute_result"
    },
    {
     "data": {
      "image/png": "[encoded data removed]",
      "text/plain": [
       "<Figure size 432x288 with 1 Axes>"
      ]
     },
     "metadata": {
      "needs_background": "light"
     },
     "output_type": "display_data"
    }
   ],
   "source": [
    "plt.scatter(part_time, pz)"
   ]
  },
  {
   "cell_type": "code",
   "execution_count": 17,
   "id": "570d8f00-5f9d-4dff-a570-661e4a8e7c9d",
   "metadata": {},
   "outputs": [
    {
     "data": {
      "text/plain": [
       "<matplotlib.collections.PathCollection at 0x11c78a3d0>"
      ]
     },
     "execution_count": 17,
     "metadata": {},
     "output_type": "execute_result"
    },
    {
     "data": {
      "image/png": "[encoded data removed]",
      "text/plain": [
       "<Figure size 432x288 with 1 Axes>"
      ]
     },
     "metadata": {
      "needs_background": "light"
     },
     "output_type": "display_data"
    }
   ],
   "source": [
    "plt.scatter(np.sqrt(px**2 + py**2), pz)"
   ]
  },
  {
   "cell_type": "code",
   "execution_count": null,
   "id": "928f0676-3a37-4786-b5d4-8968686ec83b",
   "metadata": {},
   "outputs": [],
   "source": []
  }
 ],
 "metadata": {
  "kernelspec": {
   "display_name": "Python 3",
   "language": "python",
   "name": "python3"
  },
  "language_info": {
   "codemirror_mode": {
    "name": "ipython",
    "version": 3
   },
   "file_extension": ".py",
   "mimetype": "text/x-python",
   "name": "python",
   "nbconvert_exporter": "python",
   "pygments_lexer": "ipython3",
   "version": "3.8.9"
  }
 },
 "nbformat": 4,
 "nbformat_minor": 5
}
