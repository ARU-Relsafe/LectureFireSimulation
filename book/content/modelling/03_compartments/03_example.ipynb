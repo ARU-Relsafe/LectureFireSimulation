{
 "cells": [
  {
   "cell_type": "markdown",
   "id": "290249f7",
   "metadata": {},
   "source": [
    "# Example – Pool Fire"
   ]
  },
  {
   "cell_type": "markdown",
   "id": "7d69d13c",
   "metadata": {},
   "source": [
    "## Introduction\n",
    "\n",
    "This example illustrates the setup and analysis of a minimalistic FDS simulation. Starting from a simple pool fire with a fixed heat release rate, the model is extended by various parameters. The results are then validated by comparison with simple analytical methods."
   ]
  },
  {
   "cell_type": "markdown",
   "id": "d5790ba0",
   "metadata": {},
   "source": [
    "## Setup\n",
    "\n",
    "The scenario is a pool fire with a heat release rate of $\\small\\sf 1~MW$ and a surface area of $\\small\\sf 1~m^2$ is located centraly at the floor, i.e. $\\small\\sf z=0~m$. The extension of the compuatational domain is \n",
    "\n",
    "$$\\small\\sf [-2.5~m, 2.5~m] \\times [-2.5~m, 2.5~m] \\times [0~m, 10~m]$$ \n",
    "\n",
    "with a grid resolution of $\\small\\sf 0.2~m$."
   ]
  },
  {
   "cell_type": "markdown",
   "id": "ac8da9be",
   "metadata": {},
   "source": []
  },
  {
   "cell_type": "markdown",
   "id": "05083850",
   "metadata": {},
   "source": [
    "## FDS Input File"
   ]
  },
  {
   "cell_type": "markdown",
   "id": "71f48826",
   "metadata": {},
   "source": [
    "Parameters in the FDS input file are specified by using namelist formatted records. Each namelist record begins with the ampersand character, &, followed by the name of the namelist group, then a comma-delimited list of the input parameters, and finally a forward slash /.\n",
    "\n",
    "```{tip} Table 21.3 in the [FDS User's Guide](https://github.com/firemodels/fds/releases/download/FDS6.7.5/FDS_User_Guide.pdf) provides a summary of frequently used output quantities.  \n",
    "```\n",
    "\n",
    "A simple and commented input file that can serve as a starting point for the following exercise looks like this:"
   ]
  },
  {
   "cell_type": "markdown",
   "id": "cdbc7033",
   "metadata": {},
   "source": [
    "```{literalinclude} ../../../../data/pool_fire/misc/pool_fire_basic_comments.fds\n",
    "```"
   ]
  },
  {
   "cell_type": "markdown",
   "id": "f8dd3b0c",
   "metadata": {},
   "source": []
  },
  {
   "cell_type": "markdown",
   "id": "aec706fe",
   "metadata": {},
   "source": [
    "## SMV Visualisation\n",
    "\n",
    "The computational domain including boundary conditions, obstructions and the results for the respective output variables of the FDS simulation can be displayed with the Smokeview post-processor."
   ]
  },
  {
   "cell_type": "markdown",
   "id": "7cc6bac8",
   "metadata": {},
   "source": [
    ":::{figure-md} fig-pool-fire-smv-plain\n",
    "\n",
    "<img src=\"figs/pool_fire_all.png\" width=\"100%\">\n",
    "\n",
    "SMV visualisation of the geometry / the mesh-grid in the y-z-plane / the temperature values in the y-z-slice at  $\\sf y=0~m$ ($\\sf t=19.63~s$). The surface patch `BURNER`, which has a `HRRPUA` defined, is colored redish.  \n",
    ":::"
   ]
  },
  {
   "cell_type": "markdown",
   "id": "64472d67",
   "metadata": {},
   "source": [
    "## Analysis\n",
    "\n",
    "The following tasks are intended to provide a general understanding of how to use FDS and SmokeView. They cover the basic functions and the analysis of the simulation results. The FDS input case described above can serve as a starting point.\n",
    "\n",
    "```{tip} Read the entire task before starting a simulation to capture multiple output parameters in a single run. \n",
    "```"
   ]
  },
  {
   "cell_type": "markdown",
   "id": "f29d5a43",
   "metadata": {},
   "source": [
    "## Task I – Basics\n",
    "\n",
    "The goal of this task is to become familiar with basic functions. Use the above listed input file and extend it to your needs. \n",
    "\n",
    "```{tip} When adding new diagnostics or other elements, it is useful to reduce the computing time to allow for a fast turn-over-time. This way debugging or adjusting your setup will be more efficient. For pure geometrical checks, the simulaiton time can also be set to zero.  \n",
    "```\n",
    "\n",
    "\n",
    "**Task:**\n",
    "\n",
    "1. Add a temperature sclice at $\\small\\sf y=0~m$ and watch the output via smokeview. Change the output by varying the colour scaling and crop the data at an upper and lower boundary. Create snapshots for three points in time, e.g. $\\small\\sf 5~s$, $\\small\\sf 10~s$ and $\\small\\sf 20~s$. Refer to section 5.2 \"Data Bounds\" [Smokeview User's Guide](https://github.com/firemodels/fds/releases/download/FDS6.7.6/SMV_User_Guide.pdf) for more information on how to change the output properties of slices.\n",
    "\n",
    "2. Plot the computed heat release rate (HRR) from the pool_fire_hrr.csv file against the given input HRR of the FDS file. Discuss the differences and what these are related to. Compare HRR for heat release rates of $\\small\\sf 100~kW$, $\\small\\sf 1~MW$ and $\\small\\sf 10~MW$.\n",
    "\n",
    "**1. Solution**"
   ]
  },
  {
   "cell_type": "markdown",
   "id": "bd9e48ca",
   "metadata": {},
   "source": [
    ":::{figure-md} fig-pool-fire-temp-timesteps\n",
    "\n",
    "<img src=\"figs/pool_fire_temp_timesteps.png\" width=\"100%\">\n",
    "\n",
    "Visualisation of the instanteneous `TEMPERATURE` values in the x-z-slice $\\sf y=0~m$ at different timesteps ($\\sf t=5.03~s$), ($\\sf t=10.03~s$), ($\\sf t=20.03~s$) The command `CELL_CENTERED`, prevents the values between the cell boundaries from being interpolated.\n",
    ":::\n",
    "\n",
    ":::{figure-md} fig-pool-fire-temp-bounds-trunc\n",
    "\n",
    "<img src=\"figs/pool_fire_temp_bounds_trunc.png\" width=\"100%\">\n",
    "\n",
    "Visualisation of the instanteneous `TEMPERATURE` values in the x-z-slice at $\\sf y=0~m$ at ($\\sf t=19.63~s$) The upper data bound is set to 1200 and 800. The data is truncated beyond 100.\n",
    ":::"
   ]
  },
  {
   "cell_type": "markdown",
   "id": "e1919c77-6a25-452a-8afe-030d7bbd2041",
   "metadata": {},
   "source": [
    "**2. Solution**\n",
    "\n",
    "The fluctuation of the HRR curve increases at higher levels. A drop in the released energy with time indicates a lower oxygen level due to the sealed compartment."
   ]
  },
  {
   "cell_type": "code",
   "execution_count": 1,
   "id": "37f5ef92",
   "metadata": {
    "tags": [
     "hide_cell"
    ]
   },
   "outputs": [],
   "source": [
    "import fdsreader\n",
    "import numpy as np\n",
    "import matplotlib.pyplot as plt\n",
    "\n",
    "plt.rcParams['lines.linewidth'] = 1\n",
    "# plt.rcParams['figure.dpi'] = 150\n",
    "# plt.rcParams.update({\n",
    "#     \"text.usetex\": True,\n",
    "#     \"font.family\": \"sans-serif\",\n",
    "#     \"font.sans-serif\": [\"Helvetica\"]})\n",
    "\n",
    "root = '../../../../'"
   ]
  },
  {
   "cell_type": "code",
   "execution_count": 2,
   "id": "6b1a6fa3",
   "metadata": {
    "tags": [
     "hide_cell"
    ]
   },
   "outputs": [],
   "source": [
    "data_root = root + 'data/pool_fire/100kw_sealed'\n",
    "sim = fdsreader.Simulation(data_root)\n",
    "plt.plot(sim.hrr[\"Time\"], sim.hrr[\"HRR\"], label='simulation')\n",
    "t_min_max = [sim.hrr[\"Time\"][0], sim.hrr[\"Time\"][-1]]\n",
    "hrr_prescribed = 100\n",
    "plt.plot(t_min_max, [hrr_prescribed, hrr_prescribed], label='prescribed')\n",
    "plt.grid(True, linestyle='--', alpha=0.5)\n",
    "plt.legend(loc='best')\n",
    "plt.xlabel(\"Time / s\")\n",
    "plt.ylabel(\"HRR / kW\")\n",
    "plt.savefig('figs/pool_fire_100kw_sealed_hrr.svg', bbox_inches='tight')\n",
    "plt.close()"
   ]
  },
  {
   "cell_type": "code",
   "execution_count": 3,
   "id": "88d28278",
   "metadata": {
    "tags": [
     "hide_cell"
    ]
   },
   "outputs": [],
   "source": [
    "data_root = root + 'data/pool_fire/1mw_sealed'\n",
    "sim = fdsreader.Simulation(data_root)\n",
    "plt.plot(sim.hrr[\"Time\"], sim.hrr[\"HRR\"], label='simulation')\n",
    "t_min_max = [sim.hrr[\"Time\"][0], sim.hrr[\"Time\"][-1]]\n",
    "hrr_prescribed = 1000\n",
    "plt.plot(t_min_max, [hrr_prescribed, hrr_prescribed], label='prescribed')\n",
    "plt.grid(True, linestyle='--', alpha=0.5)\n",
    "plt.legend(loc='best')\n",
    "plt.xlabel(\"Time / s\")\n",
    "plt.ylabel(\"HRR / kW\")\n",
    "plt.savefig('figs/pool_fire_1mw_sealed_hrr.svg', bbox_inches='tight')\n",
    "plt.close()"
   ]
  },
  {
   "cell_type": "code",
   "execution_count": 4,
   "id": "b286c63d",
   "metadata": {
    "tags": [
     "hide_cell"
    ]
   },
   "outputs": [],
   "source": [
    "data_root = root + 'data/pool_fire/10mw_sealed'\n",
    "sim = fdsreader.Simulation(data_root)\n",
    "plt.plot(sim.hrr[\"Time\"], sim.hrr[\"HRR\"], label='simulation')\n",
    "t_min_max = [sim.hrr[\"Time\"][0], sim.hrr[\"Time\"][-1]]\n",
    "hrr_prescribed = 10000\n",
    "plt.plot(t_min_max, [hrr_prescribed, hrr_prescribed], label='prescribed')\n",
    "plt.grid(True, linestyle='--', alpha=0.5)\n",
    "plt.legend(loc='best')\n",
    "plt.xlabel(\"Time / s\")\n",
    "plt.ylabel(\"HRR / kW\")\n",
    "plt.savefig('figs/pool_fire_10mw_sealed_hrr.svg', bbox_inches='tight')\n",
    "plt.close()"
   ]
  },
  {
   "cell_type": "markdown",
   "id": "73608547",
   "metadata": {},
   "source": [
    "\n",
    "```{tabbed} 100 kW\n",
    "<img src=\"figs/pool_fire_100kw_sealed_hrr.svg\" width=\"80%\">\n",
    "```\n",
    "\n",
    "```{tabbed} 1 MW\n",
    "<img src=\"figs/pool_fire_1mw_sealed_hrr.svg\" width=\"80%\">\n",
    "```\n",
    "\n",
    "```{tabbed} 10 MW\n",
    "<img src=\"figs/pool_fire_10mw_sealed_hrr.svg\" width=\"80%\">\n",
    "```"
   ]
  },
  {
   "cell_type": "markdown",
   "id": "71cacbe4",
   "metadata": {},
   "source": [
    "## Task II – Mean Profiles\n",
    "\n",
    "This task will illustrate the analysis of the simulation based on slices and devices. In addition to the heat release, the gas temperature should also be evaluated. Use again the input file with a heat release of 1 MW.\n",
    "\n",
    "**Tasks**\n",
    "1. Plot the temperature distrtibution of the plume at $\\small\\sf y = 0~m$ and $\\small\\sf z = 1.5~m$ in various ways to analyse exact cell temperatures and isothermes.\n",
    "\n",
    "2. visualize the velcity vector field in the plume axis at $\\small\\sf t \\approx 20~s$. Open the sealed domain on at least one side and observe the change in the flow field. \n",
    "\n",
    "3. Analyse the heat flux and the adiabatic surface temperature on the boundaries of the domain or an obstruction within. Plot the quantities with Smokeview or by reading the boundary files with the ***fdsreader***. Compare the results with the output of corresponding devices on top of the boundaries (Consider the devices orientation!). \n",
    "\n",
    "\n",
    "```{tip} A vector field results from the superposition of several scalar fields (e.g. u- and v-velocity). A vector slice can be generated directly by setting the SLCF attribute `VECTOR=.TRUE.`. Please refer to section 21.4 \"Animated Planar Slices: The SLCF Namelist Group\" of the [FDS User's Guide](https://github.com/firemodels/fds/releases/download/FDS6.7.5/FDS_User_Guide.pdf) for more information about the SLCF Namelist Group or 22.28 \"(Slice file parameters)\". For the output quantities please refer to 21.12 \"Summary of Frequently-Used Output Quantities\".\n",
    "```\n",
    "\n",
    "[comment]: <> (v_z profile along z-axis as function of HRR)\n",
    "\n",
    "**Solution**"
   ]
  },
  {
   "cell_type": "code",
   "execution_count": 5,
   "id": "3e311712",
   "metadata": {
    "tags": [
     "hide_cell"
    ]
   },
   "outputs": [],
   "source": [
    "data_root = root + 'data/pool_fire/1mw_sealed'\n",
    "sim = fdsreader.Simulation(data_root)\n",
    "slice_temp = sim.slices[0]\n",
    "time = 20\n",
    "time_index = slice_temp.get_nearest_timestep(time)\n",
    "\n",
    "plt.figure(figsize=(4,6))\n",
    "plt.imshow(slice_temp[0].data[time_index].T, origin='lower', \n",
    "           extent=slice_temp[0].extent.as_list(), cmap='jet',\n",
    "           vmin=20, vmax=1200)\n",
    "plt.xlabel(\"X / m\")\n",
    "plt.ylabel(\"Z / m\")\n",
    "plt.colorbar(label=\"Temperature / $\\sf ^\\circ C$\")\n",
    "plt.savefig('figs/pool_fire_1mw_temperatures_slice.svg', bbox_inches='tight')\n",
    "plt.close()\n",
    "\n"
   ]
  },
  {
   "cell_type": "markdown",
   "id": "569b6272",
   "metadata": {},
   "source": [
    ":::{figure-md} fig-pool-fire-temp-slice\n",
    "\n",
    "<img src=\"figs/pool_fire_1mw_temperatures_slice.svg\" width=\"60%\">\n",
    "\n",
    "Visualisation of the instanteneous ($\\sf t=19.63~s$) `TEMPERATURE` values in the y-z-slice $\\sf y=0~m$. The command `CELL_CENTERED`, prevents the values between the cell boundaries from being interpolated.\n",
    ":::"
   ]
  },
  {
   "cell_type": "code",
   "execution_count": 6,
   "id": "79c7ca44",
   "metadata": {
    "tags": [
     "hide_cell"
    ]
   },
   "outputs": [],
   "source": [
    "slice_temp = sim.slices[1]\n",
    "time = 20.00\n",
    "time_index = slice_temp.get_nearest_timestep(time)\n",
    "(n_x, n_y) = slice_temp[0].shape\n",
    "x = range(n_x)\n",
    "y = range(n_y)\n",
    "X, Y = np.meshgrid(x, y)\n",
    "plt.figure(figsize=(3,3))\n",
    "plt.contourf(X,Y, slice_temp[0].data[time_index].T, origin='lower', cmap='jet')\n",
    "plt.xlabel(\"$\\sf N_{cells,x}$ / -\")\n",
    "plt.ylabel(\"$\\sf N_{cells,y}$ / -\")\n",
    "plt.colorbar(label=\"Temperature / $\\sf ^\\circ C$\")\n",
    "plt.savefig('figs/pool_fire_1mw_temperatures_z_contour.svg', bbox_inches='tight')\n",
    "plt.close()"
   ]
  },
  {
   "cell_type": "markdown",
   "id": "38705af6",
   "metadata": {},
   "source": [
    ":::{figure-md} fig-pool-fire-temp-contour\n",
    "\n",
    "<img src=\"figs/pool_fire_1mw_temperatures_z_contour.svg\" width=\"60%\">\n",
    "\n",
    "Visualisation of the instanteneous ($\\sf t=19.63~s$) `TEMPERATURE` values in the x-z-slice $\\sf y=0~m$. The plot shows the isotherms with a bandwidth of $100 K$.\n",
    ":::"
   ]
  },
  {
   "cell_type": "code",
   "execution_count": 7,
   "id": "c853ed94",
   "metadata": {
    "tags": [
     "hide_cell"
    ]
   },
   "outputs": [],
   "source": [
    "data_root = root + 'data/pool_fire/10mw_sealed'\n",
    "sim = fdsreader.Simulation(data_root)# Vector Plots\n",
    "time = 20\n",
    "time_index = slice_temp.get_nearest_timestep(time)\n",
    "\n",
    "\n",
    "slice_u = sim.slices[3][0].data[time_index]\n",
    "slice_v = sim.slices[4][0].data[time_index]\n",
    "n_x = slice_u.shape[0]\n",
    "n_y = slice_u.shape[1]\n",
    "x = range(n_x)\n",
    "y = range(n_y)\n",
    "X, Y = np.meshgrid(x, y)\n",
    "slice_res = (slice_u**2 + slice_v**2)**1/2\n",
    "plt.figure(figsize=(3,6))\n",
    "plt.quiver(X,Y, slice_u.T, slice_v.T, slice_res.T,cmap='jet', clim=(0,50), scale=100)\n",
    "plt.colorbar(label = \"Velocity / $\\sf ms^{-2}$\")\n",
    "plt.xlabel(\"$\\sf N_{cells,x}$ / -\")\n",
    "plt.ylabel(\"$\\sf N_{cells,y}$ / -\")\n",
    "plt.xticks(ticks=[0,12.5,25], labels=[-2.5,0,2.5])\n",
    "plt.yticks(ticks=[0,10,20,30,40,50], labels=[0,2,4,6,8,10])\n",
    "plt.xlim(0,25)\n",
    "plt.savefig('figs/pool_fire_velocity_vector_sealed.svg', bbox_inches='tight')\n",
    "plt.close()"
   ]
  },
  {
   "cell_type": "code",
   "execution_count": 8,
   "id": "4593b3bb",
   "metadata": {
    "tags": [
     "hide_cell"
    ]
   },
   "outputs": [],
   "source": [
    "data_root = root + 'data/pool_fire/10mw_open'\n",
    "sim = fdsreader.Simulation(data_root)# Vector Plots\n",
    "time = 20\n",
    "time_index = slice_temp.get_nearest_timestep(time)\n",
    "\n",
    "\n",
    "slice_u = sim.slices[3][0].data[time_index]\n",
    "slice_v = sim.slices[4][0].data[time_index]\n",
    "n_x = slice_u.shape[0]\n",
    "n_y = slice_u.shape[1]\n",
    "x = range(n_x)\n",
    "y = range(n_y)\n",
    "X, Y = np.meshgrid(x, y)\n",
    "slice_res = (slice_u**2 + slice_v**2)**1/2\n",
    "plt.figure(figsize=(3,6))\n",
    "plt.quiver(X,Y, slice_u.T, slice_v.T, slice_res.T,cmap='jet', clim=(0,50), scale=100)\n",
    "plt.colorbar(label = \"Velocity / $\\sf ms^{-2}$\")\n",
    "\n",
    "plt.xlabel(\"$\\sf N_{cells,x}$ / -\")\n",
    "plt.ylabel(\"$\\sf N_{cells,y}$ / -\")\n",
    "plt.xticks(ticks=[0,12.5,25], labels=[-2.5,0,2.5])\n",
    "plt.yticks(ticks=[0,10,20,30,40,50], labels=[0,2,4,6,8,10])\n",
    "plt.xlim(0,25)\n",
    "plt.savefig('figs/pool_fire_velocity_vector_open.svg', bbox_inches='tight')\n",
    "plt.close()"
   ]
  },
  {
   "cell_type": "markdown",
   "id": "7b87af84",
   "metadata": {},
   "source": [
    "\n",
    "```{tabbed} 10 MW, sealed domain\n",
    "<img src=\"figs/pool_fire_velocity_vector_sealed.svg\" width=\"60%\">\n",
    "```\n",
    "\n",
    "```{tabbed} 10 MW, open domain\n",
    "<img src=\"figs/pool_fire_velocity_vector_open.svg\" width=\"60%\">\n",
    "```"
   ]
  },
  {
   "cell_type": "code",
   "execution_count": 9,
   "id": "40fc0f5e",
   "metadata": {
    "tags": [
     "hide_cell"
    ]
   },
   "outputs": [],
   "source": [
    "from fdsreader.bndf.utils import sort_patches_cartesian\n",
    "data_root = root + 'data/pool_fire/bndf'\n",
    "sim = fdsreader.Simulation(data_root)\n",
    "obst = sim.obstructions[0]\n",
    "\n",
    "orientation = -1\n",
    "quantity = \"AST\"\n",
    "patches = list()\n",
    "for sub_obst in obst.filter_by_orientation(orientation):\n",
    "    # Get boundary data for a specific quantity\n",
    "    sub_obst_data = sub_obst.get_data(quantity)\n",
    "    patches.append(sub_obst_data.data[orientation])\n",
    "\n",
    "# Combine patches to a single face for plotting\n",
    "patches = sort_patches_cartesian(patches)\n",
    "\n",
    "shape_dim1 = sum([patch_row[0].shape[0] for patch_row in patches])\n",
    "shape_dim2 = sum([patch.shape[1] for patch in patches[0]])\n",
    "n_t = patches[0][0].n_t  # Number of timesteps\n",
    "\n",
    "face = np.empty(shape=(n_t, shape_dim1, shape_dim2))\n",
    "dim1_pos = 0\n",
    "dim2_pos = 0\n",
    "for patch_row in patches:\n",
    "    d1 = patch_row[0].shape[0]\n",
    "    for patch in patch_row:\n",
    "        d2 = patch.shape[1]\n",
    "        face[:, dim1_pos:dim1_pos + d1,\n",
    "        dim2_pos:dim2_pos + d2] = patch.data\n",
    "        dim2_pos += d2\n",
    "    dim1_pos += d1\n",
    "    dim2_pos = 0\n",
    "\n",
    "t = 20\n",
    "plt.figure(figsize=(4,6))\n",
    "plot = plt.imshow(face[t].T, vmin=20, vmax=300, origin=\"lower\", cmap=\"jet\")\n",
    "plt.colorbar(label=\"Temperature / $\\sf ^\\circ C$\")\n",
    "plt.xlabel(\"$\\sf N_{cells,x}$ / -\")\n",
    "plt.ylabel(\"$\\sf N_{cells,y}$ / -\")\n",
    "plt.savefig('figs/pool_fire_bndf_ast.svg', bbox_inches='tight')\n",
    "plt.close()"
   ]
  },
  {
   "cell_type": "code",
   "execution_count": 10,
   "id": "33a5df83",
   "metadata": {
    "tags": [
     "hide_cell"
    ]
   },
   "outputs": [],
   "source": [
    "orientation = -1\n",
    "quantity = \"NET HEAT FLUX\"\n",
    "patches = list()\n",
    "for sub_obst in obst.filter_by_orientation(orientation):\n",
    "    # Get boundary data for a specific quantity\n",
    "    sub_obst_data = sub_obst.get_data(quantity)\n",
    "    patches.append(sub_obst_data.data[orientation])\n",
    "\n",
    "# Combine patches to a single face for plotting\n",
    "patches = sort_patches_cartesian(patches)\n",
    "\n",
    "shape_dim1 = sum([patch_row[0].shape[0] for patch_row in patches])\n",
    "shape_dim2 = sum([patch.shape[1] for patch in patches[0]])\n",
    "n_t = patches[0][0].n_t  # Number of timesteps\n",
    "\n",
    "face = np.empty(shape=(n_t, shape_dim1, shape_dim2))\n",
    "dim1_pos = 0\n",
    "dim2_pos = 0\n",
    "for patch_row in patches:\n",
    "    d1 = patch_row[0].shape[0]\n",
    "    for patch in patch_row:\n",
    "        d2 = patch.shape[1]\n",
    "        face[:, dim1_pos:dim1_pos + d1,\n",
    "        dim2_pos:dim2_pos + d2] = patch.data\n",
    "        dim2_pos += d2\n",
    "    dim1_pos += d1\n",
    "    dim2_pos = 0\n",
    "\n",
    "t = 20\n",
    "plt.figure(figsize=(4,6))\n",
    "plot = plt.imshow(face[t].T, vmin=0, vmax=4, origin=\"lower\", cmap=\"jet\")\n",
    "plt.colorbar(label=\"NHF / $\\sf kW~m^{-2}$\")\n",
    "plt.xlabel(\"$\\sf N_{cells,x}$ / -\")\n",
    "plt.ylabel(\"$\\sf N_{cells,y}$ / -\")\n",
    "plt.savefig('figs/pool_fire_bndf_nhf.svg', bbox_inches='tight')\n",
    "plt.close()"
   ]
  },
  {
   "cell_type": "code",
   "execution_count": 11,
   "id": "bf9112d6",
   "metadata": {
    "tags": [
     "hide_cell"
    ]
   },
   "outputs": [],
   "source": [
    "time = sim.devices['Time'].data\n",
    "ast = sim.devices['AST'].data\n",
    "nhf = sim.devices['NHF'].data\n",
    "fig, ax1 = plt.subplots()\n",
    "\n",
    "color = 'tab:blue'\n",
    "ax1.plot(ast, color=color)\n",
    "ax1.tick_params(axis='y', labelcolor=color)\n",
    "ax1.set_xlabel('Time / s')\n",
    "ax1.set_ylabel(\"AST / $\\sf ^\\circ C$\", color=color)\n",
    "\n",
    "\n",
    "ax2 = ax1.twinx()\n",
    "color = 'tab:orange'\n",
    "\n",
    "ax2.plot(nhf, color=color)\n",
    "ax2.tick_params(axis='y', labelcolor=color)\n",
    "ax2.set_ylabel(\"NHF / $\\sf kW~m^{-2}$\", color=color)\n",
    "\n",
    "plt.savefig('figs/pool_fire_1mw_ast_nhf.svg', bbox_inches='tight')\n",
    "plt.close()"
   ]
  },
  {
   "cell_type": "markdown",
   "id": "2eb868de",
   "metadata": {},
   "source": [
    "```{tabbed} ADIABATIC SURFACE TEMPERTURE\n",
    "<img src=\"figs/pool_fire_bndf_ast.svg\" width=\"60%\">\n",
    "```\n",
    "```{tabbed} NET HEAT FLUX\n",
    "<img src=\"figs/pool_fire_bndf_nhf.svg\" width=\"60%\">\n",
    "```"
   ]
  },
  {
   "cell_type": "markdown",
   "id": "8191ce83",
   "metadata": {},
   "source": [
    "## Task III - Plume Formulas\n",
    "\n",
    "This task targets the computation of the plume temperature with analytical methods in order to subsequently validate the results of an numerical simulation. For more detailed information on the theory and application of the Plume formulas, please refer to the literature, e.g. Enclosure Fire Dynamics by B. Karlsson and J. Quintiere {cite}`Karlsson.1999`.\n",
    "\n",
    "***Heskested***\n",
    "\n",
    "$\\small\\sf \\Delta T $ indicates the temperature rise in the plume centerline axis the rise above ambient temperature:\n",
    "\n",
    "\n",
    "$$ \\small\\sf\n",
    "\\Delta T = 9.1 \\left(\\frac{T_\\infty}{g \\cdot c_p^2 \\cdot \\rho_\\infty^2} \\right)^{1/3} \\cdot \\dot{Q}_c^{2/3} \\cdot (z -z_0)^{-5/3}\n",
    "$$\n",
    "\n",
    "where $\\sf \\dot{Q}_c$ ist the convective heat release rate, $\\small\\sf T_\\infty = 293~K$ is the ambient temperature, $\\small\\sf g = 9.81~ms^{-1}$ is the gravitational constant, $\\small\\sf \\rho_\\infty = 1.2 kg/m^3$ is the \n",
    "density of air at ambient temperature and $\\small\\sf c_p = 1.0~kJ/(kg K)$ is the specific heat capacity.\n",
    "\n",
    "The virtual origin $z_0$ depends on the (equivalent) diameter $D$ of the fire source and the total heat release rate and is given by:\n",
    "\n",
    "$$\\small\\sf\n",
    "z_0 = 0.083 \\cdot \\dot{Q}_c^{2/5} - 1.02 \\cdot D\n",
    "$$\n",
    "\n",
    "***McCaffrey***\n",
    "\n",
    "$\\small\\sf \\Delta T $ indicates the temperature rise in the plume centerline axis the rise above ambient temperature:\n",
    "\n",
    "$$\\small\\sf\n",
    "\\Delta T = \\left(\\frac{\\kappa}{0.9 \\cdot \\sqrt{2g}}\\right)^2 \\cdot \\left(\\frac{z}{\\dot{Q}^{2/5}}\\right)^{2\\eta-1} \\cdot T_\\infty\n",
    "$$\n",
    "\n",
    "where $\\small\\sf \\dot{Q}$ ist the total heat release rate, $\\small\\sf T_\\infty = 293~K$ is the ambient temperature, $\\small\\sf g = 9.81~ms^{-1}$ is the gravitational constant, z is the hight above the virtual plume source (m). The constants $\\small\\sf \\eta$ and $\\small\\sf \\kappa$ vary depending on the plume regions and can be optained from the following table.\n",
    "\n",
    "| Region       | $ \\small\\sf \\frac{z}{\\dot{Q}^{2/5}}$    | $\\small\\sf \\eta$ | $\\small\\sf \\kappa$           |\n",
    "|--------------|---------------------|--------|-----------------------------|\n",
    "| Continuous   | < 0.08           | 1/2  | $\\small\\sf 6.8~[m^{1/2}/s]$           |\n",
    "| Intermittent | 0.08-0.2         |  0    | $\\small\\sf 1.9~[m/(kW^{1/5}s)]$       |\n",
    "| Plume        | > 0.2            | 1/3 | $\\small\\sf 1.1~[m^{4/4}/(kW^{1/3}s)]$ |\n",
    "\n",
    "**Task:**\n",
    "\n",
    "1. Calculate the plume temperatures of the plume using the analytical approaches of the Heskested and Mccaffrey Plumes at a HRR of 1 MW at heights of $\\small\\sf  z = 0.5~m, 1~m, 1.5~m, 2~m, 2.5~m, 4~m$. Assume that the radiative fraction of the plume is 20 %. Compare the results and discuss the reasons for the deviations.\n",
    "\n",
    "2. Evaluate the temperature in the plume axis for the FDS simulation by a slice file in the X-Z as well as in the Y-Z plane. Compare the temperature in the plume axis to the results of the plume formulas using temperature devices. Smooth the output of the units by a moving average to reduce noise.\n",
    "\n",
    "```{tip} To reduce noise, temperatures calculated with FDS can be smoothed using a simple moving average (SMA). The SMA of a time series $\\small\\sf x(t)$ is the sequence of arithmetic averages of $\\small\\sf  n$ consecutive data points.\n",
    "$\\small\\sf m_{SMA}(t) = \\frac{1}{n}\\sum_{t=0}^{n-1}x(t-1)$\n",
    "```\n",
    "**Solution:**"
   ]
  },
  {
   "cell_type": "markdown",
   "id": "2e73bf86",
   "metadata": {
    "tags": [
     "hide_cell"
    ]
   },
   "source": [
    "***McCaffrey***\n",
    "\n",
    "```{toggle}\n",
    "$\\small\\sf z = 1.0 m: \\frac{z}{\\dot{Q}^{2/5}} = \\frac{1}{1000^{2/5}} = 0.063~|~0.063 < 0.008$ -> Continuous\n",
    "\n",
    "$\\small\\sf z = 1.5 m: \\frac{z}{\\dot{Q}^{2/5}} = \\frac{1.5}{1000^{2/5}} = 0.095~|~0.2 > 0.095 > 0.008$ -> Intermediate\n",
    "\n",
    "$\\small\\sf z = 2.0 m: \\frac{z}{\\dot{Q}^{2/5}} = \\frac{2.0}{1000^{2/5}} = 0.126~|~0.2 > 0.126 > 0.008$ -> Intermediate\n",
    "\n",
    "$\\small\\sf z = 2.5 m: \\frac{z}{\\dot{Q}^{2/5}} = \\frac{2.5}{1000^{2/5}} = 0.158~|~0.2 > 0.158 > 0.008$ -> Intermediate\n",
    "\n",
    "$\\small\\sf z = 4.0 m: \\frac{z}{\\dot{Q}^{2/5}} = \\frac{4.0}{1000^{2/5}} = 0.252~|~0.252 > 0.2$ -> Plume\n",
    "\n",
    "The calculated temperatures and the respective auxiliary constants used can be found in the following table:\n",
    "\n",
    "\n",
    "| $\\small\\sf z [m]$ | $\\small\\sf \\frac{z}{\\dot{Q}^{2/5}}[m/kW^{2/5}]$  | $\\small\\sf \\eta$ | $\\small\\sf \\kappa$             | $\\small\\sf \\Delta T [\\circ C]$ |\n",
    "|:-------:|:--------------------------------------:|:------:|:--------------------:|:--------------------:|\n",
    "| 1.0     | 0.063                                  | 1/2    | $\\small\\sf 6.8~m^{1/1}/s$      |          852         |\n",
    "| 1.5     | 0.095                                  | 0      | $\\small\\sf 1.9~m/(kW^{1/5}/s)$ |          700         |\n",
    "| 2.0     | 0.126                                  | 0      | $\\small\\sf 1.9~m/(kW^{1/5}/s)$  |          528         |\n",
    "| 2.5     | 0.158                                  | 0      | $\\small\\sf 1.9~m/(kW^{1/5}/s)$ |          421         |\n",
    "| 4.0     | 0.252                                  | -1/3   | $\\small\\sf 1~m/(kW^{1/3}/s)$   |          221         |\n",
    "```"
   ]
  },
  {
   "cell_type": "markdown",
   "id": "35e435e2",
   "metadata": {
    "tags": [
     "hide_cell"
    ]
   },
   "source": [
    "***Heskested***\n",
    "```{toggle}\n",
    "Simplifying the plumem formula into:\n",
    "\n",
    "$\\small\\sf \\Delta T = 9.1 \\left(\\frac{T_\\infty}{g \\cdot c_p^2 \\cdot \\rho_\\infty^2} \\right)^{1/3} \\cdot \\dot{Q}_c^{2/3} \\cdot (z -z_0)^{-5/3} = 25 \\left( \\frac{\\dot{Q}_c^{2/5}}{(z -z_0)}\\right)^{5/3}$\n",
    "\n",
    "The equivalent diameter:\n",
    "\n",
    "$\\small\\sf D = 2 \\sqrt{\\frac{A}{2\\pi}} = 2 \\sqrt{\\frac{1}{2\\pi}} \\approx 0.8$\n",
    "\n",
    "The virtual plume origin:\n",
    "\n",
    "$\\small\\sf z_0 = 0.083 \\cdot (0.8 \\cdot 1000)^{2/5} - 1.02 \\cdot 0.8 \\approx 0.39 m$\n",
    "\n",
    "The plume temperature at differenyt heights:\n",
    "\n",
    "$\\small\\sf z = 1.0 m:$ $\\small\\sf \\Delta T = 25 \\left( \\frac{800^{2/5}}{(1 + 0.39)}\\right)^{5/3} = 1244~K$\n",
    "\n",
    "\n",
    "$\\small\\sf z = 1.5 m:$ $\\small\\sf  \\Delta T = 25 \\left( \\frac{800^{2/5}}{(1.5 + 0.39)}\\right)^{5/3} = 745~K$\n",
    "\n",
    "\n",
    "$\\small\\sf z = 2.0 m:$ $\\small\\sf  \\Delta T = 25 \\left( \\frac{800^{2/5}}{(2 + 0.39)}\\right)^{5/3} = 504~K$\n",
    "\n",
    "$\\small\\sf z = 2.5 m:$ $\\small\\sf  \\Delta T = 25 \\left( \\frac{800^{2/5}}{(2.5 + 0.39)}\\right)^{5/3} = 367~K$\n",
    "\n",
    "$\\small\\sf z = 4.0 m:$ $\\small\\sf  \\Delta T = 25 \\left( \\frac{800^{2/5}}{(4.0 + 0.39)}\\right)^{5/3} = 183~K$\n",
    "```"
   ]
  },
  {
   "cell_type": "markdown",
   "id": "c16d90af",
   "metadata": {
    "tags": [
     "hide_cell"
    ]
   },
   "source": [
    "***FDS Devices***"
   ]
  },
  {
   "cell_type": "code",
   "execution_count": 12,
   "id": "ded09fc8",
   "metadata": {
    "tags": [
     "hide_cell"
    ]
   },
   "outputs": [],
   "source": [
    "import matplotlib.patches as mpatches\n",
    "from matplotlib.lines import Line2D\n",
    "\n",
    "\n",
    "def ma (values, window):\n",
    "    weights = np.repeat(1.0, window)/window\n",
    "    sma = np.convolve(values, weights, 'valid')\n",
    "    return sma\n",
    "d_t_hesk_list = [1244, 745, 504, 367, 183]\n",
    "d_t_mcf_list = [852, 700, 528, 421, 221]\n",
    "color_list = ['b', 'c', 'g', 'r', 'y']\n",
    "data_root = root + 'data/pool_fire/1mw_open'\n",
    "sim = fdsreader.Simulation(data_root)\n",
    "devc_list = [1.0, 1.5, 2.0, 2.5, 4.0]\n",
    "window = 100\n",
    "for z, d_t_hesk, d_t_mcf, c in zip(devc_list, d_t_hesk_list, d_t_mcf_list, color_list):\n",
    "    time = sim.devices['Time'].data\n",
    "    temperature = sim.devices[f'T_{z}'].data\n",
    "#     plt.scatter(time, temperature, s=1, alpha=0.1, color=c)\n",
    "    plt.plot(ma(time, window), ma(temperature, window), label=f\"z = {z}\", color=c)\n",
    "    plt.axhline(y=d_t_hesk+20, color=c, linestyle='dashed')\n",
    "    plt.axhline(y=d_t_mcf+20, color=c, linestyle='dotted')\n",
    "    plt.annotate(f\"$\\sf z={z}~m$\", xy=(30, d_t_hesk-50),  color=c, annotation_clip=False)\n",
    "\n",
    "plt.grid(True, linestyle='--', alpha=0.5)\n",
    "plt.legend(loc='best')\n",
    "plt.xlabel(\"Time / s\")\n",
    "plt.ylabel(\"Temperature / $\\sf ^\\circ C$\")\n",
    "line_fds = Line2D([0], [0], color='black', linestyle='-')\n",
    "line_hesk = Line2D([0], [0], color='black', linestyle='dashed')\n",
    "line_mcf = Line2D([0], [0], color='black', linestyle='dotted')\n",
    "plt.legend([line_fds, line_hesk, line_mcf], [\"FDS\", \"Heskestad\", \"MCCaffrey\"])\n",
    "\n",
    "plt.savefig('figs/pool_fire_1mw_open_temperatures_devc.svg', bbox_inches='tight')\n",
    "plt.close()"
   ]
  },
  {
   "cell_type": "markdown",
   "id": "8e4f60f7",
   "metadata": {
    "tags": []
   },
   "source": [
    ":::{figure-md} fig-pool-fire-hrr\n",
    "\n",
    "<img src=\"figs/pool_fire_1mw_open_temperatures_devc.svg\" width=\"80%\">\n",
    "\n",
    "Moving average of `TEMPERATURE` devices at heights 1.0, 1.5, 2.0, 2.5, 4.0 m, smoothed over 100 datapoints.\n",
    ":::"
   ]
  },
  {
   "cell_type": "markdown",
   "id": "b37bf0d3",
   "metadata": {},
   "source": [
    "## Task IV – Time-dependent Heat Release Rate\n",
    "\n",
    "This task deals with the different possibilities to define the heat release rate (HRR) of a design fire and to model it in FDS. The total heat release  $\\dot{Q}$ of a burning area $\\small\\sf A_{fire}$ depends on the heat release rate per unit area $\\dot{q}''$:\n",
    "\n",
    "$$\\dot{Q} = {A_{Fire} \\cdot \\dot{q}''}$$\n",
    "In FDS a bunring area is defined by a `VENT` with a certain surface proberty that can be assigned by a `SURF_ID`. A fixed heat release rate per unit area can be set to a `SURF` by the attribute `HRRPUA`. Please refer to sectoion 10.2.1 \"Basics\" of the [FDS User's Guide](https://github.com/firemodels/fds/releases/download/FDS6.7.5/FDS_User_Guide.pdf) for rurther information.\n",
    "\n",
    "```{tip} Create an automation in Python or Excel that outputs the strings of the RAMP lines for the FDS input file.  \n",
    "```\n",
    "\n",
    "**Task:**\n",
    "\n",
    "1. Model the HRR progression for a radially spreading fire with a maximum power of 1 MW in FDS assuming a fixed burning area (task a) and a radial propagation from the center of the burning area (task b).\n",
    "\n",
    "\n",
    "    1. The HRR according to the 't-square' model can be described by:\n",
    "    \n",
    "        $$\\small\\sf \\dot Q = \\alpha \\cdot t^2$$\n",
    "        where t is the  burning time after ignition and $\\small\\sf \\alpha$ is the fire growth factor.Assume a fast fire propagation by $\\small\\sf \\alpha = 0.04689~kW/s^2$ and a **constant** heat release rate per unit area of $\\small\\sf  \\dot{q}'' = 0.25~MW/m^2$. The maximum burning area is $\\small\\sf  A_{fire} = 1~m^2$. First calculate the time until the fire has spread to the entire area. This corresponds to the time at which the maximum HRR is reached. For simplicity, assume a perfect radial fire spread and a round fire area. Then model the temporal evolution of the energy release in FDS via a `RAMP` function (See section 20.6 \"Controlling a Ramp\" of the [FDS User's Guide](https://github.com/firemodels/fds/releases/download/FDS6.7.5/FDS_User_Guide.pdf) ).\n",
    "    \n",
    "    2. Model the fire propagation directly in FDS by defining the spread rate. The `SPREAD` attributes denotes a constant radial propagation speed from a specified point.\n",
    "    :::{figure-md} fig-pool-fire-spread\n",
    "\n",
    "    <img src=\"figs/pool_fire_spread.svg\" width=\"30%\">\n",
    "\n",
    "    Fire propagation via FDS `SPREAD` attribute\n",
    "    :::\n",
    "    For instructions on how to model a radial fire spread in FDS, please refer to the F[FDS User's Guide](https://github.com/firemodels/fds/releases/download/FDS6.7.5/FDS_User_Guide.pdf) Section 11.4.2 \"Special Topic: A Radially-Spreading Fire\". The radial propagation speed v can be obtained from the fire area $\\small\\sf A_{Fire}$ and the corresponding burning period t.\n",
    "    \n",
    "    $$\\small\\sf v = \\frac{\\sqrt{A_{fire}/\\pi}}{t}$$\n",
    "\n",
    "    3. Compare the HRR curves calculated by FDS with each other and discuss the limitations and inaccuracies associated with each approach.\n",
    "\n",
    "\n",
    "    \n",
    "    \n",
    "\n",
    "\n",
    "2. Given is the fictional mass loss of a heptane fire. Calculate the heat release of the fire over the entire burning period with an assumed effective heat of combustion $\\small\\sf  \\Delta h_{c,eff} = 44,590~kJ / kg$. Model the HRR in FDS by using the RAMP function. Check if the simulated curve matches the prescribed HRR. The effective heat of combustion indicates the heat release per unit of weight of a material in combustion. For simplicity, assume that the averaged mass loss between two time steps applies to the end of each time interval. \n",
    "The mass loss caused by the burn-up can be described by the following time-dependent correlation:\n",
    "    ```\n",
    "    time_index = [0, 25, 50, 75, 100, 125, 150, 175, 200, 225, 250, 275 ] # [s]\n",
    "    total_mass = [4000, 4000, 3600, 3040, 2880, 2400, 1800, 1120, 600, 160, 0, 0] # [g]\n",
    "     ```"
   ]
  },
  {
   "cell_type": "markdown",
   "id": "a699e489-0296-4db7-ac55-c19f55f7ad9b",
   "metadata": {
    "tags": []
   },
   "source": [
    "**1. Solution**\n",
    "```{toggle}\n",
    "The burning period for the fire to reach the maximum heat release is:\n",
    "\n",
    "$$\n",
    "t = \\frac{\\dot{q}'' \\cdot A_{Fire}}{\\alpha} = \\frac{250 \\cdot 1}{0.04689} \\approx 73~s\n",
    "$$\n",
    "\n",
    "By setting the time and fraction parameters `T` and `F`, the `RAMP` function is obtained as follows:\n",
    "\n",
    "    &SURF ID = 'BURNER', HRRPUA = 250, RAMP_Q = 'fireramp', COLOR = 'RASPBERRY' /\n",
    "    &VENT XB = -0.5,0.5, -0.5,0.5, 0.0, 0.0, SURF_ID='BURNER' /\n",
    "    &RAMP ID='fireramp', T=0, F=0.00\n",
    "    .\n",
    "    .\n",
    "    .\n",
    "    &RAMP ID='fireramp', T=73, F=1.00\n",
    "\n",
    "The spread rate corresponds to the propagation speed in m/s:\n",
    "\n",
    "$$\n",
    "\\small\\sf v = \\frac{\\sqrt{A_{fire}/\\pi}}{t} = \\frac{\\sqrt{1/\\pi}}{73} = 0.00773 m/s\n",
    "$$\n",
    "\n",
    "Starting from the center of the vent, the radial propagation of the fire in FDS can be described as follows:\n",
    "\n",
    "    &SURF ID = 'BURNER', HRRPUA = 250, COLOR = 'RASPBERRY' /\n",
    "    &VENT XB = -0.5,0.5, -0.5,0.5, 0.0, 0.0, SURF_ID='BURNER', SPREAD_RATE = 0.00773 /\n",
    "```"
   ]
  },
  {
   "cell_type": "code",
   "execution_count": 13,
   "id": "ef3ae20c",
   "metadata": {
    "tags": [
     "hide_cell"
    ]
   },
   "outputs": [
    {
     "name": "stdout",
     "output_type": "stream",
     "text": [
      "73.01799238972059\n",
      "&SURF ID = 'BURNER', HRRPUA = 250, RAMP_Q = 'fireramp', COLOR = 'RASPBERRY' /\n",
      "&RAMP ID='fireramp', T=0, F=0.00\n",
      "&RAMP ID='fireramp', T=1, F=0.00\n",
      "&RAMP ID='fireramp', T=2, F=0.00\n",
      "&RAMP ID='fireramp', T=3, F=0.00\n",
      "&RAMP ID='fireramp', T=4, F=0.00\n",
      "&RAMP ID='fireramp', T=5, F=0.00\n",
      "&RAMP ID='fireramp', T=6, F=0.01\n",
      "&RAMP ID='fireramp', T=7, F=0.01\n",
      "&RAMP ID='fireramp', T=8, F=0.01\n",
      "&RAMP ID='fireramp', T=9, F=0.02\n",
      "&RAMP ID='fireramp', T=10, F=0.02\n",
      "&RAMP ID='fireramp', T=11, F=0.02\n",
      "&RAMP ID='fireramp', T=12, F=0.03\n",
      "&RAMP ID='fireramp', T=13, F=0.03\n",
      "&RAMP ID='fireramp', T=14, F=0.04\n",
      "&RAMP ID='fireramp', T=15, F=0.04\n",
      "&RAMP ID='fireramp', T=16, F=0.05\n",
      "&RAMP ID='fireramp', T=17, F=0.05\n",
      "&RAMP ID='fireramp', T=18, F=0.06\n",
      "&RAMP ID='fireramp', T=19, F=0.07\n",
      "&RAMP ID='fireramp', T=20, F=0.08\n",
      "&RAMP ID='fireramp', T=21, F=0.08\n",
      "&RAMP ID='fireramp', T=22, F=0.09\n",
      "&RAMP ID='fireramp', T=23, F=0.10\n",
      "&RAMP ID='fireramp', T=24, F=0.11\n",
      "&RAMP ID='fireramp', T=25, F=0.12\n",
      "&RAMP ID='fireramp', T=26, F=0.13\n",
      "&RAMP ID='fireramp', T=27, F=0.14\n",
      "&RAMP ID='fireramp', T=28, F=0.15\n",
      "&RAMP ID='fireramp', T=29, F=0.16\n",
      "&RAMP ID='fireramp', T=30, F=0.17\n",
      "&RAMP ID='fireramp', T=31, F=0.18\n",
      "&RAMP ID='fireramp', T=32, F=0.19\n",
      "&RAMP ID='fireramp', T=33, F=0.20\n",
      "&RAMP ID='fireramp', T=34, F=0.22\n",
      "&RAMP ID='fireramp', T=35, F=0.23\n",
      "&RAMP ID='fireramp', T=36, F=0.24\n",
      "&RAMP ID='fireramp', T=37, F=0.26\n",
      "&RAMP ID='fireramp', T=38, F=0.27\n",
      "&RAMP ID='fireramp', T=39, F=0.29\n",
      "&RAMP ID='fireramp', T=40, F=0.30\n",
      "&RAMP ID='fireramp', T=41, F=0.32\n",
      "&RAMP ID='fireramp', T=42, F=0.33\n",
      "&RAMP ID='fireramp', T=43, F=0.35\n",
      "&RAMP ID='fireramp', T=44, F=0.36\n",
      "&RAMP ID='fireramp', T=45, F=0.38\n",
      "&RAMP ID='fireramp', T=46, F=0.40\n",
      "&RAMP ID='fireramp', T=47, F=0.41\n",
      "&RAMP ID='fireramp', T=48, F=0.43\n",
      "&RAMP ID='fireramp', T=49, F=0.45\n",
      "&RAMP ID='fireramp', T=50, F=0.47\n",
      "&RAMP ID='fireramp', T=51, F=0.49\n",
      "&RAMP ID='fireramp', T=52, F=0.51\n",
      "&RAMP ID='fireramp', T=53, F=0.53\n",
      "&RAMP ID='fireramp', T=54, F=0.55\n",
      "&RAMP ID='fireramp', T=55, F=0.57\n",
      "&RAMP ID='fireramp', T=56, F=0.59\n",
      "&RAMP ID='fireramp', T=57, F=0.61\n",
      "&RAMP ID='fireramp', T=58, F=0.63\n",
      "&RAMP ID='fireramp', T=59, F=0.65\n",
      "&RAMP ID='fireramp', T=60, F=0.68\n",
      "&RAMP ID='fireramp', T=61, F=0.70\n",
      "&RAMP ID='fireramp', T=62, F=0.72\n",
      "&RAMP ID='fireramp', T=63, F=0.74\n",
      "&RAMP ID='fireramp', T=64, F=0.77\n",
      "&RAMP ID='fireramp', T=65, F=0.79\n",
      "&RAMP ID='fireramp', T=66, F=0.82\n",
      "&RAMP ID='fireramp', T=67, F=0.84\n",
      "&RAMP ID='fireramp', T=68, F=0.87\n",
      "&RAMP ID='fireramp', T=69, F=0.89\n",
      "&RAMP ID='fireramp', T=70, F=0.92\n",
      "&RAMP ID='fireramp', T=71, F=0.95\n",
      "&RAMP ID='fireramp', T=72, F=0.97\n",
      "&RAMP ID='fireramp', T=73, F=1.00\n"
     ]
    }
   ],
   "source": [
    "alpha = 0.04689\n",
    "Qdot_max = 250\n",
    "t = (Qdot_max / alpha)**(1/2)\n",
    "print(t)\n",
    "print(f\"&SURF ID = 'BURNER', HRRPUA = {Qdot_max}, RAMP_Q = 'fireramp', COLOR = 'RASPBERRY' /\")\n",
    "for t in range(0, 74):\n",
    "    Qdot = alpha * t **2\n",
    "    \n",
    "    print(f\"&RAMP ID='fireramp', T={t}, F={Qdot / Qdot_max:.2f}\")"
   ]
  },
  {
   "cell_type": "code",
   "execution_count": 14,
   "id": "bc932c80",
   "metadata": {
    "tags": [
     "hide_cell"
    ]
   },
   "outputs": [],
   "source": [
    "data_root = root + 'data/pool_fire/ramp_spread/rundir'\n",
    "sim = fdsreader.Simulation(data_root)\n",
    "plt.plot(sim.hrr[\"Time\"], sim.hrr[\"HRR\"], label='FDS SPREAD')\n",
    "t_min_max = [sim.hrr[\"Time\"][0], sim.hrr[\"Time\"][-1]]\n",
    "\n",
    "data_root = root + 'data/pool_fire/ramp_tsquare'\n",
    "sim = fdsreader.Simulation(data_root)\n",
    "plt.plot(sim.hrr[\"Time\"], sim.hrr[\"HRR\"], label='FDS RAMP')\n",
    "t_min_max = [sim.hrr[\"Time\"][0], sim.hrr[\"Time\"][-1]]\n",
    "\n",
    "plt.grid(True, linestyle='--', alpha=0.5)\n",
    "plt.legend(loc='best')\n",
    "plt.xlabel(\"Time / s\")\n",
    "plt.ylabel(\"HRR / kW\")\n",
    "plt.savefig('figs/pool_fire_10mw_sealed_hrr_spread.svg', bbox_inches='tight')\n",
    "plt.close()"
   ]
  },
  {
   "cell_type": "markdown",
   "id": "fd0f757a",
   "metadata": {},
   "source": [
    ":::{figure-md} fig-pool-fire-hrr-spread\n",
    "\n",
    "<img src=\"figs/pool_fire_10mw_sealed_hrr_spread.svg\" width=\"80%\">\n",
    "\n",
    "Simulated `HRR` generated by `RAMP` and `SPREAD` as a function of time.\n",
    ":::"
   ]
  },
  {
   "cell_type": "markdown",
   "id": "4d30b273-98c8-4c97-b2dd-ddfdd84c2343",
   "metadata": {},
   "source": [
    "**2. Solution**\n",
    "```{toggle}\n",
    "The HRR can be obtained from the mass loss $\\small\\sf \\dot{m_{fuel}}$ by the following expression:\n",
    "$$\\small\\sf \\dot{Q} = \\Delta h_{c,eff} \\dot{m_{fuel}}$$\n",
    "\n",
    "The maximum \n",
    "\n",
    "    &SURF ID = 'BURNER', HRRPUA = 1212.85, RAMP_Q = 'fireramp', COLOR = 'RASPBERRY' /\n",
    "    &RAMP ID='fireramp', T=0, F=0.00 /\n",
    "    &RAMP ID='fireramp', T=25, F=0.15 /\n",
    "    &RAMP ID='fireramp', T=50, F=0.59 /\n",
    "    &RAMP ID='fireramp', T=75, F=0.68 /\n",
    "    &RAMP ID='fireramp', T=100, F=0.35 /\n",
    "    &RAMP ID='fireramp', T=125, F=0.59 /\n",
    "    &RAMP ID='fireramp', T=150, F=0.88 /\n",
    "    &RAMP ID='fireramp', T=175, F=1.00 /\n",
    "    &RAMP ID='fireramp', T=200, F=0.76 /\n",
    "    &RAMP ID='fireramp', T=225, F=0.65 /\n",
    "    &RAMP ID='fireramp', T=250, F=0.24 /\n",
    "    &RAMP ID='fireramp', T=275, F=0.00 /\n",
    "\n",
    "\n",
    "```"
   ]
  },
  {
   "cell_type": "code",
   "execution_count": 19,
   "id": "1f87cd44",
   "metadata": {
    "tags": [
     "hide_cell"
    ]
   },
   "outputs": [
    {
     "name": "stdout",
     "output_type": "stream",
     "text": [
      "[   0.     178.36   713.44   820.456  428.064  713.44  1070.16  1212.848\n",
      "  927.472  784.784  285.376    0.   ]\n",
      "&SURF ID = 'BURNER', HRRPUA = 1212.85, RAMP_Q = 'fireramp', COLOR = 'RASPBERRY' /\n",
      "&RAMP ID='fireramp', T=0, F=0.00 /\n",
      "&RAMP ID='fireramp', T=25, F=0.15 /\n",
      "&RAMP ID='fireramp', T=50, F=0.59 /\n",
      "&RAMP ID='fireramp', T=75, F=0.68 /\n",
      "&RAMP ID='fireramp', T=100, F=0.35 /\n",
      "&RAMP ID='fireramp', T=125, F=0.59 /\n",
      "&RAMP ID='fireramp', T=150, F=0.88 /\n",
      "&RAMP ID='fireramp', T=175, F=1.00 /\n",
      "&RAMP ID='fireramp', T=200, F=0.76 /\n",
      "&RAMP ID='fireramp', T=225, F=0.65 /\n",
      "&RAMP ID='fireramp', T=250, F=0.24 /\n",
      "&RAMP ID='fireramp', T=275, F=0.00 /\n"
     ]
    }
   ],
   "source": [
    "time_list = [0, 25, 50, 75, 100, 125, 150, 175, 200, 225, 250, 275 ]\n",
    "mass_list = [4000, 3900, 3500, 3040, 2800, 2400, 1800, 1120, 600, 160, 0, 0]\n",
    "mlr_list = np.diff(mass_list)/np.diff(time_list) # mass loss rate\n",
    "\n",
    "huc = 44590 # Effective heat of combustion huc = 44590 KJ / kg\n",
    "hrr_list =abs(mlr_list/1000*huc) # calculate HRR from mass loss\n",
    "hrr_list = np.concatenate(([0], hrr_list)) # add 0 mass at first timestep\n",
    "print(hrr_list)\n",
    "print(f\"&SURF ID = 'BURNER', HRRPUA = {max(hrr_list):.2f}, RAMP_Q = 'fireramp', COLOR = 'RASPBERRY' /\")\n",
    "for time, hrr in zip(time_list, hrr_list):\n",
    "    print(f\"&RAMP ID='fireramp', T={time}, F={hrr/max(hrr_list):.2f} /\")"
   ]
  },
  {
   "cell_type": "code",
   "execution_count": 26,
   "id": "a9c43bde",
   "metadata": {
    "tags": [
     "hide_cell"
    ]
   },
   "outputs": [
    {
     "data": {
      "image/png": "[encoded data removed]",
      "text/plain": [
       "<Figure size 432x288 with 1 Axes>"
      ]
     },
     "metadata": {
      "needs_background": "light"
     },
     "output_type": "display_data"
    }
   ],
   "source": [
    "# Plot HRR from Simulation\n",
    "data_root = root + 'data/pool_fire/ramp_heptane/rundir'\n",
    "sim = fdsreader.Simulation(data_root)\n",
    "plt.plot(sim.hrr[\"Time\"], sim.hrr[\"HRR\"], label='simulation')\n",
    "plt.grid(True, linestyle='--', alpha=0.5)\n",
    "plt.xlabel(\"Time / s\")\n",
    "plt.ylabel(\"HRR / kW\")\n",
    "# Plot prescribed data\n",
    "plt.plot(time_list, hrr_list, label = 'prescribed')\n",
    "plt.legend(loc='best')\n",
    "plt.savefig('figs/pool_fire_hrr_heptane_ramp.svg', bbox_inches='tight')\n",
    "# plt.close()"
   ]
  },
  {
   "cell_type": "markdown",
   "id": "158efe1e",
   "metadata": {
    "tags": [
     "hide_cell"
    ]
   },
   "source": [
    ":::{figure-md} fig-pool-fire-hrr-ramp\n",
    "\n",
    "<img src=\"figs/pool_fire_hrr_heptane_ramp.svg\" width=\"80%\">\n",
    "\n",
    "Prescribed and simulated `HRR` of n-heptane fire as a function of time. The heat release can be derived from the mass loss the effective heat of combustion $\\small\\sf \\Delta h_{c,eff}$.\n",
    ":::"
   ]
  },
  {
   "cell_type": "markdown",
   "id": "5f80f20b",
   "metadata": {},
   "source": [
    "## Task V – Grid Convergence / HPC computing / Benchmarking\n",
    "\n",
    "This task deals with the monitoring of simulation parameters such as computation time and the convergence of numerical solutions. \n",
    "\n",
    "**Task:**\n",
    "\n",
    "1. Increase / decrease the grid resolution by factors of 0.4 and 2. Monitor the computing time by evaluating the .out file.\n",
    "\n",
    "2. Extend the examination by refining the grid by a factor of 4 and 8, using resources of parallel computing. For this purpose subdivide the computational domain into several meshes.\n",
    "\n",
    "3. Analyse the computation time for assigning multible cores to a single OpenMP process. Split the computational domain into different meshes and assign individual MPI processes to each of them. Try to combine MPI and OpenMP and evaluate the increase in performance.\n",
    "\n",
    "4. Check grid convergence for the respective resolutions of the domain based on temperature and velocity criteria\n",
    "\n",
    "**Solution:**"
   ]
  },
  {
   "cell_type": "code",
   "execution_count": null,
   "id": "3154678d",
   "metadata": {
    "tags": [
     "hide_cell"
    ]
   },
   "outputs": [],
   "source": [
    "import pandas as pd\n",
    "data_root = root + 'data/pool_fire/gc_3_1/rundir'\n",
    "caselist = ['gc_1_1', 'gc_1_2', 'gc_1_3', 'gc_2_1', 'gc_2_2', 'gc_2_3', 'gc_3_1', 'gc_3_2', 'gc_3_3' ]\n",
    "bm_dict = {}\n",
    "for case in caselist:\n",
    "    case_dict = {}\n",
    "    data_root = root + f'data/pool_fire/{case}/rundir'\n",
    "    sim = fdsreader.Simulation(data_root)\n",
    "    case_dict['devc_temp'] = sim.devices[f'T_{1.0}'].data\n",
    "    case_dict['sim_time'] = sim.devices['Time'].data\n",
    "    case_dict['total_time'] = sim.cpu['Total T_USED (s)\\n'][0]\n",
    "    out_file = sim.out_file_path\n",
    "    with open(out_file, 'r') as file:\n",
    "        for line in file:\n",
    "            if 'Total Number of Grid Cells' in line:\n",
    "                case_dict['n_cells'] = int(line.split('Cells')[-1])\n",
    "            if 'Number of OpenMP Threads:' in line:\n",
    "                case_dict['n_open_mp'] = int(line.split('Number of OpenMP Threads:')[-1])\n",
    "            if 'Number of MPI Processes:' in line:\n",
    "                case_dict['n_mpi']= int(line.split('Number of MPI Processes:')[-1])\n",
    "    \n",
    "    bm_dict[case] = case_dict\n",
    "bm_df = pd.DataFrame(bm_dict).T\n",
    "\n",
    "for n_open_mp in [1,2,4]:\n",
    "    df = bm_df[bm_df['n_open_mp']==n_open_mp]\n",
    "    plt.plot(df['n_cells'], df['total_time'], label=f\"$\\sf N_{{openMP}}$ = {n_open_mp}\")\n",
    "plt.xscale('log')\n",
    "# plt.yscale('log')\n",
    "plt.xlabel(\"$\\sf N_{{cells}}$ / -\")\n",
    "plt.ylabel(\"Time / s\")\n",
    "plt.grid(True, which=\"both\", linestyle='--', alpha=0.5)\n",
    "plt.legend(loc='best')\n",
    "plt.savefig('figs/pool_fire_benchmarking.svg', bbox_inches='tight')"
   ]
  },
  {
   "cell_type": "code",
   "execution_count": null,
   "id": "f89653db",
   "metadata": {
    "tags": [
     "hide_cell"
    ]
   },
   "outputs": [],
   "source": [
    "window = 10\n",
    "for n_cells in [2000, 31250, 250000]:\n",
    "    time = bm_df[bm_df['n_cells']==n_cells].iloc[0]['sim_time']\n",
    "    temp = bm_df[bm_df['n_cells']==n_cells].iloc[0]['devc_temp']\n",
    "    plt.plot(movingaverage(time, window), movingaverage(temp, window), label=f\"$\\sf N_{{cells}}$ = {n_cells}\")\n",
    "    plt.grid(True, which=\"both\", linestyle='--', alpha=0.5)\n",
    "    plt.legend(loc='lower right')\n",
    "plt.xlabel(\"Time / s\")\n",
    "plt.ylabel(\"Temperature / $\\sf ^\\circ C$\")\n",
    "plt.savefig('figs/pool_fire_grid_convergence.svg', bbox_inches='tight')\n",
    "plt.close()"
   ]
  },
  {
   "cell_type": "markdown",
   "id": "e787320a",
   "metadata": {},
   "source": [
    ":::{figure-md} fig-pool-fire-benchmarking\n",
    "\n",
    "<img src=\"figs/pool_fire_benchmarking.svg\" width=\"80%\">\n",
    "\n",
    "Total computation time as a function of the total number of grid cells in the computational domain ( $\\sf N_{cells}$ ) for different amount of openMP processes ($\\sf N_{openMP}$). \n",
    ":::\n",
    " \n",
    "\n",
    ":::{figure-md} fig-pool-fire-grid-convergence\n",
    "\n",
    "<img src=\"figs/pool_fire_grid_convergence.svg\" width=\"80%\">\n",
    "\n",
    "Checking grid convergence for a device with quantity `TEMPERATURE` at XYZ (0, 0, 1). A grid size of 20 cm and below, which results in a total number of 31250 cells, does not show any significant change in temperature.\n",
    ":::"
   ]
  },
  {
   "cell_type": "code",
   "execution_count": null,
   "id": "cba8d5c5",
   "metadata": {},
   "outputs": [],
   "source": []
  }
 ],
 "metadata": {
  "kernelspec": {
   "display_name": "Python 3",
   "language": "python",
   "name": "python3"
  },
  "language_info": {
   "codemirror_mode": {
    "name": "ipython",
    "version": 3
   },
   "file_extension": ".py",
   "mimetype": "text/x-python",
   "name": "python",
   "nbconvert_exporter": "python",
   "pygments_lexer": "ipython3",
   "version": "3.8.5"
  }
 },
 "nbformat": 4,
 "nbformat_minor": 5
}
