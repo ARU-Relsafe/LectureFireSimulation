{
 "cells": [
  {
   "cell_type": "code",
   "execution_count": 1,
   "metadata": {
    "tags": [
     "hide_cell"
    ]
   },
   "outputs": [],
   "source": [
    "# Needed for Markdown output from Python cells\n",
    "from IPython.display import Markdown as md\n",
    "\n",
    "import os\n",
    "import fdsreader"
   ]
  },
  {
   "cell_type": "markdown",
   "metadata": {},
   "source": [
    "# Setting up and fds simulation\n",
    "\n",
    "In this part we will guide you on how to set up your input file for a FDS simulation. A propane fire within a room will be simulated. The room is pictured in figure . In the middel of the room there will be an object with dimensions 1m x1m x 0.5m, the heat release rate of the fire is 600 kW/$m^2$\n",
    "\n",
    ":::{figure-md} Geometry and dimensions of the room\n",
    "<img src=\"./figs/Room_dimensions.png\" width=\"60%\">\n",
    "\n",
    "Geometry and dimensions of the room.\n",
    ":::"
   ]
  },
  {
   "cell_type": "markdown",
   "metadata": {},
   "source": [
    "First you should make a new folder. In this folder you will create the input file and all the generated output files will also be located in this folder. Create and empty txt file in this document. You could use for example atom to create your txt file. Name the file and now change the extension of the file to fds instead of txt. "
   ]
  },
  {
   "cell_type": "markdown",
   "metadata": {},
   "source": [
    "## Step 1: setting up the input file\n",
    "\n",
    "Now you will start creating the input file. The first line of your file should be the header line. \n",
    "\n",
    "&HEAD CHID='Job_1', TITLE='Our first FDS simulation' /\n",
    "\n",
    "* CHID: is the character ID. This is the string used to tag the output files. \n",
    "* TITLE: is a descriptive text of your simulation.\n",
    "\n",
    "At the end of the file, the following line must be added. \n",
    "\n",
    "&TAIL/ \n",
    "\n",
    "All other input parameters and set-ups come between the first and the last line. "
   ]
  },
  {
   "cell_type": "markdown",
   "metadata": {},
   "source": [
    "## Step 2: Setting up the computational domain\n",
    "\n",
    "In the third step the domain of the simulation is set-up. This is done by creating a mesh. The domain is specified by its coordinates XB = x, x',y,y',z,z', see figure and by the amount of cells the x,y,z directions are deivded in IJK = n(x), n(y), n(z).\n",
    "\n",
    "&MESH XB=0,2,0,4,0,2.5, IJK=20,40,25/\n",
    "\n",
    ":::{figure-md} XB coordinate definition in fds\n",
    "<img src=\"./figs/Coordinates.png\" width=\"20%\">\n",
    "\n",
    "XB coordinate definition in fds.\n",
    ":::\n",
    "\n",
    "The domain for this example is vizualized in figure .\n",
    "\n",
    ":::{figure-md} Geometry and dimensions of the room\n",
    "<img src=\"./figs/grid.png\" width=\"40%\">\n",
    "\n",
    "Vizualisation of the domain.\n",
    ":::"
   ]
  },
  {
   "cell_type": "markdown",
   "metadata": {},
   "source": [
    "## Step 3: duration of the simulation \n",
    "\n",
    "In the input file it should be specified how long the simulation is supposed to run. This can be done with the following statement, the simulation time is specified in seconds:\n",
    "\n",
    "`&TIME T_END = 60. /`\n",
    "\n",
    "Additionlly, the rate at which the output files are written should be speciied. This can be done with the following statement, where NFRAMES indicate how many outputfiles will be written during the simulation.  \n",
    "\n",
    "`&DUMP NFRAMES=60 /`\n"
   ]
  },
  {
   "cell_type": "markdown",
   "metadata": {},
   "source": [
    "## Step 4: Model openings \n",
    "\n",
    "The room has one door, this needs to be moddeled as an opening. The VENT command can be used to model openings, XB specifies the coordinates of the opening. \n",
    "\n",
    "&VENT XB=0.5,1.5,4,4,0,2, surf_ID='OPEN'/\n",
    "\n",
    "The geometry for this example is showen in figure\n",
    "\n",
    "\n",
    ":::{figure-md} Geometry and dimensions of the room\n",
    "<img src=\"./figs/Door.png\" width=\"15%\">\n",
    "\n",
    "The geometry of the room.\n",
    ":::\n",
    "\n",
    "**Hint** The implemented geometry can be check in the following way: \n",
    "* Save the fds input file \n",
    "* Let it run for a few seconds (running the fds file can be done from the command line, with fds filename.fds)\n",
    "* Open the smokeview output file and check the geometry"
   ]
  },
  {
   "cell_type": "markdown",
   "metadata": {},
   "source": [
    "## Step 5: Model the combustion \n",
    "\n",
    "This is done in 2 parts. First the fuel needs to be defined. A list with pre-defined fuels in fds can be found in the FDS user manual. In this example propane will be used as reaction fuel. The command for the input file is: \n",
    "\n",
    "&REAC FUEL = 'PROPANE'\n",
    "\n",
    "Next, the object that is burning needs to be defined. This will be done by using the following command. \n",
    "\n",
    "&OBST XB=0.5,1.5,1.5,2.5,0,0.5, SURF_ID='Fire'/\n",
    "\n",
    "* XB specifies the coordinates of the burning obstacle \n",
    "* SURF_ID specifies which boundary conditions should be added to the surface. The input file needs to contain a line which specifies this boundary conditions. If not all surface of the obstacle have the same properties, several surface idea's can be defined. \n",
    "\n",
    "In this example the fire is described by fixing the heat release rate of the obstacle. In the example the heat release rate will be fixed to 600 kW/$m^2$.\n",
    "\n",
    "&SURF ID = 'Fire', HRRPUA = 600/\n",
    "\n"
   ]
  },
  {
   "cell_type": "markdown",
   "metadata": {},
   "source": [
    "## STEP 6: Output\n",
    "\n",
    "In this example the temperature of the air near the ceiling will be measured/studied as output parameter. There are 2 main ways to do this. The first one is over a device and the second one is by a slice. \n",
    "\n",
    "**Devices**\n",
    "\n",
    "Devices in fds are used to include e.g. thermocouples, sprinklers, ... in the simulation. Every device gets several properties assigned.\n",
    "* Every device needs to be assigned a point or a span of the computational domain. This is specified by the coordinates XYZ. \n",
    "* Every device gets an ID. This is a label to identify the device in the output files. \n",
    "* A device can have a specified QUANTITY, which tells FDS what should be recorded. \n",
    "\n",
    "The command for the input file is: \n",
    "\n",
    "&DEVC ID='Air Temperature', XYZ = 1,2,1.5, QUANTITY = 'TEMPERATURE'\n",
    "\n",
    "With this line fds will record the temperature at the point x=1, y=2, z=2. \n",
    "\n",
    "**Slices**\n",
    "\n",
    "A slice file allows to record a gas phase quantity at a part of the domain. In this example the temperature at the plane y=2 will be chosen as property to record. \n",
    "* The position of the slice file can either be specified by XB or by PBX, PBY, PBZ. Where the latest, allow to indicate a plane, e.g. PBY = 2, indicates the plane y=2. \n",
    "* Similar to the device, the quantity that needs to be recorded needs to be specified.\n",
    "\n",
    "The command for the input file is:\n",
    "\n",
    "&SLCF PBY=2, QUANTITY='TEMPERATURE'\n",
    "\n",
    "The input file is not completed. The simulation can now be ran over the terminal with: fds filename.fds."
   ]
  },
  {
   "cell_type": "markdown",
   "metadata": {},
   "source": [
    "## Step 7: Reading the output\n",
    "\n",
    "\n",
    "The simulation has generated some output data. In this section it will be introduced, where you can find this data and how this can be read out. \n",
    "\n",
    "### 7.1 Smokeview\n",
    "The input file contained a slice file, this recorded the temperature over the plain y=2 during the simulation. The recorded temperature can be displayed in smokeview. First, the smokeview file needs to be opened, this can be done over the commandline by: smokeview filename.smv. To display the slice file, follow the following steps\n",
    "* Press right mouse button\n",
    "* Press Load/Unload\n",
    "* Press Slice\n",
    "* Press Temperature\n",
    "* Press y=2.0\n",
    "The slice file is now displayed, you can play with the setting of smokeview to change e.g. the framespeed. \n",
    "\n",
    "## 7.2 Reading out the device file \n",
    "The temperature measured by the device is stored in a csv file, filename_devc.csv. The data in the csv file can be read out and plotted with a programm of your preference. We would like to encourage you to read out the data and plot the data with Python. Bellow you can find the example for reading out the data with python. \n"
   ]
  },
  {
   "cell_type": "code",
   "execution_count": 2,
   "metadata": {},
   "outputs": [],
   "source": [
    "File_location = '../../../../data/fds_tutorial/tutorial_01/rundir/out_tutorial_01_devc.csv'\n",
    "\n",
    "import pandas as pd\n",
    "Temperature_devc = pd.read_csv(File_location, names=['Time', 'Temperature'], skiprows=[0,1])"
   ]
  },
  {
   "cell_type": "markdown",
   "metadata": {},
   "source": [
    "In the above code the data is read in using the pandas package. Pandas is a powerfull package from python for handling csv or excell files, more info on the package can be found here: . \n",
    "\n",
    "Now that the data has been imported, the plots can be generated. In order to do so the matplotlib.pyplot libary from python will be used."
   ]
  },
  {
   "cell_type": "code",
   "execution_count": 6,
   "metadata": {},
   "outputs": [
    {
     "data": {
      "text/plain": [
       "Text(0, 0.5, 'Temperature (˚C)')"
      ]
     },
     "execution_count": 6,
     "metadata": {},
     "output_type": "execute_result"
    },
    {
     "data": {
      "image/png": "[encoded data removed]",
      "text/plain": [
       "<Figure size 432x288 with 1 Axes>"
      ]
     },
     "metadata": {
      "needs_background": "light"
     },
     "output_type": "display_data"
    }
   ],
   "source": [
    "import matplotlib.pyplot as plt \n",
    "\n",
    "plt.figure()\n",
    "plt.plot(Temperature_devc['Time'], Temperature_devc['Temperature'])\n",
    "plt.xlabel('Time (seconds)')\n",
    "plt.ylabel('Temperature (˚C)')"
   ]
  },
  {
   "cell_type": "markdown",
   "metadata": {},
   "source": [
    "### 7.3 fds reader "
   ]
  },
  {
   "cell_type": "code",
   "execution_count": 1,
   "metadata": {},
   "outputs": [],
   "source": [
    "import fdsreader\n",
    "\n",
    "Simulation = fdsreader.Simulation('../../../../data/fds_tutorial/tutorial_01/rundir/')\n",
    "\n"
   ]
  },
  {
   "cell_type": "code",
   "execution_count": 5,
   "metadata": {},
   "outputs": [
    {
     "data": {
      "text/plain": [
       "[<matplotlib.lines.Line2D at 0x11c64ffa0>]"
      ]
     },
     "execution_count": 5,
     "metadata": {},
     "output_type": "execute_result"
    },
    {
     "data": {
      "image/png": "[encoded data removed]",
      "text/plain": [
       "<Figure size 432x288 with 1 Axes>"
      ]
     },
     "metadata": {
      "needs_background": "light"
     },
     "output_type": "display_data"
    }
   ],
   "source": [
    "plt.plot(Simulation.devices['Time'].data, Simulation.devices[\"TEMPERATURE_DEVICE\"].data)\n",
    "\n",
    "plt.xlabel('time / s')\n",
    "plt.ylabel('temperature in ˚C')"
   ]
  },
  {
   "cell_type": "markdown",
   "metadata": {},
   "source": [
    "## Extra exercises \n",
    "\n",
    "In this section you can find some exercises to make yourself more familiar with setting up an fds file. \n",
    "\n",
    "### Exercise 1: extend the current input file \n",
    "* Measure the temperature with a thermocouple on the line x=1, y = 1.5 every 0.5 cm in the z-direction. Make a plot with displaying the temperature measurements of all the thermocouples in the simulation. \n",
    "* Add a window to the room. The windows center should be located at x=1, y=2, z = 0. The window is 1m by 1m. \n",
    "* Measure the temperature at the plane x=1.\n",
    "\n",
    "### Exercise 2: setting up a new simulation\n",
    "Concider a one room garden house. The garden house has the following properties: \n",
    "* Dimensions: 3m x 3m x2m \n",
    "* The garden house has a door of 1.5 m height and 2m width\n",
    "* At both sides the garden house has a window in the middle of the wall with a width of 1m. The height of the windows is 0.5 m (located between 1m and 1.5m)\n",
    "* In the left back corner of the garden house is a object (dimensions 0.5 m x 0.5 m x 0.2 m), the object burns like acetone\n",
    "* Calculate the temperature at the planes (in x and y direction) slicing through the middle of the object \n",
    "* Install thermocouples with 0.2 m distance in a ray above the burning object. Starting 0.2 m above the object untill the ceiling. Plot the temperatures measured by these thermocouples. \n",
    "* Use a mesh with 0.1 m x 0.1 m x 0.1 m cubes for the simulation\n",
    "\n"
   ]
  },
  {
   "cell_type": "code",
   "execution_count": null,
   "metadata": {},
   "outputs": [],
   "source": []
  },
  {
   "cell_type": "code",
   "execution_count": null,
   "metadata": {},
   "outputs": [],
   "source": []
  }
 ],
 "metadata": {
  "kernelspec": {
   "display_name": "Python 3",
   "language": "python",
   "name": "python3"
  },
  "language_info": {
   "codemirror_mode": {
    "name": "ipython",
    "version": 3
   },
   "file_extension": ".py",
   "mimetype": "text/x-python",
   "name": "python",
   "nbconvert_exporter": "python",
   "pygments_lexer": "ipython3",
   "version": "3.8.9"
  }
 },
 "nbformat": 4,
 "nbformat_minor": 4
}
