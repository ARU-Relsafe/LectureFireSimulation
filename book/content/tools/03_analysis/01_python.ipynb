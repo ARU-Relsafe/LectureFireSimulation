{
 "cells": [
  {
   "cell_type": "markdown",
   "id": "73100a72",
   "metadata": {},
   "source": [
    "# Python"
   ]
  },
  {
   "cell_type": "markdown",
   "id": "7efcc0df",
   "metadata": {},
   "source": [
    "## Disclaimer\n",
    "\n",
    "This lecutre is not a programming lecture. However, for scientific data visualization and analysis, as well as for model development, programming skills are handy. Therefore these lecture notes offer the basics to be able to start using Python and understand how they work. All exercises can be done without writing code, but this lecutre can be used as a chance to start programming.\n",
    "\n",
    "If you see potential for your future work, there is plenty of material on Python programming in the world wide web. Yet, I would like to point out, that we offer a Python introduction within the lecure [Computer Science (in German)](https://firedynamics.github.io/LectureComputerScience).\n",
    "\n",
    "Beside this section, which gives an overview of the Python fundamentals, it will be assumed, that the reader is familiar with Python."
   ]
  },
  {
   "cell_type": "markdown",
   "id": "205e285d",
   "metadata": {},
   "source": [
    "## Why Python?\n",
    "\n",
    ":::{figure-md} fig-python-logo\n",
    "<img src=\"https://upload.wikimedia.org/wikipedia/commons/f/f8/Python_logo_and_wordmark.svg\" width=\"60%\">\n",
    "\n",
    "Python logo. Soruce: [Wikkimedia Commons](https://commons.wikimedia.org/wiki/File:Python_logo_and_wordmark.svg).\n",
    ":::\n",
    "\n",
    "\n",
    "In contrast to computer programs, Python scripts are not executed, but interpreted by a Python interpreter. This has advantages, like portability, and disadvantages, like potential performance issues.\n",
    "\n",
    "[Python](https://en.wikipedia.org/wiki/Python_(programming_language)) is widely spread in the scientific and engineering fields because\n",
    "\n",
    "* it is very simple to learn,\n",
    "* there exist a huge amount of modules to be easily used,\n",
    "* it is free, and\n",
    "* it is OS independent, interpreter are available for most common operating system, including HPC systems."
   ]
  },
  {
   "cell_type": "markdown",
   "id": "adfd92a4",
   "metadata": {},
   "source": [
    "## Basics\n",
    "\n",
    "### Python Interpreter\n",
    "\n",
    "A Python script is a text file, which can be executed in a shell, by invoking \n",
    "\n",
    "```\n",
    "> python script.py\n",
    "```\n",
    "\n",
    "where `script.py` is the path to the script. On some systems, there exist multiple versions of Python. To find out which version of Python is used, the `--version` can be used.\n",
    "\n",
    "For example:\n",
    "```\n",
    "> python --version\n",
    "Python 2.7.16\n",
    "\n",
    "> python3 --version\n",
    "Python 3.8.9\n",
    "```\n",
    "\n",
    "In this example, the version 3 of Python needs to be explicitly stated. In general, version 2 of Python should not be used anymore, yet there may exist OS components, which rely on verion 2, thus it is still always available.\n",
    "\n",
    "\n",
    "### Jupyter\n",
    "\n",
    "In this lecture, we will use [Jupyter](https://jupyter.org/) as an interactive Python editor. Jupyter notebooks allow to work with so called cells. They may be either Python code, that can be executed cell-wise, or markdown text, to include descriptive information to the script. In contrast to Jupyter, JupyterLab provides a new flexible interface for working with Jupyter notebooks.\n",
    "\n",
    "JupyterLab \n",
    "\n",
    "* runs in a webbrowser,\n",
    "* integrates an editor, a file browser and a terminal,\n",
    "* has a modular and flexible interface, and\n",
    "* provides means for extensions.\n",
    "\n",
    "Some very basic shortcuts in Jupyter\n",
    "* start editing cell: `Enter` or `double click`\n",
    "* execute cell: `Shift-Enter` or `Ctrl-Enter`\n",
    "* end edit mode of a cell: `Esc`\n",
    "* add new cells: `a` for a new cell above and `b` for a cell below\n",
    "* copy / paste / cut cell: `c` / `v` / `x`\n",
    "\n",
    "### Syntax\n",
    "\n",
    "\n",
    "\n",
    "### Operators\n",
    "\n",
    "### Variables\n",
    "\n",
    "### Functions"
   ]
  },
  {
   "cell_type": "markdown",
   "id": "688d1233",
   "metadata": {},
   "source": [
    "## Flow Control\n",
    "\n",
    "### Loops\n",
    "\n",
    "### Branching"
   ]
  },
  {
   "cell_type": "markdown",
   "id": "e0fd21de",
   "metadata": {},
   "source": [
    "## Modules\n",
    "\n",
    "### numpy\n",
    "\n",
    "### matplotlib\n",
    "\n",
    "### pandas\n",
    "\n",
    "### fdsreader"
   ]
  }
 ],
 "metadata": {
  "kernelspec": {
   "display_name": "Python 3",
   "language": "python",
   "name": "python3"
  },
  "language_info": {
   "codemirror_mode": {
    "name": "ipython",
    "version": 3
   },
   "file_extension": ".py",
   "mimetype": "text/x-python",
   "name": "python",
   "nbconvert_exporter": "python",
   "pygments_lexer": "ipython3",
   "version": "3.8.9"
  }
 },
 "nbformat": 4,
 "nbformat_minor": 5
}
