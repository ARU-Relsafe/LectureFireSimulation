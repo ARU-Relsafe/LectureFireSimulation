{
 "cells": [
  {
   "cell_type": "code",
   "execution_count": 1,
   "id": "33ce71c2-c02f-408c-9c98-f13a5b569b16",
   "metadata": {
    "tags": [
     "hide_cell"
    ]
   },
   "outputs": [],
   "source": [
    "import matplotlib\n",
    "import matplotlib.pyplot as plt\n",
    "import numpy as np\n",
    "import pandas as pd\n",
    "\n",
    "from IPython.display import display\n",
    "from PIL import Image\n",
    "\n",
    "import os\n",
    "# check for set environment variable JB_NOSHOW\n",
    "show = True\n",
    "if 'JB_NOSHOW' in os.environ:\n",
    "    show = False"
   ]
  },
  {
   "cell_type": "markdown",
   "id": "4f8ab829-11d4-449d-9ea5-029717797695",
   "metadata": {},
   "source": [
    "# Data Analysis I\n",
    "\n",
    "In this example we take a closer look at the `CHID_devc.csv` file and how to sort the different data series. For this we build on [Basic Example II](../01_basic/02_basic_example_ii) for the simulation setup and [Basic Example III](../01_basic/03_basic_example_iii) for reading the data."
   ]
  },
  {
   "cell_type": "markdown",
   "id": "19638790-f4cf-4ad9-96c2-22d5077b0593",
   "metadata": {},
   "source": [
    "## Read the Device Data\n",
    "\n",
    "At first we read the device (`DEVC`) data that is stored in `CHID_devc.csv` file. The principle structure is the same as the `CHID_hrr.csv` file discussed in Basic Example III. The first line contains the units, the second the column header and from the third onwards the data is provided. The column headers are corresponding to the device `ID`s. When setting up a simulation, consider providing useful `ID`s since they come in handy when processing the results.\n",
    "\n",
    "As in the other example, we read the data as Pandas DataFrame:"
   ]
  },
  {
   "cell_type": "code",
   "execution_count": null,
   "id": "737dad58-d92c-4a3b-9484-e99ddb83d22b",
   "metadata": {},
   "outputs": [],
   "source": [
    "# Set path to file.\n",
    "devc_path = os.path.join(\"data\", \"StecklerExample_devc.csv\")\n",
    "# Read CSV file as Pandas DataFrame.\n",
    "devc_df = pd.read_csv(devc_path, header=1)\n",
    "\n",
    "# Check result.\n",
    "devc_df.head()"
   ]
  },
  {
   "cell_type": "markdown",
   "id": "3d1758c1-29a1-4b0a-9041-0f838ae19bd2",
   "metadata": {},
   "source": [
    "## File\n",
    "\n",
    "```{literalinclude} ../01_basic/data/BasicExample2.fds\n",
    "```"
   ]
  },
  {
   "cell_type": "code",
   "execution_count": null,
   "id": "405aef61-fc1f-41da-898b-a17bc0509224",
   "metadata": {},
   "outputs": [],
   "source": []
  }
 ],
 "metadata": {
  "kernelspec": {
   "display_name": "Python 3 (ipykernel)",
   "language": "python",
   "name": "python3"
  },
  "language_info": {
   "codemirror_mode": {
    "name": "ipython",
    "version": 3
   },
   "file_extension": ".py",
   "mimetype": "text/x-python",
   "name": "python",
   "nbconvert_exporter": "python",
   "pygments_lexer": "ipython3",
   "version": "3.10.4"
  }
 },
 "nbformat": 4,
 "nbformat_minor": 5
}
